{
  "nbformat": 4,
  "nbformat_minor": 0,
  "metadata": {
    "colab": {
      "private_outputs": true,
      "provenance": [],
      "collapsed_sections": [
        "yLjJCtPM0KBk",
        "Iwf50b-R2tYG",
        "-oLEiFgy-5Pf",
        "TNVZ9zx19K6k",
        "rMDnDkt2B6du",
        "yiiVWRdJDDil",
        "1UUpS68QDMuG",
        "T5CmagL3EC8N",
        "9PIHJqyupx6M",
        "_-qAgymDpx6N",
        "Z-hykwinpx6N",
        "-Kee-DAl2viO",
        "gIfDvo9L0UH2"
      ]
    },
    "kernelspec": {
      "name": "python3",
      "display_name": "Python 3"
    },
    "language_info": {
      "name": "python"
    }
  },
  "cells": [
    {
      "cell_type": "markdown",
      "source": [
        "# **Seoul Bike Sharing Demand Prediction**\n",
        "\n"
      ],
      "metadata": {
        "id": "vncDsAP0Gaoa"
      }
    },
    {
      "cell_type": "markdown",
      "source": [
        "##### **Project Type**    - Regression\n",
        "##### **Contribution**    - Individual\n",
        "##### **A Project By**    - Vani Bhatt\n",
        "\n"
      ],
      "metadata": {
        "id": "beRrZCGUAJYm"
      }
    },
    {
      "cell_type": "code",
      "source": [
        "from google.colab import drive\n",
        "drive.mount('/content/drive')"
      ],
      "metadata": {
        "id": "oS7mJonNH2Tk"
      },
      "execution_count": null,
      "outputs": []
    },
    {
      "cell_type": "markdown",
      "source": [
        "# **Project Summary -**"
      ],
      "metadata": {
        "id": "FJNUwmbgGyua"
      }
    },
    {
      "cell_type": "markdown",
      "source": [
        "This project aims to enhance the mobility and convenience of the public through bike-sharing programs in metropolitan areas. One of the main challenges is maintaining a consistent supply of bikes for rental. Bike-sharing systems are automated and enable people to rent and return bikes at various locations. The project focuses on utilizing historical data on factors such as temperature and time to predict the demand for the bike-sharing program in Seoul.\n"
      ],
      "metadata": {
        "id": "F6v_1wHtG2nS"
      }
    },
    {
      "cell_type": "markdown",
      "source": [
        "* There were approximately 8760 records and 14 attributes in the dataset.\n",
        "* We started by importing the dataset, and necessary libraries and conducted exploratory data analysis (EDA).\n",
        "* There were no Outliers and null values found in the dataset.Created new variables such as weekend_weekdays, Data were transformed to ensure that it was compatible with machine learning models.\n",
        "* We handled target class imbalance using square root normalization.\n",
        "* Then finally cleaned and scaled data was sent to 10 various models, the metrics were made to evaluate the model, and we tuned the hyperparameters to make sure the right parameters were being passed to the model.\n",
        "* When developing a machine learning model, it is generally recommended to track multiple metrics because each one highlights distinct aspects of model performance. We are, focusing more on the R2 score and RMSE score.\n",
        "*  The R2 score is scale-independent, which means that it can be used to compare models that are fit to different target variables or to target variables that have different units of measurement. This is particularly useful when comparing models for different problems, as it allows for a direct comparison of the performance of the models, regardless of the scale of the target variable"
      ],
      "metadata": {
        "id": "L2l0Op3pv-AW"
      }
    },
    {
      "cell_type": "markdown",
      "source": [
        "# **Index**"
      ],
      "metadata": {
        "id": "Tt9Kh_qbwJhY"
      }
    },
    {
      "cell_type": "markdown",
      "source": [
        "1.   Problem Statement\n",
        "2.   Know Your Data\n",
        "3.   Understanding Your Variables\n",
        "4.   EDA\n",
        "5.   Data Cleaning\n",
        "6.   Feature Engineering\n",
        "7.   Model Building\n",
        "8.   Model Implementaion.\n",
        "9.   Conclusion"
      ],
      "metadata": {
        "id": "ydAvd1JRwN7L"
      }
    },
    {
      "cell_type": "markdown",
      "source": [
        "# **GitHub Link -**"
      ],
      "metadata": {
        "id": "w6K7xa23Elo4"
      }
    },
    {
      "cell_type": "markdown",
      "source": [
        "Provide your GitHub Link here."
      ],
      "metadata": {
        "id": "h1o69JH3Eqqn"
      }
    },
    {
      "cell_type": "markdown",
      "source": [
        "# **Problem Statement**\n"
      ],
      "metadata": {
        "id": "yQaldy8SH6Dl"
      }
    },
    {
      "cell_type": "markdown",
      "source": [
        "\n",
        "\n",
        "Currently Rental bikes are introduced in many urban cities for the enhancement of mobility comfort. It is important to make the rental bike available and accessible to the public at the right time as it lessens the waiting time. Eventually, proving a city with a stable supply of rental bikes becomes a major concern. The crucial part is the prediction of bike count required at each hour for the stable supply of rental bikes."
      ],
      "metadata": {
        "id": "DpeJGUA3kjGy"
      }
    },
    {
      "cell_type": "markdown",
      "source": [
        "**Data Description**\n",
        "\n",
        "\n",
        "\n",
        "**Fields : Description**\n",
        "\n",
        "Date : Date/month/year\n",
        "\n",
        "Rented Bike Count : Count of rented bikes per hour\n",
        "\n",
        "Hour : Hour of the day\n",
        "\n",
        "Tempareture : Temparature of the day\n",
        "\n",
        "Humidity : Humidity measure\n",
        "\n",
        "Windspeed : Windspeed(m/s)\n",
        "\n",
        "Visibility : Visibility Measure (10m)\n",
        "\n",
        "Dew Point Tempareture : Dew Point Tempareture Measure\n",
        "\n",
        "Solar Radiation : Solar Radiation measure\n",
        "\n",
        "Rainfall : Rainfall in mm\n",
        "\n",
        "Snowfall : Snowfall measure (cm)\n",
        "\n",
        "Seasons : 1=spring, 2=summer, 3=fall, 4=winter\n",
        "\n",
        "Holiday : Whether a holiday or not\n",
        "\n",
        "Functional Day : Whether a functional or not\n",
        "\n"
      ],
      "metadata": {
        "id": "A4GNOaabOAZB"
      }
    },
    {
      "cell_type": "markdown",
      "source": [
        "# **General Guidelines** : -  "
      ],
      "metadata": {
        "id": "mDgbUHAGgjLW"
      }
    },
    {
      "cell_type": "markdown",
      "source": [
        "1.   Well-structured, formatted, and commented code is required.\n",
        "2.   Exception Handling, Production Grade Code & Deployment Ready Code will be a plus. Those students will be awarded some additional credits.\n",
        "     \n",
        "     The additional credits will have advantages over other students during Star Student selection.\n",
        "       \n",
        "             [ Note: - Deployment Ready Code is defined as, the whole .ipynb notebook should be executable in one go\n",
        "                       without a single error logged. ]\n",
        "\n",
        "3.   Each and every logic should have proper comments.\n",
        "4. You may add as many number of charts you want. Make Sure for each and every chart the following format should be answered.\n",
        "        \n",
        "\n",
        "```\n",
        "# Chart visualization code\n",
        "```\n",
        "            \n",
        "\n",
        "*   Why did you pick the specific chart?\n",
        "*   What is/are the insight(s) found from the chart?\n",
        "* Will the gained insights help creating a positive business impact?\n",
        "Are there any insights that lead to negative growth? Justify with specific reason.\n",
        "\n",
        "5. You have to create at least 15 logical & meaningful charts having important insights.\n",
        "\n",
        "\n",
        "[ Hints : - Do the Vizualization in  a structured way while following \"UBM\" Rule.\n",
        "\n",
        "U - Univariate Analysis,\n",
        "\n",
        "B - Bivariate Analysis (Numerical - Categorical, Numerical - Numerical, Categorical - Categorical)\n",
        "\n",
        "M - Multivariate Analysis\n",
        " ]\n",
        "\n",
        "\n",
        "\n",
        "\n",
        "\n",
        "6. You may add more ml algorithms for model creation. Make sure for each and every algorithm, the following format should be answered.\n",
        "\n",
        "\n",
        "*   Explain the ML Model used and it's performance using Evaluation metric Score Chart.\n",
        "\n",
        "\n",
        "*   Cross- Validation & Hyperparameter Tuning\n",
        "\n",
        "*   Have you seen any improvement? Note down the improvement with updates Evaluation metric Score Chart.\n",
        "\n",
        "*   Explain each evaluation metric's indication towards business and the business impact pf the ML model used.\n",
        "\n",
        "\n",
        "\n",
        "\n",
        "\n",
        "\n",
        "\n",
        "\n",
        "\n",
        "\n",
        "\n",
        "\n",
        "\n",
        "\n",
        "\n",
        "\n",
        "\n",
        "\n"
      ],
      "metadata": {
        "id": "ZrxVaUj-hHfC"
      }
    },
    {
      "cell_type": "code",
      "source": [
        "'''\n",
        "Data Wrangling\n",
        "\n",
        "No duplct values\n",
        "No Nan & visualisation\n",
        "Date column to day, month,year and save day col 0,1 by weekday n weekend col n drop date,day, year\n",
        "N unique values in each col\n",
        "Changing dtype int of cols hour,month,weekdays_weekend to category\n",
        "\n",
        "Data Vizualization\n",
        "\n",
        "Month\n",
        "Count of Rented bikes according to Month\n",
        "\n",
        "weekdays_weekend\n",
        "Count of rented bikes according to weekdays (0) and weekends (1)\n",
        "\n",
        "Hour\n",
        "Hourly Count of rented bikes according to weekdays and weekends\n",
        "\n",
        "Count of Rented bikes according to Hour\n",
        "\n",
        "Functioning Day\n",
        "Barplt -Count of Rented bikes according to wheather it is a Functioning Day or not\n",
        "\n",
        "Pointplt -Hourly Count of Rented bikes according to wheather it is a Functioning Day or not\n",
        "\n",
        "Seasons\n",
        "Barplt-Count of Rented bikes according to Seasons\n",
        "Displt-Count of Rented bikes according to Seasons\n",
        "\n",
        "Hourly Count of Rented bikes according to seasons\n",
        "\n",
        "Holiday\n",
        "Count of Rented bikes according to Holiday\n",
        "\n",
        "Hourly Count of Rented bikes according to Holiday\n",
        "\n",
        "Feature Engineering & Data Pre-processing\n",
        "-  Analysis of Numerical variable of dtype int,flot\n",
        "\n",
        "Analysis of data distribution of each numerical feature\n",
        "-Numerical vs Rented_Bike_Count\n",
        "\n",
        "Analysing the relationship between\n",
        "'Rented_Bike_Count' and 'Temperature'\n",
        " 'Rented_Bike_Count' and 'Solar_Radiation'\n",
        " 'Rented_Bike_Count' and 'Snowfall'\n",
        " 'Rented_Bike_Count' and 'Rainfall'\n",
        "'Rented_Bike_Count' and 'Wind_speed'\n",
        "\n",
        "## Pair plot for the Count of Rented bikes according to Hour  & month\n",
        "- Regression plot\n",
        "Visualising the regression plot for all the numerical features\n",
        "\n",
        "-Normalise Rented_Bike_Count column data\n",
        "Data Distribution plot of Rented Bike Count with mean, median\n",
        "\n",
        "-Handling Outliers\n",
        "# Boxlpot for dependent variable Rented Bike Count to check outliers\n",
        "\n",
        "Applying square root to Rented Bike Count to improve skewness\n",
        "\n",
        "Boxplt- After applying sqrt on Rented Bike Count check wheather we still have outliers\n",
        "\n",
        "-Checking of Correlation between variables\n",
        "Checking in OLS Model\n",
        "Fit ols model and check summary\n",
        "\n",
        "Chart - Correlation Heatmap\n",
        "\n",
        "Create the dummy variables for categorical columns\n",
        " Assign all categorical features to a variable\n",
        "Copy df\n",
        "Categorical Encoding\n",
        "one hot encoding\n",
        "\n",
        "- Data Splitting\n",
        "Model Training\n",
        "Train Test split for regression\n",
        "\n",
        "Data Scaling\n",
        "Data Transformation using minmax scaler\n",
        "\n",
        "7.ML Model Implementation\n",
        "-LINEAR REGRESSION, RIDGE REGRESSION,  ELASTIC NET REGRESSION, KNeighbors Regressor,Support Vector Regressor,\n",
        "\n",
        "# Predict on model\n",
        "visualisation of actual and predicted values\n",
        "- best fit line on test data\n",
        "-comparing act n pred test data on last 20 points\n",
        "Cross- Validation Score\n",
        "\n",
        "-Decision Tree Regressor,\n",
        "Random Forest Regressor,\n",
        "Hyperparameter tuning-\n",
        "GridSearchCV - predict, Cross- Validation Score,Model Explainability\n",
        "\n",
        "-Decision Tree Regressor,\n",
        "AdaBoost\n",
        " predict,Cross- Validation Score, Model Explainability\n",
        "\n",
        "Xtreme Gradient Boosting,Light GBM\n",
        "Hyperparameter tuning-\n",
        "GridSearchCV - predict, Cross- Validation Score,Model Explainability\n",
        "\n",
        "-Performance of all the models\n",
        "'''"
      ],
      "metadata": {
        "id": "TJ68QqPrMcGw"
      },
      "execution_count": null,
      "outputs": []
    },
    {
      "cell_type": "markdown",
      "source": [
        "# ***Let's Begin !***"
      ],
      "metadata": {
        "id": "O_i_v8NEhb9l"
      }
    },
    {
      "cell_type": "markdown",
      "source": [
        "## ***1. Know Your Data***"
      ],
      "metadata": {
        "id": "HhfV-JJviCcP"
      }
    },
    {
      "cell_type": "markdown",
      "source": [
        "### Import Libraries"
      ],
      "metadata": {
        "id": "Y3lxredqlCYt"
      }
    },
    {
      "cell_type": "code",
      "source": [
        "# Import Libraries\n",
        "\n",
        "# Libraries for for data manipulation and visualisation\n",
        "import pandas as pd\n",
        "import numpy as np\n",
        "import matplotlib.pyplot as plt\n",
        "import seaborn as sns\n",
        "\n",
        "# Libraries for date column\n",
        "from datetime import datetime\n",
        "import datetime as dt\n",
        "\n",
        "# Other libraries for data preprocessing and scaling\n",
        "from sklearn.preprocessing import MinMaxScaler\n",
        "from sklearn.preprocessing import OneHotEncoder\n",
        "\n",
        "# ML Models for data traing, testing and tuning data\n",
        "from sklearn.linear_model import LinearRegression, Ridge, ElasticNet\n",
        "from sklearn.neighbors import KNeighborsRegressor\n",
        "from sklearn.tree import DecisionTreeRegressor\n",
        "from sklearn.ensemble import RandomForestRegressor, GradientBoostingRegressor, AdaBoostRegressor\n",
        "from sklearn.svm import SVR\n",
        "from xgboost import XGBRegressor\n",
        "from lightgbm import LGBMRegressor\n",
        "\n",
        "# For data traing and evaluation\n",
        "from sklearn.model_selection import cross_validate\n",
        "from sklearn.model_selection import train_test_split\n",
        "from sklearn.model_selection import GridSearchCV\n",
        "from sklearn.model_selection import cross_val_score\n",
        "\n",
        "# For evalution metrics\n",
        "from sklearn import metrics\n",
        "from sklearn.metrics import r2_score, mean_squared_error, mean_absolute_error, accuracy_score\n",
        "import warnings\n",
        "warnings.filterwarnings('ignore')\n",
        "\n",
        "%matplotlib inline\n",
        "\n",
        "# to set max column display\n",
        "pd.pandas.set_option('display.max_columns',None)"
      ],
      "metadata": {
        "id": "M8Vqi-pPk-HR"
      },
      "execution_count": null,
      "outputs": []
    },
    {
      "cell_type": "markdown",
      "source": [
        "### Dataset Loading"
      ],
      "metadata": {
        "id": "3RnN4peoiCZX"
      }
    },
    {
      "cell_type": "code",
      "source": [
        "# Load Dataset\n",
        "\n",
        "bike_data=pd.read_csv('/content/drive/MyDrive/AlmaBetter_assignments/Capstone Project-Seoul Bike Sharing Demand Prediction/SeoulBikeData.csv', encoding='latin')"
      ],
      "metadata": {
        "id": "4CkvbW_SlZ_R"
      },
      "execution_count": null,
      "outputs": []
    },
    {
      "cell_type": "markdown",
      "source": [
        "### Dataset First View"
      ],
      "metadata": {
        "id": "x71ZqKXriCWQ"
      }
    },
    {
      "cell_type": "code",
      "source": [
        "# Dataset First Look\n",
        "\n",
        "bike_data.head()"
      ],
      "metadata": {
        "id": "LWNFOSvLl09H"
      },
      "execution_count": null,
      "outputs": []
    },
    {
      "cell_type": "code",
      "source": [
        "# last rows of dataset\n",
        "\n",
        "bike_data.tail()"
      ],
      "metadata": {
        "id": "EIz2j60WlUV0"
      },
      "execution_count": null,
      "outputs": []
    },
    {
      "cell_type": "markdown",
      "source": [
        "### Dataset Rows & Columns count"
      ],
      "metadata": {
        "id": "7hBIi_osiCS2"
      }
    },
    {
      "cell_type": "code",
      "source": [
        "# Dataset Rows & Columns count\n",
        "\n",
        "bike_data.shape"
      ],
      "metadata": {
        "id": "Kllu7SJgmLij"
      },
      "execution_count": null,
      "outputs": []
    },
    {
      "cell_type": "markdown",
      "source": [
        "### Dataset Information"
      ],
      "metadata": {
        "id": "JlHwYmJAmNHm"
      }
    },
    {
      "cell_type": "code",
      "source": [
        "# Features of the dataset\n",
        "\n",
        "print('Features of the dataset: ')\n",
        "bike_data.columns"
      ],
      "metadata": {
        "id": "e9hRXRi6meOf"
      },
      "execution_count": null,
      "outputs": []
    },
    {
      "cell_type": "code",
      "source": [
        "# Dataset Info\n",
        "\n",
        "bike_data.info()"
      ],
      "metadata": {
        "id": "-l-aIMVPmjTC"
      },
      "execution_count": null,
      "outputs": []
    },
    {
      "cell_type": "code",
      "source": [
        "# Number of Unique values in each column\n",
        "\n",
        "bike_data.nunique()"
      ],
      "metadata": {
        "id": "SDDGIG_sm_sN"
      },
      "execution_count": null,
      "outputs": []
    },
    {
      "cell_type": "markdown",
      "source": [
        "#### Duplicate Values"
      ],
      "metadata": {
        "id": "35m5QtbWiB9F"
      }
    },
    {
      "cell_type": "markdown",
      "source": [
        "#### When we think why to remove duplicate values in our dataset , it's because of following reasons :\n",
        "\n",
        "*   'Duplication' just means that you have repeated the data in your dataset. This could be due to things like data entry errors or data collection methods. By removing duplication in our dataset, time and money are saved by not sending identical communications multiple times to the same person.\n",
        "\n",
        "\n"
      ],
      "metadata": {
        "id": "o1L9EhyYbg1y"
      }
    },
    {
      "cell_type": "code",
      "source": [
        "# Dataset Duplicate Value Count\n",
        "\n",
        "duplicates = len(bike_data[bike_data.duplicated()])\n",
        "print('Number of duplicate values in the dataset is = ',duplicates)"
      ],
      "metadata": {
        "id": "1sLdpKYkmox0"
      },
      "execution_count": null,
      "outputs": []
    },
    {
      "cell_type": "markdown",
      "source": [
        "#### Missing Values/Null Values"
      ],
      "metadata": {
        "id": "PoPl-ycgm1ru"
      }
    },
    {
      "cell_type": "code",
      "source": [
        "# Missing Values/Null Values Count\n",
        "\n",
        "bike_data.isna().sum()\n",
        "bike_data.isnull().sum()"
      ],
      "metadata": {
        "id": "GgHWkxvamxVg"
      },
      "execution_count": null,
      "outputs": []
    },
    {
      "cell_type": "code",
      "source": [
        "# Visualizing the missing values\n",
        "\n",
        "missing = pd.DataFrame((bike_data.isnull().sum())*100/bike_data.shape[0]).reset_index()\n",
        "\n",
        "missing"
      ],
      "metadata": {
        "id": "3q5wnI3om9sJ"
      },
      "execution_count": null,
      "outputs": []
    },
    {
      "cell_type": "code",
      "source": [
        "# Import library for visualize missing values in dataset\n",
        "\n",
        "%pip install missingno"
      ],
      "metadata": {
        "id": "BkFvOE5VYPCT"
      },
      "execution_count": null,
      "outputs": []
    },
    {
      "cell_type": "code",
      "source": [
        " # visualizing missing values in dataset\n",
        "\n",
        "import missingno as msno\n",
        "msno.bar(bike_data)"
      ],
      "metadata": {
        "id": "hnYNjm6CYYi2"
      },
      "execution_count": null,
      "outputs": []
    },
    {
      "cell_type": "markdown",
      "source": [
        "#### As we can see above there are no missing values or duplicate values present in the dataset.\n",
        "\n",
        "\n"
      ],
      "metadata": {
        "id": "f0bGtBZTZNIR"
      }
    },
    {
      "cell_type": "markdown",
      "source": [
        "### What did you know about your dataset?"
      ],
      "metadata": {
        "id": "H0kj-8xxnORC"
      }
    },
    {
      "cell_type": "markdown",
      "source": [
        "The dataset contains rows - 8760, columns - 14 and has no duplicated values and no missing values in the dataset. Dataset has 4 seansons.And there are some set of unique values in few columns and there is aslo rented bike count for for each day and for every hour in a 24 hours time frame in a span of a one year from 2017 to 2018."
      ],
      "metadata": {
        "id": "gfoNAAC-nUe_"
      }
    },
    {
      "cell_type": "markdown",
      "source": [
        "## ***2. Understanding Your Variables***"
      ],
      "metadata": {
        "id": "nA9Y7ga8ng1Z"
      }
    },
    {
      "cell_type": "code",
      "source": [
        "# Dataset Columns\n",
        "\n",
        "bike_data.columns"
      ],
      "metadata": {
        "id": "j7xfkqrt5Ag5"
      },
      "execution_count": null,
      "outputs": []
    },
    {
      "cell_type": "markdown",
      "source": [
        "Some of the columns name in the dataset are too large and clumsy, so we can chage them into some simple name and it doesn't affect our dataset end results."
      ],
      "metadata": {
        "id": "2pg2AH9Ze-pB"
      }
    },
    {
      "cell_type": "code",
      "source": [
        "# Renaming column names\n",
        "\n",
        "bike_data = bike_data.rename(columns = {'Rented Bike Count': 'Rented_Bike_Count',\n",
        "                                        'Temperature(°C)': 'Temperature',\n",
        "                                        'Humidity(%)' : 'Humidity',\n",
        "                                        'Wind speed (m/s)' : 'Wind_speed',\n",
        "                                        'Visibility (10m)' : 'Visibility',\n",
        "                                        'Dew point temperature(°C)' : 'Dew_point_temperature',\n",
        "                                        'Solar Radiation (MJ/m2)' : 'Solar_Radiation',\n",
        "                                        'Rainfall(mm)' : 'Rainfall',\n",
        "                                        'Snowfall (cm)' : 'Snowfall',\n",
        "                                        'Functioning Day' : 'Functioning_Day'})\n"
      ],
      "metadata": {
        "id": "94rP33yQfymY"
      },
      "execution_count": null,
      "outputs": []
    },
    {
      "cell_type": "code",
      "source": [
        "# Dataset Describe\n",
        "\n",
        "bike_data.describe().T"
      ],
      "metadata": {
        "id": "i2gNueGFnLCy"
      },
      "execution_count": null,
      "outputs": []
    },
    {
      "cell_type": "markdown",
      "source": [
        "## 3. ***Data Wrangling***"
      ],
      "metadata": {
        "id": "dauF4eBmngu3"
      }
    },
    {
      "cell_type": "markdown",
      "source": [
        "### Data Wrangling Code"
      ],
      "metadata": {
        "id": "bKJF3rekwFvQ"
      }
    },
    {
      "cell_type": "code",
      "source": [
        "# Write your code to make your dataset analysis ready."
      ],
      "metadata": {
        "id": "wk-9a2fpoLcV"
      },
      "execution_count": null,
      "outputs": []
    },
    {
      "cell_type": "markdown",
      "source": [
        "### Variables Description"
      ],
      "metadata": {
        "id": "PBTbrJXOngz2"
      }
    },
    {
      "cell_type": "markdown",
      "source": [
        "Answer Here"
      ],
      "metadata": {
        "id": "aJV4KIxSnxay"
      }
    },
    {
      "cell_type": "markdown",
      "source": [
        "Python reads 'Date' column as an object type basically it reads as a string, as the date column is very important to analyze the users behaviour so we need to convert it into datetime format then we split it into 3 column i.e 'Year' , 'Month' , 'Day' as a category data type."
      ],
      "metadata": {
        "id": "C6K4pxwpPCHx"
      }
    },
    {
      "cell_type": "markdown",
      "source": [
        "### Breaking the date column"
      ],
      "metadata": {
        "id": "du6pFhh7ReK4"
      }
    },
    {
      "cell_type": "code",
      "source": [
        "# Changing the 'Date' column into three  columns 'Year', 'Month', 'Day'\n",
        "\n",
        "bike_data['Date'] = bike_data['Date'].apply( lambda x: dt.datetime.strptime(x, '%d/%m/%Y'))"
      ],
      "metadata": {
        "id": "8HWGBfzRSP40"
      },
      "execution_count": null,
      "outputs": []
    },
    {
      "cell_type": "code",
      "source": [
        "bike_data['year'] = bike_data['Date'].dt.year\n",
        "bike_data['month'] = bike_data['Date'].dt.month\n",
        "bike_data['day'] = bike_data['Date'].dt.day_name()"
      ],
      "metadata": {
        "id": "8MNmCG85Tut-"
      },
      "execution_count": null,
      "outputs": []
    },
    {
      "cell_type": "code",
      "source": [
        "# Creating a new column of 'weekdays_weekends' and drop the columns 'Date', 'day', 'year'\n",
        "\n",
        "bike_data['weekdays_weekend']=bike_data['day'].apply(lambda x : 1 if x == 'Saturday' or x == 'Sunday'  else 0)\n",
        "bike_data = bike_data.drop(columns = ['Date', 'day', 'year'], axis=1 )"
      ],
      "metadata": {
        "id": "UVXyEFZJUUe-"
      },
      "execution_count": null,
      "outputs": []
    },
    {
      "cell_type": "markdown",
      "source": [
        "\n",
        "\n",
        "*   So we converted the 'date' column into 3 different column i.e 'year', 'month', 'day'.\n",
        "\n",
        "*   The 'year' column is our dataset is basically contain the 2 unique numbers, dataset contains the details from 2017 december to 2018 november so if I consider this as one year then we don't need the 'year' column so we drop it.\n",
        "\n",
        "*   The other column 'day', it contains the details about the each day of the month, for our relevence we don't need each day of each month data but we need the data about, if a day is a weekday or a weekend so we convert it into this format and drop the 'day' column.\n",
        "where ; 1 = weekend and 0 = weekday"
      ],
      "metadata": {
        "id": "IVc5BHaiWa3L"
      }
    },
    {
      "cell_type": "code",
      "source": [
        "# To display all rows in dataset\n",
        "pd.set_option('display.max_rows', None)\n",
        "\n",
        "# View of dataset after manupulations\n",
        "bike_data"
      ],
      "metadata": {
        "id": "qJB1WqG8UpGX"
      },
      "execution_count": null,
      "outputs": []
    },
    {
      "cell_type": "code",
      "source": [
        "bike_data.head()"
      ],
      "metadata": {
        "id": "3pqwuwCrbK-9"
      },
      "execution_count": null,
      "outputs": []
    },
    {
      "cell_type": "code",
      "source": [
        "# Dataset information after data cleaning\n",
        "\n",
        "bike_data.info()"
      ],
      "metadata": {
        "id": "HjFrfE1FcFRa"
      },
      "execution_count": null,
      "outputs": []
    },
    {
      "cell_type": "code",
      "source": [
        "# total value counts of column 'weekdays_weekends' according to saturday,sunday(1) and weekdays(0).\n",
        "\n",
        "bike_data['weekdays_weekend'].value_counts()"
      ],
      "metadata": {
        "id": "s8U81JBTcXPe"
      },
      "execution_count": null,
      "outputs": []
    },
    {
      "cell_type": "markdown",
      "source": [
        "### Check Unique Values for each variable."
      ],
      "metadata": {
        "id": "u3PMJOP6ngxN"
      }
    },
    {
      "cell_type": "markdown",
      "source": [
        "#### Changing data type"
      ],
      "metadata": {
        "id": "c4-QPHhacvoe"
      }
    },
    {
      "cell_type": "markdown",
      "source": [
        "\n",
        "\n",
        "*   As 'Hour', 'month', 'weekdays_weekend' columns are shown as a integer data type but actually it is a category data type. So we need to change this data type if we don't then, while doing the further analysis and if it correlated with this then the values are not actually true, so we can mislead by this.\n",
        "\n"
      ],
      "metadata": {
        "id": "25yr5k_pc93h"
      }
    },
    {
      "cell_type": "code",
      "source": [
        "# Again check Unique Values for each variable after few data processings.\n",
        "\n",
        "bike_data.nunique()"
      ],
      "metadata": {
        "id": "zms12Yq5n-jE"
      },
      "execution_count": null,
      "outputs": []
    },
    {
      "cell_type": "code",
      "source": [
        "# Change the int64 column into category column\n",
        "\n",
        "cols = ['Hour', 'month', 'weekdays_weekend']\n",
        "for col in cols:\n",
        "  bike_data[col] = bike_data[col].astype('category')"
      ],
      "metadata": {
        "id": "2LCCukWdfS2m"
      },
      "execution_count": null,
      "outputs": []
    },
    {
      "cell_type": "code",
      "source": [
        "# check result of data type\n",
        "\n",
        "bike_data.info()"
      ],
      "metadata": {
        "id": "7oiE6uJtgMAy"
      },
      "execution_count": null,
      "outputs": []
    },
    {
      "cell_type": "code",
      "source": [
        "# all the dataset columns\n",
        "\n",
        "bike_data.columns"
      ],
      "metadata": {
        "id": "YWqvm_dkhh2I"
      },
      "execution_count": null,
      "outputs": []
    },
    {
      "cell_type": "code",
      "source": [
        "# number of unique values of the 'weekdays_weekend' column\n",
        "\n",
        "bike_data['weekdays_weekend'].unique()"
      ],
      "metadata": {
        "id": "NBw-QdkvhhkM"
      },
      "execution_count": null,
      "outputs": []
    },
    {
      "cell_type": "markdown",
      "source": [
        "### What all manipulations have you done and insights you found?"
      ],
      "metadata": {
        "id": "MSa1f5Uengrz"
      }
    },
    {
      "cell_type": "markdown",
      "source": [
        "#### Insights\n",
        " - The dataset contains 8760 rows and 14 columns.\n",
        " - There are no duplicate values in the dataset.\n",
        " - There are no missing values in the dataset.\n",
        " - The 'Date' column has been converted into three columns: 'Year', 'Month', and 'Day'.\n",
        " - A new column called 'weekdays_weekend' has been created to indicate whether a day is a weekday or a weekend and dropped the date,year,day columns.\n",
        " - The 'Hour', 'month', and 'weekdays_weekend' columns have been converted into category data type."
      ],
      "metadata": {
        "id": "1OLTvmbTBnxO"
      }
    },
    {
      "cell_type": "markdown",
      "source": [
        "## ***4. Data Vizualization, Storytelling & Experimenting with charts : Understand the relationships between variables***"
      ],
      "metadata": {
        "id": "GF8Ens_Soomf"
      }
    },
    {
      "cell_type": "markdown",
      "source": [
        "## Exploratory Data Analysis (EDA)"
      ],
      "metadata": {
        "id": "I2nPplTPigiQ"
      }
    },
    {
      "cell_type": "markdown",
      "source": [
        "Answer Here."
      ],
      "metadata": {
        "id": "LbyXE7I1olp8"
      }
    },
    {
      "cell_type": "markdown",
      "source": [
        "### Why we perform Exploratory Data Analysis (EDA) ?\n",
        "\n",
        "*   An EDA is a thorough examination meant to uncover the underlying structure of a dataset and it is important for a company beacause it exposes trends, patterns, and relationships that are not readily apparent.\n",
        "\n",
        "### Univariate Analysis\n",
        "\n",
        "Why do you do univariate analysis?\n",
        "\n",
        "*   The key objective of Univariate analysis is to simply describe the data to find patterns within the data.\n",
        "\n",
        "### Analysis of Dependent Variable:\n",
        "\n",
        "What is a dependent variable in data analysis?\n",
        "\n",
        "*   we analyse our dependent variable, A dependent variable is a variable whose value will change depending on the value of another variable.\n",
        "\n",
        "### Analysis of categorical variables\n",
        "\n",
        "*   Our dependent variable is 'Rented Bike Count' so we need to analyse this column with the other columns by using some visualisation plot. First we analyse the category data type then we proceed with the numerical data type.\n",
        "\n",
        "\n",
        "\n"
      ],
      "metadata": {
        "id": "JTk6YlOEiUWA"
      }
    },
    {
      "cell_type": "markdown",
      "source": [
        "#### Chart - 1"
      ],
      "metadata": {
        "id": "0wOQAZs5pc--"
      }
    },
    {
      "cell_type": "markdown",
      "source": [
        "# Month"
      ],
      "metadata": {
        "id": "8VcCRhB8oW0y"
      }
    },
    {
      "cell_type": "markdown",
      "source": [
        "## Count of Rented bikes according to Month"
      ],
      "metadata": {
        "id": "SRjtiveyPk_s"
      }
    },
    {
      "cell_type": "code",
      "source": [
        "# Chart - 1 visualization code\n",
        "\n",
        "fig,ax=plt.subplots(figsize=(20,8))\n",
        "sns.barplot(data=bike_data, x = 'month', y = 'Rented_Bike_Count', ax=ax, capsize=2)\n",
        "ax.set(title='Count of Rented bikes according to Month')"
      ],
      "metadata": {
        "id": "7v_ESjsspbW7"
      },
      "execution_count": null,
      "outputs": []
    },
    {
      "cell_type": "markdown",
      "source": [
        "##### 1. Why did you pick the specific chart?"
      ],
      "metadata": {
        "id": "K5QZ13OEpz2H"
      }
    },
    {
      "cell_type": "markdown",
      "source": [
        "Answer Here"
      ],
      "metadata": {
        "id": "_wLC9DKRnxEx"
      }
    },
    {
      "cell_type": "markdown",
      "source": [
        "\n",
        "The seaborn barplot function can be used to create a bar plot with one categorical variable and one numerical variable, here we have taken numerical variable 'rented bike count' and categorical variable 'month' .Here bar plot shows  number of bikes rented out in each month."
      ],
      "metadata": {
        "id": "XESiWehPqBRc"
      }
    },
    {
      "cell_type": "markdown",
      "source": [
        "##### 2. What is/are the insight(s) found from the chart?"
      ],
      "metadata": {
        "id": "lQ7QKXXCp7Bj"
      }
    },
    {
      "cell_type": "markdown",
      "source": [
        "Answer Here"
      ],
      "metadata": {
        "id": "siFzmDBznn8j"
      }
    },
    {
      "cell_type": "markdown",
      "source": [
        "The bar plot shows that the number of bikes rented out is highest in june, July and september, and lowest in January and February."
      ],
      "metadata": {
        "id": "SqkYWjwaJzLa"
      }
    },
    {
      "cell_type": "markdown",
      "source": [
        "##### 3. Will the gained insights help creating a positive business impact?\n",
        "Are there any insights that lead to negative growth? Justify with specific reason."
      ],
      "metadata": {
        "id": "448CDAPjqfQr"
      }
    },
    {
      "cell_type": "markdown",
      "source": [
        "Answer Here"
      ],
      "metadata": {
        "id": "y98S60Ftnu69"
      }
    },
    {
      "cell_type": "markdown",
      "source": [
        "\n",
        "- The bar plot shows that the number of bikes rented out is highest in, june July and August,september and lowest in January and February.\n",
        "- This suggests that the company could increase revenue by marketing its bikes more heavily during the summer months.\n",
        "- Additionally, the company could consider offering discounts or promotions during the winter months to encourage people to rent bikes."
      ],
      "metadata": {
        "id": "HyWEbeV9KQzA"
      }
    },
    {
      "cell_type": "markdown",
      "source": [
        "#### Chart - 2"
      ],
      "metadata": {
        "id": "KSlN3yHqYklG"
      }
    },
    {
      "cell_type": "markdown",
      "source": [
        "# Weekdays_Weekend"
      ],
      "metadata": {
        "id": "vKISKpex7MzA"
      }
    },
    {
      "cell_type": "code",
      "source": [
        "# Chart - 2 visualization code"
      ],
      "metadata": {
        "id": "C6P3befzoee-"
      },
      "execution_count": null,
      "outputs": []
    },
    {
      "cell_type": "markdown",
      "source": [
        "### Count of rented bikes according to weekdays (0) and weekend (1)"
      ],
      "metadata": {
        "id": "cCbr3sVQoWb9"
      }
    },
    {
      "cell_type": "code",
      "source": [
        "# visualisation of Count of rented bikes according to weekdays (0) and weekend (1)\n",
        "\n",
        "fig, ax = plt.subplots(figsize=(10,8))\n",
        "sns.barplot(data = bike_data, x = 'weekdays_weekend', y = 'Rented_Bike_Count', ax = ax, capsize = .2)\n",
        "ax.set(title = 'Count of rented bikes according to weekdays (0) and weekends (1)')\n"
      ],
      "metadata": {
        "id": "R4YgtaqtYklH"
      },
      "execution_count": null,
      "outputs": []
    },
    {
      "cell_type": "markdown",
      "source": [
        "##### 1. Why did you pick the specific chart?"
      ],
      "metadata": {
        "id": "t6dVpIINYklI"
      }
    },
    {
      "cell_type": "markdown",
      "source": [
        "Answer Here."
      ],
      "metadata": {
        "id": "5aaW0BYyYklI"
      }
    },
    {
      "cell_type": "markdown",
      "source": [
        "The seaborn barplot function can be used to create a bar plot with one categorical variable and one numerical variable, here we have taken categorical variable 'weekdays_weekends' which has numericals values 0 and 1 where 0 means weekdays and 1 means weekends and numerical variable 'rented bike count'.Here bar plot shows  number of bikes rented out in weekdays and weekends."
      ],
      "metadata": {
        "id": "IwEkeOQIZxaQ"
      }
    },
    {
      "cell_type": "markdown",
      "source": [
        "##### 2. What is/are the insight(s) found from the chart?"
      ],
      "metadata": {
        "id": "ijmpgYnKYklI"
      }
    },
    {
      "cell_type": "markdown",
      "source": [
        "Answer Here"
      ],
      "metadata": {
        "id": "PSx9atu2YklI"
      }
    },
    {
      "cell_type": "markdown",
      "source": [
        "The bar plot shows that the number of bikes rented out is higher on weekends than on weekdays."
      ],
      "metadata": {
        "id": "gGNdMbNSK5Dl"
      }
    },
    {
      "cell_type": "markdown",
      "source": [
        "##### 3. Will the gained insights help creating a positive business impact?\n",
        "Are there any insights that lead to negative growth? Justify with specific reason."
      ],
      "metadata": {
        "id": "-JiQyfWJYklI"
      }
    },
    {
      "cell_type": "markdown",
      "source": [
        "Answer Here"
      ],
      "metadata": {
        "id": "BcBbebzrYklV"
      }
    },
    {
      "cell_type": "markdown",
      "source": [
        "- The bar plot shows that the number of bikes rented out is higher on weekends than on weekdays.\n",
        "- This suggests that the company could increase revenue by offering discounts or promotions on weekends.\n",
        "- Additionally, the company could consider opening more bike rental locations in areas where there is a high demand for bikes on weekends."
      ],
      "metadata": {
        "id": "ZTXBb0LFLYMF"
      }
    },
    {
      "cell_type": "markdown",
      "source": [
        "# HOUR"
      ],
      "metadata": {
        "id": "NaHsNmygdegJ"
      }
    },
    {
      "cell_type": "markdown",
      "source": [
        "#### Chart - 3"
      ],
      "metadata": {
        "id": "EM7whBJCYoAo"
      }
    },
    {
      "cell_type": "markdown",
      "source": [
        "### Hourly Count of rented bikes according to weekdays and weekends"
      ],
      "metadata": {
        "id": "OjmxwZr_pY4O"
      }
    },
    {
      "cell_type": "code",
      "source": [
        "# Chart - 3 visualization code\n",
        "\n",
        "fig, ax = plt.subplots(figsize = (20,8))\n",
        "sns.pointplot(data=bike_data, x = 'Hour', y = 'Rented_Bike_Count',hue='weekdays_weekend', ax = ax)\n",
        "ax.set(title = 'Hourly Count of rented bikes according to weekdays and weekends')"
      ],
      "metadata": {
        "id": "t6GMdE67YoAp"
      },
      "execution_count": null,
      "outputs": []
    },
    {
      "cell_type": "markdown",
      "source": [
        "##### 1. Why did you pick the specific chart?"
      ],
      "metadata": {
        "id": "fge-S5ZAYoAp"
      }
    },
    {
      "cell_type": "markdown",
      "source": [
        "Answer Here."
      ],
      "metadata": {
        "id": "5dBItgRVYoAp"
      }
    },
    {
      "cell_type": "markdown",
      "source": [
        "seaborn is a Python data visualization library based on matplotlib. It provides a high-level interface for creating informative and attractive statistical graphics. seaborn.pointplot() is a function in seaborn that helps to draw point estimates and confidence intervals using scatter plots. A point plot represents an estimate of central tendency for a numeric variable by the position of the scatter plot points and provides some indication of the uncertainty around that estimate using error bars"
      ],
      "metadata": {
        "id": "tigJLt8YjFd7"
      }
    },
    {
      "cell_type": "markdown",
      "source": [
        "##### 2. What is/are the insight(s) found from the chart?"
      ],
      "metadata": {
        "id": "85gYPyotYoAp"
      }
    },
    {
      "cell_type": "markdown",
      "source": [
        "Answer Here"
      ],
      "metadata": {
        "id": "4jstXR6OYoAp"
      }
    },
    {
      "cell_type": "markdown",
      "source": [
        "The bar plot shows that the number of bikes rented out is highest in the afternoon and lowest in the morning."
      ],
      "metadata": {
        "id": "lvdCmvFaMrbI"
      }
    },
    {
      "cell_type": "markdown",
      "source": [
        "##### 3. Will the gained insights help creating a positive business impact?\n",
        "Are there any insights that lead to negative growth? Justify with specific reason."
      ],
      "metadata": {
        "id": "RoGjAbkUYoAp"
      }
    },
    {
      "cell_type": "markdown",
      "source": [
        "Answer Here"
      ],
      "metadata": {
        "id": "zfJ8IqMcYoAp"
      }
    },
    {
      "cell_type": "markdown",
      "source": [
        "### Conclusion\n",
        "\n",
        "- Based on the EDA, we can see that the number of bikes rented out is highest in July and August, on weekends, and in the afternoon.\n",
        "- This information can be used to make decisions about how to market the bike rental business and how to allocate resources."
      ],
      "metadata": {
        "id": "W6JFbSBdO7QU"
      }
    },
    {
      "cell_type": "markdown",
      "source": [
        "#### Chart - 4"
      ],
      "metadata": {
        "id": "4Of9eVA-YrdM"
      }
    },
    {
      "cell_type": "markdown",
      "source": [
        "# Hour"
      ],
      "metadata": {
        "id": "XwdG_ZGxE472"
      }
    },
    {
      "cell_type": "markdown",
      "source": [
        "## Count of Rented bikes according to Hour"
      ],
      "metadata": {
        "id": "RaCbJQgUqOzM"
      }
    },
    {
      "cell_type": "code",
      "source": [
        "# Chart - 4 visualization code\n",
        "\n",
        "fig, ax = plt.subplots(figsize = (20, 8))\n",
        "sns.barplot(data=bike_data, x='Hour', y= 'Rented_Bike_Count', ax=ax, capsize=.2)\n",
        "ax.set(title='Count of Rented bikes according to Hour')\n",
        "\n"
      ],
      "metadata": {
        "id": "irlUoxc8YrdO"
      },
      "execution_count": null,
      "outputs": []
    },
    {
      "cell_type": "markdown",
      "source": [
        "##### 1. Why did you pick the specific chart?"
      ],
      "metadata": {
        "id": "iky9q4vBYrdO"
      }
    },
    {
      "cell_type": "markdown",
      "source": [
        "Answer Here."
      ],
      "metadata": {
        "id": "aJRCwT6DYrdO"
      }
    },
    {
      "cell_type": "markdown",
      "source": [
        "A bar plot represents an aggregate or statistical estimate for a numeric variable with the height of each rectangle and indicates the uncertainty around that estimate using an error bar. Bar plots include 0 in the axis range, and they are a good choice when 0 is a meaningful value for the variable to take."
      ],
      "metadata": {
        "id": "ikq42ClWnIQW"
      }
    },
    {
      "cell_type": "markdown",
      "source": [
        "##### 2. What is/are the insight(s) found from the chart?"
      ],
      "metadata": {
        "id": "F6T5p64dYrdO"
      }
    },
    {
      "cell_type": "markdown",
      "source": [
        "Answer Here"
      ],
      "metadata": {
        "id": "Xx8WAJvtYrdO"
      }
    },
    {
      "cell_type": "markdown",
      "source": [
        "The bar plot shows that the number of bikes rented out is highest in the afternoon and lowest in the morning."
      ],
      "metadata": {
        "id": "gGwPp4D2Pf5J"
      }
    },
    {
      "cell_type": "markdown",
      "source": [
        "##### 3. Will the gained insights help creating a positive business impact?\n",
        "Are there any insights that lead to negative growth? Justify with specific reason."
      ],
      "metadata": {
        "id": "y-Ehk30pYrdP"
      }
    },
    {
      "cell_type": "markdown",
      "source": [
        "Answer Here"
      ],
      "metadata": {
        "id": "jLNxxz7MYrdP"
      }
    },
    {
      "cell_type": "markdown",
      "source": [
        "- Based on the EDA, we can see that the number of bikes rented out is highest in July and August, on weekends, and in the afternoon.\n",
        "- This information can be used to make decisions about how to market the bike rental business and how to allocate resources."
      ],
      "metadata": {
        "id": "T5xa4u0iP1E1"
      }
    },
    {
      "cell_type": "markdown",
      "source": [
        "# Functioning Day"
      ],
      "metadata": {
        "id": "Ykg6L-MXI2zS"
      }
    },
    {
      "cell_type": "markdown",
      "source": [
        "#### Chart - 5"
      ],
      "metadata": {
        "id": "bamQiAODYuh1"
      }
    },
    {
      "cell_type": "code",
      "source": [
        "# Chart - 5 visualization code"
      ],
      "metadata": {
        "id": "-T16vzNVqxjh"
      },
      "execution_count": null,
      "outputs": []
    },
    {
      "cell_type": "markdown",
      "source": [
        "### Count of Rented bikes according to wheather it is a Functioning Day or not"
      ],
      "metadata": {
        "id": "mLAthfqAqi6v"
      }
    },
    {
      "cell_type": "code",
      "source": [
        "# visualising Count of Rented bikes according to wheather it is a Functioning Day or not\n",
        "\n",
        "fig, ax = plt.subplots(figsize = (10, 8))\n",
        "sns.barplot(data = bike_data, x = 'Functioning_Day', y = 'Rented_Bike_Count', ax = ax, capsize=.2)\n",
        "ax.set(title='Count of Rented bikes according to Functioning Day')"
      ],
      "metadata": {
        "id": "TIJwrbroYuh3"
      },
      "execution_count": null,
      "outputs": []
    },
    {
      "cell_type": "markdown",
      "source": [
        "##### 1. Why did you pick the specific chart?"
      ],
      "metadata": {
        "id": "QHF8YVU7Yuh3"
      }
    },
    {
      "cell_type": "markdown",
      "source": [
        "Answer Here."
      ],
      "metadata": {
        "id": "dcxuIMRPYuh3"
      }
    },
    {
      "cell_type": "markdown",
      "source": [
        "\n",
        "A bar plot represents an aggregate or statistical estimate for a numeric variable with the height of each rectangle and indicates the uncertainty around that estimate using an error bar. Bar plots include 0 in the axis range, and they are a good choice when 0 is a meaningful value for the variable to take."
      ],
      "metadata": {
        "id": "A3Sh8_U3p5xP"
      }
    },
    {
      "cell_type": "markdown",
      "source": [
        "##### 2. What is/are the insight(s) found from the chart?"
      ],
      "metadata": {
        "id": "GwzvFGzlYuh3"
      }
    },
    {
      "cell_type": "markdown",
      "source": [
        "Answer Here"
      ],
      "metadata": {
        "id": "uyqkiB8YYuh3"
      }
    },
    {
      "cell_type": "markdown",
      "source": [
        "The bar plot shows that the number of bikes rented out is higher on functioning days than on non-functioning days."
      ],
      "metadata": {
        "id": "23oSLu8fQPVx"
      }
    },
    {
      "cell_type": "markdown",
      "source": [
        "##### 3. Will the gained insights help creating a positive business impact?\n",
        "Are there any insights that lead to negative growth? Justify with specific reason."
      ],
      "metadata": {
        "id": "qYpmQ266Yuh3"
      }
    },
    {
      "cell_type": "markdown",
      "source": [
        "Answer Here"
      ],
      "metadata": {
        "id": "_WtzZ_hCYuh4"
      }
    },
    {
      "cell_type": "markdown",
      "source": [
        "\n",
        "- The insights gained from the charts can help create a positive business impact by allowing the bike rental company to make informed decisions about how to market their business and allocate their resources.\n",
        " For example, the company could use the insights to target their marketing campaigns to the days and times when bike rentals are most popular, or to focus on areas where there is a high demand for bike rentals.\n",
        "  Additionally, the company could use the insights to make decisions about how many bikes to stock at each location, or how many staff to have on duty during peak times.\n",
        "\n",
        "- However, there are also some insights that could lead to negative growth.\n",
        "For example, if the company finds that bike rentals are most popular in areas that are already saturated with bike rental companies,\n",
        "this could lead to increased competition and lower prices, which could in turn lead to decreased profits for the company.\n",
        "Additionally, if the company finds that bike rentals are most popular during certain times of the day or week,\n",
        " this could lead to increased demand for bikes at those times, which could in turn lead to shortages of bikes and lost revenue.\n",
        "\n",
        "- Overall, the insights gained from the charts can be used to create a positive business impact,\n",
        " but it is important to be aware of the potential negative consequences of these insights as well.\n"
      ],
      "metadata": {
        "id": "NH8wlP00RTT-"
      }
    },
    {
      "cell_type": "markdown",
      "source": [
        "#### Chart - 6"
      ],
      "metadata": {
        "id": "OH-pJp9IphqM"
      }
    },
    {
      "cell_type": "code",
      "source": [
        "# Chart - 6 visualization code"
      ],
      "metadata": {
        "id": "jqNXp7b0sDql"
      },
      "execution_count": null,
      "outputs": []
    },
    {
      "cell_type": "markdown",
      "source": [
        "### Hourly Count of Rented bikes according to wheather it is a Functioning Day or not"
      ],
      "metadata": {
        "id": "1qgX8pYYsGII"
      }
    },
    {
      "cell_type": "code",
      "source": [
        "# visualising Count of Rented bikes according to wheather it is a Functioning Day or not in point plot\n",
        "\n",
        "fig, ax=plt.subplots(figsize=(20,8))\n",
        "sns.pointplot(data=bike_data, x = 'Hour', y='Rented_Bike_Count', hue='Functioning_Day', ax=ax)\n",
        "ax.set(title='Hourly Count of Rented bikes according to Functioning Day')\n"
      ],
      "metadata": {
        "id": "kuRf4wtuphqN"
      },
      "execution_count": null,
      "outputs": []
    },
    {
      "cell_type": "markdown",
      "source": [
        "##### 1. Why did you pick the specific chart?"
      ],
      "metadata": {
        "id": "bbFf2-_FphqN"
      }
    },
    {
      "cell_type": "markdown",
      "source": [
        "Answer Here."
      ],
      "metadata": {
        "id": "loh7H2nzphqN"
      }
    },
    {
      "cell_type": "markdown",
      "source": [
        "Point plots can be more useful than bar plots for focusing comparisons between different levels of one or more categorical variables. They are particularly adept at showing interactions: how the relationship between levels of one categorical variable changes across levels of a second categorical variable. The lines that join each point from the same hue level allow interactions to be judged by differences in slope, which is easier for the eyes than comparing the heights of several groups of points or bars."
      ],
      "metadata": {
        "id": "DYG1dB0PtQXL"
      }
    },
    {
      "cell_type": "markdown",
      "source": [
        "##### 2. What is/are the insight(s) found from the chart?"
      ],
      "metadata": {
        "id": "_ouA3fa0phqN"
      }
    },
    {
      "cell_type": "markdown",
      "source": [
        "Answer Here"
      ],
      "metadata": {
        "id": "VECbqPI7phqN"
      }
    },
    {
      "cell_type": "markdown",
      "source": [
        "\n",
        "- The point plot shows that the number of bikes rented out is higher on functioning days than on non-functioning days,\n",
        "and that this difference is most pronounced in the afternoon."
      ],
      "metadata": {
        "id": "99bPWxAaR-pM"
      }
    },
    {
      "cell_type": "markdown",
      "source": [
        "##### 3. Will the gained insights help creating a positive business impact?\n",
        "Are there any insights that lead to negative growth? Justify with specific reason."
      ],
      "metadata": {
        "id": "Seke61FWphqN"
      }
    },
    {
      "cell_type": "markdown",
      "source": [
        "Answer Here"
      ],
      "metadata": {
        "id": "DW4_bGpfphqN"
      }
    },
    {
      "cell_type": "markdown",
      "source": [
        "- The insights gained from the charts can help create a positive business impact by allowing the bike rental company to make informed decisions about how to market their business and allocate their resources.\n",
        " For example, the company could use the insights to target their marketing campaigns to the days and times when bike rentals are most popular, or to focus on areas where there is a high demand for bike rentals.\n",
        "  Additionally, the company could use the insights to make decisions about how many bikes to stock at each location, or how many staff to have on duty during peak times.\n",
        "\n",
        "- However, there are also some insights that could lead to negative growth.\n",
        "For example, if the company finds that bike rentals are most popular in areas that are already saturated with bike rental companies,\n",
        "this could lead to increased competition and lower prices, which could in turn lead to decreased profits for the company.\n",
        "Additionally, if the company finds that bike rentals are most popular during certain times of the day or week,\n",
        " this could lead to increased demand for bikes at those times, which could in turn lead to shortages of bikes and lost revenue.\n",
        "\n",
        "- Overall, the insights gained from the charts can be used to create a positive business impact,\n",
        " but it is important to be aware of the potential negative consequences of these insights as well."
      ],
      "metadata": {
        "id": "gb3qMlWUSbvt"
      }
    },
    {
      "cell_type": "markdown",
      "source": [
        "#### Chart - 7"
      ],
      "metadata": {
        "id": "PIIx-8_IphqN"
      }
    },
    {
      "cell_type": "markdown",
      "source": [
        "# Seasons"
      ],
      "metadata": {
        "id": "y1sIe14eNQM6"
      }
    },
    {
      "cell_type": "code",
      "source": [
        "# Chart - 7 visualization code"
      ],
      "metadata": {
        "id": "PMf-mVKRsc_k"
      },
      "execution_count": null,
      "outputs": []
    },
    {
      "cell_type": "markdown",
      "source": [
        "## Count of Rented bikes according to Seasons"
      ],
      "metadata": {
        "id": "8B31WA43sjMR"
      }
    },
    {
      "cell_type": "code",
      "source": [
        "# Count of Rented bikes according to Seasons\n",
        "\n",
        "fig,ax=plt.subplots(figsize=(15,8))\n",
        "sns.barplot(data=bike_data, x='Seasons', y='Rented_Bike_Count',ax=ax,capsize=.2)\n",
        "ax.set(title='Count of Rented bikes according to Seasons')\n"
      ],
      "metadata": {
        "id": "lqAIGUfyphqO"
      },
      "execution_count": null,
      "outputs": []
    },
    {
      "cell_type": "markdown",
      "source": [
        "##### 1. Why did you pick the specific chart?"
      ],
      "metadata": {
        "id": "t27r6nlMphqO"
      }
    },
    {
      "cell_type": "markdown",
      "source": [
        "Answer Here."
      ],
      "metadata": {
        "id": "iv6ro40sphqO"
      }
    },
    {
      "cell_type": "markdown",
      "source": [
        "seaborn.barplot() method is used to draw a barplot. A bar plot represents an estimate of central tendency for a numeric variable with the height of each rectangle and provides some indication of the uncertainty around that estimate using error bars.  It provides beautiful default styles and color palettes to make statistical plots more attractive."
      ],
      "metadata": {
        "id": "9-02HBkIvOvH"
      }
    },
    {
      "cell_type": "markdown",
      "source": [
        "##### 2. What is/are the insight(s) found from the chart?"
      ],
      "metadata": {
        "id": "r2jJGEOYphqO"
      }
    },
    {
      "cell_type": "markdown",
      "source": [
        "Answer Here"
      ],
      "metadata": {
        "id": "Po6ZPi4hphqO"
      }
    },
    {
      "cell_type": "markdown",
      "source": [
        "\n",
        "- The bar plot shows that the number of bikes rented out is highest in the summer and lowest in the winter."
      ],
      "metadata": {
        "id": "nXntNbOjS4eZ"
      }
    },
    {
      "cell_type": "markdown",
      "source": [
        "##### 3. Will the gained insights help creating a positive business impact?\n",
        "Are there any insights that lead to negative growth? Justify with specific reason."
      ],
      "metadata": {
        "id": "b0JNsNcRphqO"
      }
    },
    {
      "cell_type": "markdown",
      "source": [
        "Answer Here"
      ],
      "metadata": {
        "id": "xvSq8iUTphqO"
      }
    },
    {
      "cell_type": "markdown",
      "source": [
        "- The insights gained from the charts can help create a positive business impact by allowing the bike rental company to make informed decisions about how to market their business and allocate their resources.\n",
        " For example, the company could use the insights to target their marketing campaigns to the seasons when bike rentals are most popular, or to focus on areas where there is a high demand for bike rentals during those seasons.\n",
        " Additionally, the company could use the insights to make decisions about how many bikes to stock at each location, or how many staff to have on duty during peak times.\n",
        "\n",
        "- However, there are also some insights that could lead to negative growth.\n",
        "For example, if the company finds that bike rentals are most popular in areas that are already saturated with bike rental companies,\n",
        "this could lead to increased competition and lower prices, which could in turn lead to decreased profits for the company.\n",
        "Additionally, if the company finds that bike rentals are most popular during certain times of the year,\n",
        " this could lead to increased demand for bikes at those times, which could in turn lead to shortages of bikes and lost revenue.\n",
        "\n",
        "- Overall, the insights gained from the charts can be used to create a positive business impact,\n",
        " but it is important to be aware of the potential negative consequences of these insights as well."
      ],
      "metadata": {
        "id": "nafHCYCpTDHB"
      }
    },
    {
      "cell_type": "markdown",
      "source": [
        "#### Chart - 8"
      ],
      "metadata": {
        "id": "BZR9WyysphqO"
      }
    },
    {
      "cell_type": "code",
      "source": [
        "# Chart - 8 visualization code"
      ],
      "metadata": {
        "id": "p7bdmVs-svx-"
      },
      "execution_count": null,
      "outputs": []
    },
    {
      "cell_type": "markdown",
      "source": [
        "### Count of Rented bikes according to Seasons"
      ],
      "metadata": {
        "id": "NT3jV0Rcs46k"
      }
    },
    {
      "cell_type": "code",
      "source": [
        "# Visualising the count of rented bikes according to Seasons in bar plot\n",
        "\n",
        "sns.displot(data=bike_data, x='Rented_Bike_Count', hue='Seasons', col='Seasons')"
      ],
      "metadata": {
        "id": "lxNQvFJaEpkz"
      },
      "execution_count": null,
      "outputs": []
    },
    {
      "cell_type": "markdown",
      "source": [
        "### Hourly Count of Rented bikes according to seasons"
      ],
      "metadata": {
        "id": "zHisFCZTU7on"
      }
    },
    {
      "cell_type": "code",
      "source": [
        "# Visualising the count of rented bikes according to Seasons in point plot\n",
        "\n",
        "fig,ax=plt.subplots(figsize=(20,8))\n",
        "sns.pointplot(data=bike_data,x='Hour',y='Rented_Bike_Count', hue='Seasons',ax=ax)\n",
        "ax.set(title='Hourly Count of Rented bikes according to seasons')"
      ],
      "metadata": {
        "id": "TdPTWpAVphqO"
      },
      "execution_count": null,
      "outputs": []
    },
    {
      "cell_type": "markdown",
      "source": [
        "##### 1. Why did you pick the specific chart?"
      ],
      "metadata": {
        "id": "jj7wYXLtphqO"
      }
    },
    {
      "cell_type": "markdown",
      "source": [
        "Answer Here."
      ],
      "metadata": {
        "id": "Ob8u6rCTphqO"
      }
    },
    {
      "cell_type": "markdown",
      "source": [
        "- A point plot is a type of scatter plot that is used to visualize the relationship between two quantitative variables.\n",
        "In this case, the x-axis represents the hour of the day and the y-axis represents the number of bikes rented out. The different colors represent different seasons."
      ],
      "metadata": {
        "id": "HLkz3nv7Q7fk"
      }
    },
    {
      "cell_type": "markdown",
      "source": [
        "##### 2. What is/are the insight(s) found from the chart?"
      ],
      "metadata": {
        "id": "eZrbJ2SmphqO"
      }
    },
    {
      "cell_type": "markdown",
      "source": [
        "Answer Here"
      ],
      "metadata": {
        "id": "mZtgC_hjphqO"
      }
    },
    {
      "cell_type": "markdown",
      "source": [
        "- The point plot shows that the number of bikes rented out is higher in the summer months than in the winter months.\n",
        "- The number of bikes rented out is also higher in the afternoon than in the morning.\n",
        "- There is a slight increase in the number of bikes rented out on weekends compared to weekdays."
      ],
      "metadata": {
        "id": "LJ1KSY15TyC-"
      }
    },
    {
      "cell_type": "markdown",
      "source": [
        "##### 3. Will the gained insights help creating a positive business impact?\n",
        "Are there any insights that lead to negative growth? Justify with specific reason."
      ],
      "metadata": {
        "id": "rFu4xreNphqO"
      }
    },
    {
      "cell_type": "markdown",
      "source": [
        "Answer Here"
      ],
      "metadata": {
        "id": "ey_0qi68phqO"
      }
    },
    {
      "cell_type": "markdown",
      "source": [
        "- The insights gained from the charts can help create a positive business impact by allowing the bike rental company to make informed decisions about how to market their business and allocate their resources.\n",
        " For example, the company could use the insights to target their marketing campaigns to the times and days when bike rentals are most popular, or to focus on areas where there is a high demand for bike rentals.\n",
        " Additionally, the company could use the insights to make decisions about how many bikes to stock at each location, or how many staff to have on duty during peak times.\n",
        "\n",
        "- However, there are also some insights that could lead to negative growth.\n",
        "For example, if the company finds that bike rentals are most popular in areas that are already saturated with bike rental companies,\n",
        "this could lead to increased competition and lower prices, which could in turn lead to decreased profits for the company.\n",
        "Additionally, if the company finds that bike rentals are most popular during certain times of the day or week,\n",
        " this could lead to increased demand for bikes at those times, which could in turn lead to shortages of bikes and lost revenue.\n",
        "\n",
        "- Overall, the insights gained from the charts can be used to create a positive business impact,\n",
        " but it is important to be aware of the potential negative consequences of these insights as well."
      ],
      "metadata": {
        "id": "GZZly345Ua4f"
      }
    },
    {
      "cell_type": "markdown",
      "source": [
        "#### Chart - 9"
      ],
      "metadata": {
        "id": "YJ55k-q6phqO"
      }
    },
    {
      "cell_type": "code",
      "source": [
        "# Chart - 9 visualization code"
      ],
      "metadata": {
        "id": "ZjGL8uPztxfc"
      },
      "execution_count": null,
      "outputs": []
    },
    {
      "cell_type": "markdown",
      "source": [
        "# Holiday"
      ],
      "metadata": {
        "id": "wN5TQUMBQtDj"
      }
    },
    {
      "cell_type": "markdown",
      "source": [
        "## Count of Rented bikes according to Holiday"
      ],
      "metadata": {
        "id": "uBms2nL-t4hK"
      }
    },
    {
      "cell_type": "code",
      "source": [
        "# Visualising the Count of Rented bikes according to Holiday\n",
        "\n",
        "fig,ax=plt.subplots(figsize=(15,8))\n",
        "sns.barplot(data=bike_data, x='Holiday', y='Rented_Bike_Count', ax=ax, capsize=.2)\n",
        "ax.set(title='Count of Rented bikes according to Holiday')"
      ],
      "metadata": {
        "id": "B2aS4O1ophqO"
      },
      "execution_count": null,
      "outputs": []
    },
    {
      "cell_type": "markdown",
      "source": [
        "##### 1. Why did you pick the specific chart?"
      ],
      "metadata": {
        "id": "gCFgpxoyphqP"
      }
    },
    {
      "cell_type": "markdown",
      "source": [
        "Answer Here."
      ],
      "metadata": {
        "id": "TVxDimi2phqP"
      }
    },
    {
      "cell_type": "markdown",
      "source": [
        "A bar plot represents an aggregate or statistical estimate for a numeric variable with the height of each rectangle and indicates the uncertainty around that estimate using an error bar. Bar plots include 0 in the axis range, and they are a good choice when 0 is a meaningful value for the variable to take."
      ],
      "metadata": {
        "id": "8ANzQID8ZU3x"
      }
    },
    {
      "cell_type": "markdown",
      "source": [
        "##### 2. What is/are the insight(s) found from the chart?"
      ],
      "metadata": {
        "id": "OVtJsKN_phqQ"
      }
    },
    {
      "cell_type": "markdown",
      "source": [
        "Answer Here"
      ],
      "metadata": {
        "id": "ngGi97qjphqQ"
      }
    },
    {
      "cell_type": "markdown",
      "source": [
        "- The number of bikes rented out is higher on non-holidays than on holidays.\n",
        "- The number of bikes rented out is also higher in the afternoon than in the morning.\n",
        "- There is a slight increase in the number of bikes rented out on weekends compared to weekdays.\n",
        "- The number of bikes rented out is highest on weekends during the afternoon.\n",
        "- The number of bikes rented out is lowest on weekdays during the morning.\n",
        "- The number of bikes rented out is highest on non-holidays during the afternoon.\n",
        "- The number of bikes rented out is lowest on non-holidays during the morning."
      ],
      "metadata": {
        "id": "pIRIeYtTWw7j"
      }
    },
    {
      "cell_type": "markdown",
      "source": [
        "##### 3. Will the gained insights help creating a positive business impact?\n",
        "Are there any insights that lead to negative growth? Justify with specific reason."
      ],
      "metadata": {
        "id": "lssrdh5qphqQ"
      }
    },
    {
      "cell_type": "markdown",
      "source": [
        "Answer Here"
      ],
      "metadata": {
        "id": "tBpY5ekJphqQ"
      }
    },
    {
      "cell_type": "markdown",
      "source": [
        "- The insights gained from the charts can help create a positive business impact by allowing the bike rental company to make informed decisions about how to market their business and allocate their resources.\n",
        " For example, the company could use the insights to target their marketing campaigns to the times and days when bike rentals are most popular, or to focus on areas where there is a high demand for bike rentals.\n",
        " Additionally, the company could use the insights to make decisions about how many bikes to stock at each location, or how many staff to have on duty during peak times.\n",
        "\n",
        "- However, there are also some insights that could lead to negative growth.\n",
        "For example, if the company finds that bike rentals are most popular in areas that are already saturated with bike rental companies,\n",
        "this could lead to increased competition and lower prices, which could in turn lead to decreased profits for the company.\n",
        "Additionally, if the company finds that bike rentals are most popular during certain times of the day or week,\n",
        " this could lead to increased demand for bikes at those times, which could in turn lead to shortages of bikes and lost revenue.\n",
        "\n",
        "- Overall, the insights gained from the charts can be used to create a positive business impact,\n",
        " but it is important to be aware of the potential negative consequences of these insights as well.\n"
      ],
      "metadata": {
        "id": "SAV2Li1KXFaL"
      }
    },
    {
      "cell_type": "markdown",
      "source": [
        "#### Chart - 10"
      ],
      "metadata": {
        "id": "U2RJ9gkRphqQ"
      }
    },
    {
      "cell_type": "code",
      "source": [
        "# Chart - 10 visualization code"
      ],
      "metadata": {
        "id": "eUyjqqOJuXzE"
      },
      "execution_count": null,
      "outputs": []
    },
    {
      "cell_type": "markdown",
      "source": [
        "### Hourly Count of Rented bikes according to Holiday"
      ],
      "metadata": {
        "id": "gFQKfvmhuQ8f"
      }
    },
    {
      "cell_type": "code",
      "source": [
        "# Hourly Count of Rented bikes according to Holiday\n",
        "\n",
        "fig, ax=plt.subplots(figsize=(20,8))\n",
        "sns.pointplot(data=bike_data,x='Hour',y='Rented_Bike_Count', hue='Holiday',ax=ax)\n",
        "ax.set(title='Hourly Count of Rented bikes according to Holiday')"
      ],
      "metadata": {
        "id": "GM7a4YP4phqQ"
      },
      "execution_count": null,
      "outputs": []
    },
    {
      "cell_type": "markdown",
      "source": [
        "##### 1. Why did you pick the specific chart?"
      ],
      "metadata": {
        "id": "1M8mcRywphqQ"
      }
    },
    {
      "cell_type": "markdown",
      "source": [
        "Answer Here."
      ],
      "metadata": {
        "id": "8agQvks0phqQ"
      }
    },
    {
      "cell_type": "markdown",
      "source": [
        "Point plots can be more useful than bar plots for focusing comparisons between different levels of one or more categorical variables. They are particularly adept at showing interactions: how the relationship between levels of one categorical variable changes across levels of a second categorical variable. The lines that join each point from the same hue level allow interactions to be judged by differences in slope, which is easier for the eyes than comparing the heights of several groups of points or bars."
      ],
      "metadata": {
        "id": "21Hd0hT5jV2U"
      }
    },
    {
      "cell_type": "markdown",
      "source": [
        "##### 2. What is/are the insight(s) found from the chart?"
      ],
      "metadata": {
        "id": "tgIPom80phqQ"
      }
    },
    {
      "cell_type": "markdown",
      "source": [
        "Answer Here"
      ],
      "metadata": {
        "id": "Qp13pnNzphqQ"
      }
    },
    {
      "cell_type": "markdown",
      "source": [
        "- The number of bikes rented out is higher on holidays than on non-holidays.\n",
        "- The number of bikes rented out is also higher in the afternoon than in the morning.\n",
        "- There is a slight increase in the number of bikes rented out on weekends compared to weekdays.\n",
        "- The number of bikes rented out is highest on weekends during the afternoon.\n",
        "- The number of bikes rented out is lowest on weekdays during the morning.\n",
        "- The number of bikes rented out is highest on holidays during the afternoon.\n",
        "- The number of bikes rented out is lowest on holidays during the morning."
      ],
      "metadata": {
        "id": "YUb8knBLYKXm"
      }
    },
    {
      "cell_type": "markdown",
      "source": [
        "##### 3. Will the gained insights help creating a positive business impact?\n",
        "Are there any insights that lead to negative growth? Justify with specific reason."
      ],
      "metadata": {
        "id": "JMzcOPDDphqR"
      }
    },
    {
      "cell_type": "markdown",
      "source": [
        "Answer Here"
      ],
      "metadata": {
        "id": "R4Ka1PC2phqR"
      }
    },
    {
      "cell_type": "markdown",
      "source": [
        "- The insights gained from the charts can help create a positive business impact by allowing the bike rental company to make informed decisions about how to market their business and allocate their resources.\n",
        " For example, the company could use the insights to target their marketing campaigns to the times and days when bike rentals are most popular, or to focus on areas where there is a high demand for bike rentals.\n",
        " Additionally, the company could use the insights to make decisions about how many bikes to stock at each location, or how many staff to have on duty during peak times.\n",
        "\n",
        "- However, there are also some insights that could lead to negative growth.\n",
        "For example, if the company finds that bike rentals are most popular in areas that are already saturated with bike rental companies,\n",
        "this could lead to increased competition and lower prices, which could in turn lead to decreased profits for the company.\n",
        "Additionally, if the company finds that bike rentals are most popular during certain times of the day or week,\n",
        " this could lead to increased demand for bikes at those times, which could in turn lead to shortages of bikes and lost revenue.\n",
        "\n",
        "- Overall, the insights gained from the charts can be used to create a positive business impact,\n",
        " but it is important to be aware of the potential negative consequences of these insights as well.\n"
      ],
      "metadata": {
        "id": "-QdWsAjCYnij"
      }
    },
    {
      "cell_type": "markdown",
      "source": [
        "# Analysis of Numerical variable"
      ],
      "metadata": {
        "id": "gI5HutmPUq3l"
      }
    },
    {
      "cell_type": "code",
      "source": [
        "# all the columns in a dataset\n",
        "\n",
        "bike_data.columns"
      ],
      "metadata": {
        "id": "Wvqw_iimOTzs"
      },
      "execution_count": null,
      "outputs": []
    },
    {
      "cell_type": "markdown",
      "source": [
        "#### What is Numerical Data\n",
        "\n",
        "*   Numerical data is a data type expressed in numbers, rather than natural language description. Sometimes called quantitative data, numerical data is always collected in number form. Numerical data differentiates itself from other number form data types with its ability to carryout arithmetic operations with these numbers.  \n"
      ],
      "metadata": {
        "id": "GibXIu8CUzuM"
      }
    },
    {
      "cell_type": "markdown",
      "source": [
        "### Analysis of Numerical variables distplots"
      ],
      "metadata": {
        "id": "xDV64KcMWOwP"
      }
    },
    {
      "cell_type": "code",
      "source": [
        "# Assign all the numerical columns from the dataset to new variable\n",
        "\n",
        "numerical_columns=list(bike_data.select_dtypes(['int64','float64']).columns)\n",
        "numerical_features=pd.Index(numerical_columns)\n",
        "numerical_features"
      ],
      "metadata": {
        "id": "sPRnxUKWWlr6"
      },
      "execution_count": null,
      "outputs": []
    },
    {
      "cell_type": "markdown",
      "source": [
        "#### Chart - 11"
      ],
      "metadata": {
        "id": "jeTxqes2Im22"
      }
    },
    {
      "cell_type": "code",
      "source": [
        "# Chart - 11 visualization code"
      ],
      "metadata": {
        "id": "j_OIf30lIm3E"
      },
      "execution_count": null,
      "outputs": []
    },
    {
      "cell_type": "markdown",
      "source": [
        "## Analysis of data distribution of each numerical feature"
      ],
      "metadata": {
        "id": "WKOH25kOx6Ja"
      }
    },
    {
      "cell_type": "code",
      "source": [
        "# Printing displots to analyse the distribution of all numerical features\n",
        "\n",
        "for col in numerical_features:\n",
        "  plt.figure(figsize=(10,6))\n",
        "  sns.distplot(x=bike_data[col])\n",
        "  plt.xlabel(col)\n",
        "plt.show()"
      ],
      "metadata": {
        "id": "VU84Sp-yXw6N"
      },
      "execution_count": null,
      "outputs": []
    },
    {
      "cell_type": "markdown",
      "source": [
        "##### 1. Why did you pick the specific chart?"
      ],
      "metadata": {
        "id": "inbH7VhbIm3E"
      }
    },
    {
      "cell_type": "markdown",
      "source": [
        "Answer Here."
      ],
      "metadata": {
        "id": "fQ11rmf5Im3F"
      }
    },
    {
      "cell_type": "markdown",
      "source": [
        "The histogram is a good choice for visualizing the distribution of a numerical variable because it shows the frequency of each value in the variable.\n",
        "This information can be used to identify outliers, skewness, and other patterns in the data."
      ],
      "metadata": {
        "id": "9G0XQeZva5aH"
      }
    },
    {
      "cell_type": "markdown",
      "source": [
        "##### 2. What is/are the insight(s) found from the chart?"
      ],
      "metadata": {
        "id": "fZS_0rIiIm3F"
      }
    },
    {
      "cell_type": "markdown",
      "source": [
        "Answer Here"
      ],
      "metadata": {
        "id": "ygR-_hoRIm3F"
      }
    },
    {
      "cell_type": "markdown",
      "source": [
        "- The distribution of the number of bikes rented out is skewed to the right.\n",
        "This means that there are more days with a low number of bikes rented out than there are days with a high number of bikes rented out.\n",
        "- The distribution of the temperature is also skewed to the right. This means that there are more days with a low temperature than there are days with a high temperature.\n",
        "- The distribution of the humidity is relatively symmetric. This means that there are about the same number of days with a high humidity as there are days with a low humidity.\n",
        "- The distribution of the wind speed is also relatively symmetric. This means that there are about the same number of days with a high wind speed as there are days with a low wind speed.\n",
        "- The distribution of the precipitation(rainfall,snowfall etc-In meteorology, precipitation refers to any product of the condensation of atmospheric water vapor that falls from clouds due to gravitational pull ) is skewed to the left. This means that there are more days with no precipitation than there are days with precipitation.\n"
      ],
      "metadata": {
        "id": "pJqsFISjeuMO"
      }
    },
    {
      "cell_type": "markdown",
      "source": [
        "##### 3. Will the gained insights help creating a positive business impact?\n",
        "Are there any insights that lead to negative growth? Justify with specific reason."
      ],
      "metadata": {
        "id": "-mUKv7QlIm3F"
      }
    },
    {
      "cell_type": "markdown",
      "source": [
        "Answer Here"
      ],
      "metadata": {
        "id": "DzufMZ-KIm3F"
      }
    },
    {
      "cell_type": "markdown",
      "source": [
        "- The insights gained from the histograms can help create a positive business impact by allowing the bike rental company to make informed decisions about how to market their business and allocate their resources.\n",
        " For example, the company could use the insights to target their marketing campaigns to the areas where there is a high demand for bike rentals, or to focus on the times of day when bike rentals are most popular.\n",
        " Additionally, the company could use the insights to make decisions about how many bikes to stock at each location, or how many staff to have on duty during peak times.\n",
        "\n",
        "- However, there are also some insights that could lead to negative growth.\n",
        "For example, if the company finds that there is a high demand for bike rentals in an area that is already saturated with bike rental companies,\n",
        "this could lead to increased competition and lower prices, which could in turn lead to decreased profits for the company.\n",
        "Additionally, if the company finds that bike rentals are most popular during certain times of the day or week,\n",
        " this could lead to increased demand for bikes at those times, which could in turn lead to shortages of bikes and lost revenue.\n",
        "\n",
        "- Overall, the insights gained from the histograms can be used to create a positive business impact,\n",
        " but it is important to be aware of the potential negative consequences of these insights as well."
      ],
      "metadata": {
        "id": "TSVfaUpMbgur"
      }
    },
    {
      "cell_type": "markdown",
      "source": [
        "# Numerical vs Rented_Bike_Count"
      ],
      "metadata": {
        "id": "v9TwPclGbfN-"
      }
    },
    {
      "cell_type": "markdown",
      "source": [
        "#### Chart - 12"
      ],
      "metadata": {
        "id": "n3dbpmDWp1ck"
      }
    },
    {
      "cell_type": "markdown",
      "source": [
        "## Analysing the relationship between 'Rented_Bike_Count' and 'Temperature'"
      ],
      "metadata": {
        "id": "wywxks9By3vn"
      }
    },
    {
      "cell_type": "code",
      "source": [
        "# Print the plot to analyse the relationship between 'Rented_Bike_Count' and 'Temperature'\n",
        "\n",
        "bike_data.groupby('Temperature').mean()['Rented_Bike_Count'].plot()"
      ],
      "metadata": {
        "id": "tvPOU8WFbqV2"
      },
      "execution_count": null,
      "outputs": []
    },
    {
      "cell_type": "markdown",
      "source": [
        "##### 1. Why did you pick the specific chart?"
      ],
      "metadata": {
        "id": "hlT4pONAjmFZ"
      }
    },
    {
      "cell_type": "markdown",
      "source": [
        "Answer Here."
      ],
      "metadata": {
        "id": "pOaL3qcpjmFa"
      }
    },
    {
      "cell_type": "markdown",
      "source": [
        "\n",
        "The line chart is a good choice for visualizing the relationship between two numerical variables,\n",
        " because it shows how the values of one variable change over time or with respect to the values of the other variable.\n",
        "This information can be used to identify trends and patterns in the data."
      ],
      "metadata": {
        "id": "R80rkdNXj7p4"
      }
    },
    {
      "cell_type": "markdown",
      "source": [
        "##### 2. What is/are the insight(s) found from the chart?"
      ],
      "metadata": {
        "id": "XXV9cAR3jmFa"
      }
    },
    {
      "cell_type": "markdown",
      "source": [
        "Answer Here"
      ],
      "metadata": {
        "id": "hXH4_EUOjmFa"
      }
    },
    {
      "cell_type": "markdown",
      "source": [
        "The chart shows that the number of bikes rented out increases as the temperature increases.\n",
        "This is likely because people are more likely to want to go for a bike ride when the weather is warm."
      ],
      "metadata": {
        "id": "JsBJMD_AghOE"
      }
    },
    {
      "cell_type": "markdown",
      "source": [
        "##### 3. Will the gained insights help creating a positive business impact?\n",
        "Are there any insights that lead to negative growth? Justify with specific reason."
      ],
      "metadata": {
        "id": "moYoNkLbjmFa"
      }
    },
    {
      "cell_type": "markdown",
      "source": [
        "Answer Here"
      ],
      "metadata": {
        "id": "zrQn7lcrjmFa"
      }
    },
    {
      "cell_type": "markdown",
      "source": [
        "- The insights gained from the chart can help create a positive business impact by allowing the bike rental company to make informed decisions about how to market their business and allocate their resources.\n",
        "For example, the company could use the insights to target their marketing campaigns to the areas where there is a high demand for bike rentals,\n",
        "or to focus on the times of day when bike rentals are most popular.\n",
        "Additionally, the company could use the insights to make decisions about how many bikes to stock at each location, or how many staff to have on duty during peak times.\n",
        "\n",
        "- However, there are also some insights that could lead to negative growth.\n",
        "For example, if the company finds that there is a high demand for bike rentals in an area that is already saturated with bike rental companies,\n",
        "this could lead to increased competition and lower prices, which could in turn lead to decreased profits for the company.\n",
        "Additionally, if the company finds that bike rentals are most popular during certain times of the day or week,\n",
        " this could lead to increased demand for bikes at those times, which could in turn lead to shortages of bikes and lost revenue.\n",
        "\n",
        "- Overall, the insights gained from the chart can be used to create a positive business impact,\n",
        " but it is important to be aware of the potential negative consequences of these insights as well."
      ],
      "metadata": {
        "id": "EnrNm418lIah"
      }
    },
    {
      "cell_type": "markdown",
      "source": [
        "#### Chart - 13"
      ],
      "metadata": {
        "id": "75pDxktcSkw9"
      }
    },
    {
      "cell_type": "markdown",
      "source": [
        "## Analysing the relationship between 'Rented_Bike_Count' and 'Solar_Radiation'"
      ],
      "metadata": {
        "id": "mb-lWNmBzK9e"
      }
    },
    {
      "cell_type": "code",
      "source": [
        "# Print the plot to analyse the relationship between 'Rented_Bike_Count' and 'Solar_Radiation'\n",
        "\n",
        "bike_data.groupby('Solar_Radiation').mean()['Rented_Bike_Count'].plot()"
      ],
      "metadata": {
        "id": "59hERoiEeBWH"
      },
      "execution_count": null,
      "outputs": []
    },
    {
      "cell_type": "markdown",
      "source": [
        "##### 1. Why did you pick the specific chart?"
      ],
      "metadata": {
        "id": "hcCx2QFelbLa"
      }
    },
    {
      "cell_type": "markdown",
      "source": [
        "Answer Here."
      ],
      "metadata": {
        "id": "Cvbhpz5zlbLb"
      }
    },
    {
      "cell_type": "markdown",
      "source": [
        "\n",
        "The line chart is a good choice for visualizing the relationship between two numerical variables,\n",
        " because it shows how the values of one variable change over time or with respect to the values of the other variable.\n",
        "This information can be used to identify trends and patterns in the data."
      ],
      "metadata": {
        "id": "VM7Pc5kDlbLb"
      }
    },
    {
      "cell_type": "markdown",
      "source": [
        "##### 2. What is/are the insight(s) found from the chart?"
      ],
      "metadata": {
        "id": "LN6kPWDIlbLb"
      }
    },
    {
      "cell_type": "markdown",
      "source": [
        "Answer Here"
      ],
      "metadata": {
        "id": "H4WY7ORnlbLb"
      }
    },
    {
      "cell_type": "markdown",
      "source": [
        "The chart shows that the number of bikes rented out increases as the solar radiation increases.\n",
        "This is likely because people are more likely to want to go for a bike ride when the sun is shining."
      ],
      "metadata": {
        "id": "P6uvUAKZhDeA"
      }
    },
    {
      "cell_type": "markdown",
      "source": [
        "##### 3. Will the gained insights help creating a positive business impact?\n",
        "Are there any insights that lead to negative growth? Justify with specific reason."
      ],
      "metadata": {
        "id": "cqSYdubmlbLb"
      }
    },
    {
      "cell_type": "markdown",
      "source": [
        "Answer Here"
      ],
      "metadata": {
        "id": "5HbFNMavlbLb"
      }
    },
    {
      "cell_type": "markdown",
      "source": [
        "- The insights gained from the chart can help create a positive business impact by allowing the bike rental company to make informed decisions about how to market their business and allocate their resources.\n",
        "For example, the company could use the insights to target their marketing campaigns to the areas where there is a high demand for bike rentals,\n",
        "or to focus on the times of day when bike rentals are most popular.\n",
        "Additionally, the company could use the insights to make decisions about how many bikes to stock at each location, or how many staff to have on duty during peak times.\n",
        "\n",
        "- However, there are also some insights that could lead to negative growth.\n",
        "For example, if the company finds that there is a high demand for bike rentals in an area that is already saturated with bike rental companies,\n",
        "this could lead to increased competition and lower prices, which could in turn lead to decreased profits for the company.\n",
        "Additionally, if the company finds that bike rentals are most popular during certain times of the day or week,\n",
        " this could lead to increased demand for bikes at those times, which could in turn lead to shortages of bikes and lost revenue.\n",
        "\n",
        "- Overall, the insights gained from the chart can be used to create a positive business impact,\n",
        " but it is important to be aware of the potential negative consequences of these insights as well."
      ],
      "metadata": {
        "id": "U-M7QxdTlbLc"
      }
    },
    {
      "cell_type": "markdown",
      "source": [
        "#### Chart - 14"
      ],
      "metadata": {
        "id": "pErFSYG3SvW-"
      }
    },
    {
      "cell_type": "markdown",
      "source": [
        "## Analysing the relationship between 'Rented_Bike_Count' and 'Snowfall'"
      ],
      "metadata": {
        "id": "8AlmlVPEzoQ0"
      }
    },
    {
      "cell_type": "code",
      "source": [
        "# print the plot to analyze the relationship between 'Rented_Bike_Count' and 'Snowfall'\n",
        "\n",
        "bike_data.groupby('Snowfall').mean()['Rented_Bike_Count'].plot()"
      ],
      "metadata": {
        "id": "2WRCECcCqvqe"
      },
      "execution_count": null,
      "outputs": []
    },
    {
      "cell_type": "markdown",
      "source": [
        "##### 1. Why did you pick the specific chart?"
      ],
      "metadata": {
        "id": "yh8yeoL5l5S0"
      }
    },
    {
      "cell_type": "markdown",
      "source": [
        "Answer Here."
      ],
      "metadata": {
        "id": "OAVYiVM6l5S0"
      }
    },
    {
      "cell_type": "markdown",
      "source": [
        "\n",
        "The line chart is a good choice for visualizing the relationship between two numerical variables,\n",
        " because it shows how the values of one variable change over time or with respect to the values of the other variable.\n",
        "This information can be used to identify trends and patterns in the data."
      ],
      "metadata": {
        "id": "DxT6EIX_l5S0"
      }
    },
    {
      "cell_type": "markdown",
      "source": [
        "##### 2. What is/are the insight(s) found from the chart?"
      ],
      "metadata": {
        "id": "Fclh6ndAl5S0"
      }
    },
    {
      "cell_type": "markdown",
      "source": [
        "Answer Here"
      ],
      "metadata": {
        "id": "jDzVq3dDl5S0"
      }
    },
    {
      "cell_type": "markdown",
      "source": [
        "\n",
        "The chart shows that the number of bikes rented out decreases as the snowfall increases.\n",
        "This is likely because people are less likely to want to go for a bike ride when the ground is covered in snow."
      ],
      "metadata": {
        "id": "PHwfGMVMl5S0"
      }
    },
    {
      "cell_type": "markdown",
      "source": [
        "##### 3. Will the gained insights help creating a positive business impact?\n",
        "Are there any insights that lead to negative growth? Justify with specific reason."
      ],
      "metadata": {
        "id": "m_9eXp_Sl5S0"
      }
    },
    {
      "cell_type": "markdown",
      "source": [
        "Answer Here"
      ],
      "metadata": {
        "id": "o1ws6q6Tl5S0"
      }
    },
    {
      "cell_type": "markdown",
      "source": [
        "- The insights gained from the chart can help create a positive business impact by allowing the bike rental company to make informed decisions about how to market their business and allocate their resources.\n",
        "For example, the company could use the insights to target their marketing campaigns to the areas where there is a high demand for bike rentals,\n",
        "or to focus on the times of day when bike rentals are most popular.\n",
        "Additionally, the company could use the insights to make decisions about how many bikes to stock at each location, or how many staff to have on duty during peak times.\n",
        "\n",
        "- However, there are also some insights that could lead to negative growth.\n",
        "For example, if the company finds that there is a high demand for bike rentals in an area that is already saturated with bike rental companies,\n",
        "this could lead to increased competition and lower prices, which could in turn lead to decreased profits for the company.\n",
        "Additionally, if the company finds that bike rentals are most popular during certain times of the day or week,\n",
        " this could lead to increased demand for bikes at those times, which could in turn lead to shortages of bikes and lost revenue.\n",
        "\n",
        "- Overall, the insights gained from the chart can be used to create a positive business impact,\n",
        " but it is important to be aware of the potential negative consequences of these insights as well."
      ],
      "metadata": {
        "id": "BKq9jKTdl5S0"
      }
    },
    {
      "cell_type": "markdown",
      "source": [
        "#### Chart - 15"
      ],
      "metadata": {
        "id": "g5YOFHPfS_iO"
      }
    },
    {
      "cell_type": "markdown",
      "source": [
        "## Analysing the relationship between 'Rented_Bike_Count' and 'Rainfall'"
      ],
      "metadata": {
        "id": "TGT2J-tJzy4X"
      }
    },
    {
      "cell_type": "code",
      "source": [
        "# print the plot to analyse the relationship between 'Rented_Bike_Count' and 'Rainfall'\n",
        "\n",
        "bike_data.groupby('Rainfall').mean()['Rented_Bike_Count'].plot()"
      ],
      "metadata": {
        "id": "tLjsJKEpr7qm"
      },
      "execution_count": null,
      "outputs": []
    },
    {
      "cell_type": "markdown",
      "source": [
        "##### 1. Why did you pick the specific chart?"
      ],
      "metadata": {
        "id": "xeoZmSynmZ7D"
      }
    },
    {
      "cell_type": "markdown",
      "source": [
        "Answer Here."
      ],
      "metadata": {
        "id": "zK62vUOfmZ7E"
      }
    },
    {
      "cell_type": "markdown",
      "source": [
        "\n",
        "The line chart is a good choice for visualizing the relationship between two numerical variables,\n",
        " because it shows how the values of one variable change over time or with respect to the values of the other variable.\n",
        "This information can be used to identify trends and patterns in the data."
      ],
      "metadata": {
        "id": "zkoR7ofemZ7E"
      }
    },
    {
      "cell_type": "markdown",
      "source": [
        "##### 2. What is/are the insight(s) found from the chart?"
      ],
      "metadata": {
        "id": "apGMxiCcmZ7E"
      }
    },
    {
      "cell_type": "markdown",
      "source": [
        "Answer Here"
      ],
      "metadata": {
        "id": "-vWy1ttOmZ7E"
      }
    },
    {
      "cell_type": "markdown",
      "source": [
        "- The number of bikes rented out does not appear to be affected by the rainfall. This is likely because people are still willing to go for a bike ride even if it is raining."
      ],
      "metadata": {
        "id": "zY9Yb821jJ6k"
      }
    },
    {
      "cell_type": "markdown",
      "source": [
        "##### 3. Will the gained insights help creating a positive business impact?\n",
        "Are there any insights that lead to negative growth? Justify with specific reason."
      ],
      "metadata": {
        "id": "s6Tijla5mZ7E"
      }
    },
    {
      "cell_type": "markdown",
      "source": [
        "Answer Here"
      ],
      "metadata": {
        "id": "vvoIJQC1mZ7E"
      }
    },
    {
      "cell_type": "markdown",
      "source": [
        "- The insights gained from the chart can help create a positive business impact by allowing the bike rental company to make informed decisions about how to market their business and allocate their resources.\n",
        "For example, the company could use the insights to target their marketing campaigns to the areas where there is a high demand for bike rentals,\n",
        "or to focus on the times of day when bike rentals are most popular.\n",
        "Additionally, the company could use the insights to make decisions about how many bikes to stock at each location, or how many staff to have on duty during peak times.\n",
        "\n",
        "- However, there are also some insights that could lead to negative growth.\n",
        "For example, if the company finds that there is a high demand for bike rentals in an area that is already saturated with bike rental companies,\n",
        "this could lead to increased competition and lower prices, which could in turn lead to decreased profits for the company.\n",
        "Additionally, if the company finds that bike rentals are most popular during certain times of the day or week,\n",
        " this could lead to increased demand for bikes at those times, which could in turn lead to shortages of bikes and lost revenue.\n",
        "\n",
        "- Overall, the insights gained from the chart can be used to create a positive business impact,\n",
        " but it is important to be aware of the potential negative consequences of these insights as well."
      ],
      "metadata": {
        "id": "RNwznzsXmZ7E"
      }
    },
    {
      "cell_type": "markdown",
      "source": [
        "### Chart - 16"
      ],
      "metadata": {
        "id": "ouvy3ukemygy"
      }
    },
    {
      "cell_type": "markdown",
      "source": [
        "## Analysing the relationship between 'Rented_Bike_Count' and 'Wind_speed'"
      ],
      "metadata": {
        "id": "DcYbTgPG0QMU"
      }
    },
    {
      "cell_type": "code",
      "source": [
        "# print the plot to analyse the relationship between 'Rented_Bike_Count' and 'Wind_speed'\n",
        "\n",
        "bike_data.groupby('Wind_speed').mean()['Rented_Bike_Count'].plot()"
      ],
      "metadata": {
        "id": "QWZNquYXtj6j"
      },
      "execution_count": null,
      "outputs": []
    },
    {
      "cell_type": "markdown",
      "source": [
        "##### 1. Why did you pick the specific chart?"
      ],
      "metadata": {
        "id": "zO5N5_1GnNd7"
      }
    },
    {
      "cell_type": "markdown",
      "source": [
        "Answer Here."
      ],
      "metadata": {
        "id": "XLFnv3WKnNd8"
      }
    },
    {
      "cell_type": "markdown",
      "source": [
        "\n",
        "The line chart is a good choice for visualizing the relationship between two numerical variables,\n",
        " because it shows how the values of one variable change over time or with respect to the values of the other variable.\n",
        "This information can be used to identify trends and patterns in the data."
      ],
      "metadata": {
        "id": "vuzAp8gQnNd8"
      }
    },
    {
      "cell_type": "markdown",
      "source": [
        "##### 2. What is/are the insight(s) found from the chart?"
      ],
      "metadata": {
        "id": "3vJC920JnNd8"
      }
    },
    {
      "cell_type": "markdown",
      "source": [
        "Answer Here"
      ],
      "metadata": {
        "id": "DG3Ll2PanNd8"
      }
    },
    {
      "cell_type": "markdown",
      "source": [
        "\n",
        "The number of bikes rented out appears to be slightly higher when the wind speed is higher.\n",
        "This is likely because people are more likely to want to go for a bike ride when the weather is cool and breezy."
      ],
      "metadata": {
        "id": "iRs0eYAhnWQu"
      }
    },
    {
      "cell_type": "markdown",
      "source": [
        "##### 3. Will the gained insights help creating a positive business impact?\n",
        "Are there any insights that lead to negative growth? Justify with specific reason."
      ],
      "metadata": {
        "id": "-IUkqQ_OnNd8"
      }
    },
    {
      "cell_type": "markdown",
      "source": [
        "Answer Here"
      ],
      "metadata": {
        "id": "MFel74_lnNd8"
      }
    },
    {
      "cell_type": "markdown",
      "source": [
        "- The insights gained from the chart can help create a positive business impact by allowing the bike rental company to make informed decisions about how to market their business and allocate their resources.\n",
        "For example, the company could use the insights to target their marketing campaigns to the areas where there is a high demand for bike rentals,\n",
        "or to focus on the times of day when bike rentals are most popular.\n",
        "Additionally, the company could use the insights to make decisions about how many bikes to stock at each location, or how many staff to have on duty during peak times.\n",
        "\n",
        "- However, there are also some insights that could lead to negative growth.\n",
        "For example, if the company finds that there is a high demand for bike rentals in an area that is already saturated with bike rental companies,\n",
        "this could lead to increased competition and lower prices, which could in turn lead to decreased profits for the company.\n",
        "Additionally, if the company finds that bike rentals are most popular during certain times of the day or week,\n",
        " this could lead to increased demand for bikes at those times, which could in turn lead to shortages of bikes and lost revenue.\n",
        "\n",
        "- Overall, the insights gained from the chart can be used to create a positive business impact,\n",
        " but it is important to be aware of the potential negative consequences of these insights as well."
      ],
      "metadata": {
        "id": "CDJiAcpXnNd8"
      }
    },
    {
      "cell_type": "markdown",
      "source": [
        "## Conclusion:\n",
        "\n",
        "The charts show that there are a number of factors that affect the number of bikes rented out, including the temperature, solar radiation, snowfall, and rainfall, windspeed.\n",
        "\n",
        "- The number of bikes rented out increases as the temperature increases. This is likely because people are more likely to want to go for a bike ride when the weather is warm.\n",
        "- The number of bikes rented out also increases as the solar radiation increases. This is likely because people are more likely to want to go for a bike ride when the sun is shining.\n",
        "- The number of bikes rented out decreases as the snowfall increases. This is likely because people are less likely to want to go for a bike ride when the ground is covered in snow.\n",
        "- The number of bikes rented out does not appear to be affected by the rainfall. This is likely because people are still willing to go for a bike ride even if it is raining.\n",
        "- The number of bikes rented out appears to be slightly higher when the wind speed is higher. This is likely because people are more likely to want to go for a bike ride when the weather is cool and breezy.\n"
      ],
      "metadata": {
        "id": "vLi1wlicifIg"
      }
    },
    {
      "cell_type": "markdown",
      "source": [
        "These insights can be used to help the bike rental company make informed decisions about how to market their business and allocate their resources.\n",
        "For example, the company could use the insights to target their marketing campaigns to the areas where there is a high demand for bike rentals,\n",
        " or to focus on the times of day when bike rentals are most popular.\n",
        "Additionally, the company could use the insights to make decisions about how many bikes to stock at each location, or how many staff to have on duty during peak times."
      ],
      "metadata": {
        "id": "tg-47FROiymG"
      }
    },
    {
      "cell_type": "markdown",
      "source": [
        "#### Chart - 17 - Pair Plot"
      ],
      "metadata": {
        "id": "q29F0dvdveiT"
      }
    },
    {
      "cell_type": "code",
      "source": [
        "# Pair Plot visualization code"
      ],
      "metadata": {
        "id": "o58-TEIhveiU"
      },
      "execution_count": null,
      "outputs": []
    },
    {
      "cell_type": "markdown",
      "source": [
        "## Pair plot for the Count of Rented bikes according to Hour"
      ],
      "metadata": {
        "id": "otJFVG4J0zBV"
      }
    },
    {
      "cell_type": "code",
      "source": [
        "# Pair plot for the Count of Rented bikes according to Hour\n",
        "\n",
        "fig, ax=plt.subplots(figsize=(20,8))\n",
        "sns.pairplot(data=bike_data, hue=\"Hour\")\n",
        "ax.set(title='Count of Rented bikes according to Hour')"
      ],
      "metadata": {
        "id": "dvkc2Tm-S4am"
      },
      "execution_count": null,
      "outputs": []
    },
    {
      "cell_type": "markdown",
      "source": [
        "## Pair plot for the Count of Rented bikes according to month"
      ],
      "metadata": {
        "id": "cvtbofUq1MC2"
      }
    },
    {
      "cell_type": "code",
      "source": [
        "# Pair plot for the Count of Rented bikes according to month\n",
        "\n",
        "fig, ax=plt.subplots(figsize=(20,8))\n",
        "sns.pairplot(data=bike_data, hue=\"month\")\n",
        "ax.set(title='Count of Rented bikes according to month')"
      ],
      "metadata": {
        "id": "n2zLHh7iVVAF"
      },
      "execution_count": null,
      "outputs": []
    },
    {
      "cell_type": "markdown",
      "source": [
        "##### 1. Why did you pick the specific chart?"
      ],
      "metadata": {
        "id": "EXh0U9oCveiU"
      }
    },
    {
      "cell_type": "markdown",
      "source": [
        "Answer Here."
      ],
      "metadata": {
        "id": "eMmPjTByveiU"
      }
    },
    {
      "cell_type": "markdown",
      "source": [
        "\n",
        "The pair plot is a good choice for visualizing the relationships between multiple numerical variables in a dataset.\n",
        " It shows how each variable is distributed, and how it is related to the other variables.\n",
        " This information can be used to identify patterns and trends in the data, and to make predictions about future values."
      ],
      "metadata": {
        "id": "BIgKGdBipLtT"
      }
    },
    {
      "cell_type": "markdown",
      "source": [
        "##### 2. What is/are the insight(s) found from the chart?"
      ],
      "metadata": {
        "id": "22aHeOlLveiV"
      }
    },
    {
      "cell_type": "markdown",
      "source": [
        "Answer Here"
      ],
      "metadata": {
        "id": "uPQ8RGwHveiV"
      }
    },
    {
      "cell_type": "markdown",
      "source": [
        "- The number of bikes rented out decreases as the hour increases. This is likely because people are less likely to want to go for a bike ride at night.\n",
        "- The number of bikes rented out increases as the month increases. This is likely because there are more tourists visiting the city during the summer months.\n",
        "- The number of bikes rented out is not significantly affected by the weather conditions.\n",
        "This is likely because people are still willing to go for a bike ride even if it is raining or snowing.\n",
        "- The number of bikes rented out is not significantly affected by the day of the week.\n",
        " This is likely because people are still willing to go for a bike ride on any day of the week."
      ],
      "metadata": {
        "id": "e6CYGTTxqGd9"
      }
    },
    {
      "cell_type": "markdown",
      "source": [
        "## Conclusion"
      ],
      "metadata": {
        "id": "zSembR4HqcT9"
      }
    },
    {
      "cell_type": "markdown",
      "source": [
        "Answer Here"
      ],
      "metadata": {
        "id": "druuKYZpp1ck"
      }
    },
    {
      "cell_type": "markdown",
      "source": [
        "\n",
        "- The pair plots show that there are a number of factors that affect the number of bikes rented out, including the hour of the day, the month of the year, and the weather conditions.\n",
        "-  These insights can be used to help the bike rental company make informed decisions about how to market their business and allocate their resources."
      ],
      "metadata": {
        "id": "K5asbnXrqgxq"
      }
    },
    {
      "cell_type": "markdown",
      "source": [
        "# Regression plot"
      ],
      "metadata": {
        "id": "vTWotNAPwNUh"
      }
    },
    {
      "cell_type": "markdown",
      "source": [
        "The regression plots in seaborn are primarily intended to add a visual guide that helps to emphasize patterns in a dataset during exploratory data analysis.Regression plots as the name suggests creates a regression line between 2 parameters and helps to visualise their linear relationships.  "
      ],
      "metadata": {
        "id": "DYF3j_UJwZlK"
      }
    },
    {
      "cell_type": "markdown",
      "source": [
        "## Visualising the regression plot for all the numerical features"
      ],
      "metadata": {
        "id": "7JixpX-p1pRW"
      }
    },
    {
      "cell_type": "code",
      "source": [
        "# Visualising the regression plot for all the numerical features\n",
        "\n",
        "for col in numerical_features:\n",
        "  fig,ax=plt.subplots(figsize=(10,6))\n",
        "  sns.regplot(x=bike_data[col],y=bike_data['Rented_Bike_Count'],scatter_kws={'color' : 'orange'}, line_kws={'color' : 'black'})"
      ],
      "metadata": {
        "id": "0fR4IMyNx7KH"
      },
      "execution_count": null,
      "outputs": []
    },
    {
      "cell_type": "markdown",
      "source": [
        "\n",
        "*   From the above regression plot of all numerical features we see that the columns 'Temperature', 'Wind_speed', 'Visibility', 'Dew_point_temparature', 'Solar_Radiation' are positively related to the target variable, which means the rented bike count increases with increase of these features.\n",
        "\n",
        "*   'Rainfall', 'Snowfall', 'Humidity' these features are negatively related with the target variable which means the rented bike count decreases when these features increase."
      ],
      "metadata": {
        "id": "m79FvLNdOUNl"
      }
    },
    {
      "cell_type": "markdown",
      "source": [
        "## ***5. Hypothesis Testing***\n",
        "\n"
      ],
      "metadata": {
        "id": "g-ATYxFrGrvw"
      }
    },
    {
      "cell_type": "markdown",
      "source": [
        "#### correlation coefficient\n",
        "- Correlation is a measure of the strength and direction of the linear relationship between two quantitative variables\n",
        "  - A correlation coefficient of 0 means that there is no linear relationship between the two variables.\n",
        "  -  A correlation coefficient of 1 means that there is a perfect positive linear relationship between the two variables.\n",
        "  -  A correlation coefficient of -1 means that there is a perfect negative linear relationship between the two variables.\n",
        "\n",
        "#### p-value\n",
        "  -  It tells you how likely your data would have occurred by random chance if the null hypothesis were true\n",
        "  -  The p-value is the probability of getting the observed correlation coefficient or a more extreme correlation coefficient, assuming that there is no linear relationship between the two variables.\n",
        "  -  A p-value less than 0.05 is considered statistically significant, meaning that there is a 5% or less chance that the observed correlation coefficient occurred by chance."
      ],
      "metadata": {
        "id": "jngyquhsE-Iz"
      }
    },
    {
      "cell_type": "markdown",
      "source": [
        "### Based on your chart experiments, define three hypothetical statements from the dataset. In the next three questions, perform hypothesis testing to obtain final conclusion about the statements through your code and statistical testing."
      ],
      "metadata": {
        "id": "Yfr_Vlr8HBkt"
      }
    },
    {
      "cell_type": "markdown",
      "source": [
        "Answer Here."
      ],
      "metadata": {
        "id": "-7MS06SUHkB-"
      }
    },
    {
      "cell_type": "markdown",
      "source": [
        " - Hypothesis 1: The number of bikes rented out increases as the temperature increases.\n",
        "\n",
        " -  Hypothesis 2: The number of bikes rented out increases as the solar radiation increases.\n",
        "\n",
        " -  Hypothesis 2: The number of bikes rented out increases as the wind speed increases.\n"
      ],
      "metadata": {
        "id": "WWS1zmVAtPc6"
      }
    },
    {
      "cell_type": "markdown",
      "source": [
        "### Hypothetical Statement - 1"
      ],
      "metadata": {
        "id": "8yEUt7NnHlrM"
      }
    },
    {
      "cell_type": "markdown",
      "source": [
        "#### 1. State Your research hypothesis as a null hypothesis and alternate hypothesis."
      ],
      "metadata": {
        "id": "tEA2Xm5dHt1r"
      }
    },
    {
      "cell_type": "markdown",
      "source": [
        "- H0: There is no linear relationship between the number of bikes rented out and the temperature.\n",
        "- Ha: There is a linear relationship between the number of bikes rented out and the temperature."
      ],
      "metadata": {
        "id": "HVQS7UtSwo3W"
      }
    },
    {
      "cell_type": "markdown",
      "source": [
        "#### 2. Perform an appropriate statistical test."
      ],
      "metadata": {
        "id": "I79__PHVH19G"
      }
    },
    {
      "cell_type": "code",
      "source": [
        "# Perform Statistical Test to obtain P-Value"
      ],
      "metadata": {
        "id": "oZrfquKtyian"
      },
      "execution_count": null,
      "outputs": []
    },
    {
      "cell_type": "code",
      "source": [
        "# Hypothesis 1: The number of bikes rented out increases as the temperature increases.\n",
        "import scipy\n",
        "# Calculate the correlation between temperature and rented bike count.\n",
        "corr = bike_data['Temperature'].corr(bike_data['Rented_Bike_Count'])\n",
        "\n",
        "# Perform a hypothesis test to determine if the correlation is statistically significant.\n",
        "t, p = scipy.stats.ttest_ind(bike_data['Temperature'][bike_data['Rented_Bike_Count'] > 50], bike_data['Temperature'][bike_data['Rented_Bike_Count'] <= 50])\n",
        "\n",
        "# Print the results of the hypothesis test.\n",
        "print('Hypothesis 1:')\n",
        "print('Correlation between temperature and rented bike count:', corr)\n",
        "print('P-value:', p)\n",
        "if p < 0.05:\n",
        "  print('We can reject the null hypothesis and conclude that there is a statistically significant correlation between temperature and rented bike count.')\n",
        "else:\n",
        "  print('We cannot reject the null hypothesis and conclude that there is no statistically significant correlation between temperature and rented bike count.')"
      ],
      "metadata": {
        "id": "t5I8wh-zrd0O"
      },
      "execution_count": null,
      "outputs": []
    },
    {
      "cell_type": "markdown",
      "source": [
        "##### Which statistical test have you done to obtain P-Value?"
      ],
      "metadata": {
        "id": "Ou-I18pAyIpj"
      }
    },
    {
      "cell_type": "markdown",
      "source": [
        "\n",
        "t-test is a statistical test that is used to compare the means of two groups.\n",
        "It is used to determine whether the difference between the means of the two groups is statistically significant.\n",
        "\n",
        " scipy.stats provides functions for performing statistical operations, such as mean, median, standard deviation, and correlation."
      ],
      "metadata": {
        "id": "0YbwwuISzo0h"
      }
    },
    {
      "cell_type": "markdown",
      "source": [
        "Answer Here."
      ],
      "metadata": {
        "id": "s2U0kk00ygSB"
      }
    },
    {
      "cell_type": "markdown",
      "source": [
        "##### Why did you choose the specific statistical test?"
      ],
      "metadata": {
        "id": "fF3858GYyt-u"
      }
    },
    {
      "cell_type": "markdown",
      "source": [
        "Answer Here."
      ],
      "metadata": {
        "id": "HO4K0gP5y3B4"
      }
    },
    {
      "cell_type": "markdown",
      "source": [
        "\n",
        "The t-test is a parametric test that assumes that the data is normally distributed.\n",
        " Since the data in the question is not normally distributed, we cannot use the t-test.\n",
        "  Instead, we can use a non-parametric test, such as the Mann-Whitney U test. The Mann-Whitney U test does not assume that the data is normally distributed."
      ],
      "metadata": {
        "id": "F9Qd-7yn1TwL"
      }
    },
    {
      "cell_type": "markdown",
      "source": [
        "### Hypothetical Statement - 2"
      ],
      "metadata": {
        "id": "4_0_7-oCpUZd"
      }
    },
    {
      "cell_type": "markdown",
      "source": [
        "#### 1. State Your research hypothesis as a null hypothesis and alternate hypothesis."
      ],
      "metadata": {
        "id": "hwyV_J3ipUZe"
      }
    },
    {
      "cell_type": "markdown",
      "source": [
        "Answer Here."
      ],
      "metadata": {
        "id": "FnpLGJ-4pUZe"
      }
    },
    {
      "cell_type": "markdown",
      "source": [
        "- H0: There is no linear relationship between the number of bikes rented out and the solar radiation.\n",
        "- Ha: There is a linear relationship between the number of bikes rented out and the solar radiation."
      ],
      "metadata": {
        "id": "BQmg7-M-wVjj"
      }
    },
    {
      "cell_type": "markdown",
      "source": [
        "#### 2. Perform an appropriate statistical test."
      ],
      "metadata": {
        "id": "3yB-zSqbpUZe"
      }
    },
    {
      "cell_type": "code",
      "source": [
        "# Perform Statistical Test to obtain P-Value"
      ],
      "metadata": {
        "id": "sWxdNTXNpUZe"
      },
      "execution_count": null,
      "outputs": []
    },
    {
      "cell_type": "code",
      "source": [
        "# Hypothesis 2: The number of bikes rented out increases as the solar radiation increases.\n",
        "\n",
        "# Calculate the correlation between solar radiation and rented bike count.\n",
        "corr = bike_data['Solar_Radiation'].corr(bike_data['Rented_Bike_Count'])\n",
        "\n",
        "# Perform a hypothesis test to determine if the correlation is statistically significant.\n",
        "t, p = scipy.stats.ttest_ind(bike_data['Solar_Radiation'][bike_data['Rented_Bike_Count'] > 50], bike_data['Solar_Radiation'][bike_data['Rented_Bike_Count'] <= 50])\n",
        "\n",
        "# Print the results of the hypothesis test.\n",
        "print('\\nHypothesis 2:')\n",
        "print('Correlation between solar radiation and rented bike count:', corr)\n",
        "print('P-value:', p)\n",
        "if p < 0.05:\n",
        "  print('We can reject the null hypothesis and conclude that there is a statistically significant correlation between solar radiation and rented bike count.')\n",
        "else:\n",
        "  print('We cannot reject the null hypothesis and conclude that there is no statistically significant correlation between solar radiation and rented bike count.')"
      ],
      "metadata": {
        "id": "78pTa_4Ssnv5"
      },
      "execution_count": null,
      "outputs": []
    },
    {
      "cell_type": "markdown",
      "source": [
        "##### Which statistical test have you done to obtain P-Value?"
      ],
      "metadata": {
        "id": "dEUvejAfpUZe"
      }
    },
    {
      "cell_type": "markdown",
      "source": [
        "Answer Here."
      ],
      "metadata": {
        "id": "oLDrPz7HpUZf"
      }
    },
    {
      "cell_type": "markdown",
      "source": [
        " scipy.stats provides functions for performing statistical operations, such as mean, median, standard deviation, and correlation.\n",
        "\n",
        "t-test is a statistical test that is used to compare the means of two groups.\n",
        "It is used to determine whether the difference between the means of the two groups is statistically significant."
      ],
      "metadata": {
        "id": "761xw8azz8ry"
      }
    },
    {
      "cell_type": "markdown",
      "source": [
        "##### Why did you choose the specific statistical test?"
      ],
      "metadata": {
        "id": "Fd15vwWVpUZf"
      }
    },
    {
      "cell_type": "markdown",
      "source": [
        "Answer Here."
      ],
      "metadata": {
        "id": "4xOGYyiBpUZf"
      }
    },
    {
      "cell_type": "markdown",
      "source": [
        "\n",
        "The t-test is a parametric test that assumes that the data is normally distributed.\n",
        " Since the data in the question is not normally distributed, we cannot use the t-test.\n",
        "  Instead, we can use a non-parametric test, such as the Mann-Whitney U test. The Mann-Whitney U test does not assume that the data is normally distributed."
      ],
      "metadata": {
        "id": "JUA0Xkgb1QwQ"
      }
    },
    {
      "cell_type": "markdown",
      "source": [
        "### Hypothetical Statement - 3"
      ],
      "metadata": {
        "id": "bn_IUdTipZyH"
      }
    },
    {
      "cell_type": "markdown",
      "source": [
        "#### 1. State Your research hypothesis as a null hypothesis and alternate hypothesis."
      ],
      "metadata": {
        "id": "49K5P_iCpZyH"
      }
    },
    {
      "cell_type": "markdown",
      "source": [
        "Answer Here."
      ],
      "metadata": {
        "id": "7gWI5rT9pZyH"
      }
    },
    {
      "cell_type": "markdown",
      "source": [
        "- H0: There is no linear relationship between the number of bikes rented out and the wind speed.\n",
        "- Ha: There is a linear relationship between the number of bikes rented out and the wind speed.\n"
      ],
      "metadata": {
        "id": "cVQ3nunBwJy5"
      }
    },
    {
      "cell_type": "markdown",
      "source": [
        "#### 2. Perform an appropriate statistical test."
      ],
      "metadata": {
        "id": "Nff-vKELpZyI"
      }
    },
    {
      "cell_type": "code",
      "source": [
        "# Perform Statistical Test to obtain P-Value"
      ],
      "metadata": {
        "id": "s6AnJQjtpZyI"
      },
      "execution_count": null,
      "outputs": []
    },
    {
      "cell_type": "code",
      "source": [
        "\n",
        "# Hypothesis 3: The number of bikes rented out decreases as the snowfall increases.\n",
        "\n",
        "# Calculate the correlation between wind speed and rented bike count.\n",
        "corr = bike_data['Wind_speed'].corr(bike_data['Rented_Bike_Count'])\n",
        "\n",
        "# Perform a hypothesis test to determine if the correlation is statistically significant.\n",
        "t, p = scipy.stats.ttest_ind(bike_data['Wind_speed'][bike_data['Rented_Bike_Count'] > 50], bike_data['Wind_speed'][bike_data['Rented_Bike_Count'] <= 50])\n",
        "\n",
        "# Print the results of the hypothesis test.\n",
        "print('\\nHypothesis 3:')\n",
        "print('Correlation between wind speed and rented bike count:', corr)\n",
        "print('P-value:', p)\n",
        "if p < 0.05:\n",
        "  print('We can reject the null hypothesis and conclude that there is a statistically significant correlation between wind speed and rented bike count.')\n",
        "else:\n",
        "  print('We cannot reject the null hypothesis and conclude that there is no statistically significant correlation between wind speed and rented bike count.')"
      ],
      "metadata": {
        "id": "TwwfgRFrs8KW"
      },
      "execution_count": null,
      "outputs": []
    },
    {
      "cell_type": "markdown",
      "source": [
        "##### Which statistical test have you done to obtain P-Value?"
      ],
      "metadata": {
        "id": "kLW572S8pZyI"
      }
    },
    {
      "cell_type": "markdown",
      "source": [
        "Answer Here."
      ],
      "metadata": {
        "id": "ytWJ8v15pZyI"
      }
    },
    {
      "cell_type": "markdown",
      "source": [
        "\n",
        "t-test is a statistical test that is used to compare the means of two groups.\n",
        "It is used to determine whether the difference between the means of the two groups is statistically significant.\n",
        "\n",
        " scipy.stats provides functions for performing statistical operations, such as mean, median, standard deviation, and correlation."
      ],
      "metadata": {
        "id": "2eDi0b3f0Bxk"
      }
    },
    {
      "cell_type": "markdown",
      "source": [
        "##### Why did you choose the specific statistical test?"
      ],
      "metadata": {
        "id": "dWbDXHzopZyI"
      }
    },
    {
      "cell_type": "markdown",
      "source": [
        "Answer Here."
      ],
      "metadata": {
        "id": "M99G98V6pZyI"
      }
    },
    {
      "cell_type": "markdown",
      "source": [
        "\n",
        "The t-test is a parametric test that assumes that the data is normally distributed.\n",
        " Since the data in the question is not normally distributed, we cannot use the t-test.\n",
        "  Instead, we can use a non-parametric test, such as the Mann-Whitney U test. The Mann-Whitney U test does not assume that the data is normally distributed."
      ],
      "metadata": {
        "id": "0KMueSr61KMa"
      }
    },
    {
      "cell_type": "markdown",
      "source": [
        "## Conclusion\n",
        "\n",
        " - From the hypothesis testing, we can conclude that there is a statistically significant correlation between the number of bikes rented out and the temperature, solar radiation, and wind speed.\n",
        " - These results suggest that the bike rental company could increase their sales by marketing their bikes more heavily on days when the weather is warm, sunny, and windy.\n",
        " - Additionally, the bike rental company could consider investing in more bikes to meet the increased demand on these days."
      ],
      "metadata": {
        "id": "qDE_lRWlvtJ1"
      }
    },
    {
      "cell_type": "markdown",
      "source": [
        "## ***5. Feature Engineering & Data Pre-processing***"
      ],
      "metadata": {
        "id": "yLjJCtPM0KBk"
      }
    },
    {
      "cell_type": "markdown",
      "source": [
        "### 1. Handling Missing Values"
      ],
      "metadata": {
        "id": "xiyOF9F70UgQ"
      }
    },
    {
      "cell_type": "code",
      "source": [
        "# Handling Missing Values & Missing Value Imputation\n",
        "# there are no missing value in dataset"
      ],
      "metadata": {
        "id": "iRsAHk1K0fpS"
      },
      "execution_count": null,
      "outputs": []
    },
    {
      "cell_type": "markdown",
      "source": [
        "#### What all missing value imputation techniques have you used and why did you use those techniques?"
      ],
      "metadata": {
        "id": "7wuGOrhz0itI"
      }
    },
    {
      "cell_type": "markdown",
      "source": [
        "Answer Here."
      ],
      "metadata": {
        "id": "1ixusLtI0pqI"
      }
    },
    {
      "cell_type": "markdown",
      "source": [
        "## Normalise Rented_Bike_Count column data\n"
      ],
      "metadata": {
        "id": "f1J26YVu6DcI"
      }
    },
    {
      "cell_type": "markdown",
      "source": [
        "### Data transformation"
      ],
      "metadata": {
        "id": "ZKZp4S9k88al"
      }
    },
    {
      "cell_type": "markdown",
      "source": [
        "\n",
        "*   The data normalisation (aslo referred to as data pre-processing ) is a basic element of data mining. It means transforming the data, namely converting the source data into another format that allows processing data effectively.\n",
        "\n",
        "*   The main purpose of data normalisation is to minimise or even exclude duplicated data."
      ],
      "metadata": {
        "id": "tT-brAoM6DcO"
      }
    },
    {
      "cell_type": "markdown",
      "source": [
        "###  Handling Imbalanced Dataset"
      ],
      "metadata": {
        "id": "P1XJ9OREExlT"
      }
    },
    {
      "cell_type": "markdown",
      "source": [
        "## Data Distribution plot of Rented Bike Count"
      ],
      "metadata": {
        "id": "HmJOr5rm2jY4"
      }
    },
    {
      "cell_type": "code",
      "source": [
        "# Data Distribution plot of Rented Bike Count with mean and meadin\n",
        "\n",
        "plt.figure(figsize=(10,6))\n",
        "plt.xlabel('Rented_Bike_Count')\n",
        "plt.ylabel('Density')\n",
        "ax=sns.distplot(bike_data['Rented_Bike_Count'],hist=True, color='y')\n",
        "ax.axvline(bike_data['Rented_Bike_Count'].mean(), color='magenta', linestyle='dashed', linewidth=2)\n",
        "ax.axvline(bike_data['Rented_Bike_Count'].median(), color='black', linestyle='dashed', linewidth=2)\n",
        "plt.show()"
      ],
      "metadata": {
        "id": "NINEMZ5e6DcO"
      },
      "execution_count": null,
      "outputs": []
    },
    {
      "cell_type": "markdown",
      "source": [
        "\n",
        "*   The above graph shows that Rented Bike Count has moderate right skewness. Since the assumption of linear regression is that 'the distribution of dependent variable has to be normal', so we should perform some operation to make it nomal.\n",
        "\n",
        "\n"
      ],
      "metadata": {
        "id": "ur4QGoDa6DcO"
      }
    },
    {
      "cell_type": "markdown",
      "source": [
        "###  Handling Outliers"
      ],
      "metadata": {
        "id": "id1riN9m0vUs"
      }
    },
    {
      "cell_type": "code",
      "source": [
        "# Handling Outliers & Outlier treatments"
      ],
      "metadata": {
        "id": "M6w2CzZf04JK"
      },
      "execution_count": null,
      "outputs": []
    },
    {
      "cell_type": "markdown",
      "source": [
        "### Boxlpot for Rented Bike Count to check outliers"
      ],
      "metadata": {
        "id": "bAGRfb_1ZZOf"
      }
    },
    {
      "cell_type": "code",
      "source": [
        "# Handling Imbalanced Dataset (If needed)"
      ],
      "metadata": {
        "id": "nQsRhhZLFiDs"
      },
      "execution_count": null,
      "outputs": []
    },
    {
      "cell_type": "code",
      "source": [
        "# Boxlpot for dependent variable Rented Bike Count to check outliers\n",
        "plt.figure(figsize=(10,6))\n",
        "plt.ylabel('Rented_Bike_Count')\n",
        "sns.boxplot(x=bike_data['Rented_Bike_Count'])\n",
        "plt.show()"
      ],
      "metadata": {
        "id": "B3iYCi496DcO"
      },
      "execution_count": null,
      "outputs": []
    },
    {
      "cell_type": "markdown",
      "source": [
        "The above boxplot shows that we have detected outliers in Rented Bike Count column"
      ],
      "metadata": {
        "id": "yY4ocVv96DcP"
      }
    },
    {
      "cell_type": "markdown",
      "source": [
        "##### Do you think the dataset is imbalanced? Explain Why."
      ],
      "metadata": {
        "id": "VFOzZv6IFROw"
      }
    },
    {
      "cell_type": "markdown",
      "source": [
        "Answer Here."
      ],
      "metadata": {
        "id": "GeKDIv7pFgcC"
      }
    },
    {
      "cell_type": "code",
      "source": [
        "# Applying square root to Rented Bike Count to improve skewness\n",
        "\n",
        "plt.figure(figsize=(10,8))\n",
        "plt.xlabel('Rented Bike Count')\n",
        "plt.ylabel('Density')\n",
        "\n",
        "ax=sns.distplot(np.sqrt(bike_data['Rented_Bike_Count']), color='y')\n",
        "ax.axvline(np.sqrt(bike_data['Rented_Bike_Count']).mean(), color='magenta', linestyle='dashed', linewidth=2)\n",
        "ax.axvline(np.sqrt(bike_data['Rented_Bike_Count']).median(), color='black', linestyle='dashed', linewidth=2)\n",
        "\n",
        "plt.show()"
      ],
      "metadata": {
        "id": "D1mWkbM36DcP"
      },
      "execution_count": null,
      "outputs": []
    },
    {
      "cell_type": "markdown",
      "source": [
        "Since we have generic rule of applying Square root for the skewed variable in order to make it normal. After applying Square root to the skewed Rented Bike Count, here we get almost normal distribution."
      ],
      "metadata": {
        "id": "gicPZGZQ6DcP"
      }
    },
    {
      "cell_type": "code",
      "source": [
        "# After applying sqrt on Rented Bike Count c\n",
        "plt.figure(figsize=(10,6))\n",
        "\n",
        "plt.ylabel('Rented_Bike_Count')\n",
        "sns.boxplot(x=np.sqrt(bike_data['Rented_Bike_Count']))\n",
        "plt.show()\n"
      ],
      "metadata": {
        "id": "zjRriYtv6DcP"
      },
      "execution_count": null,
      "outputs": []
    },
    {
      "cell_type": "markdown",
      "source": [
        "##### What technique did you use to handle the imbalance dataset and why? (If needed to be balanced)"
      ],
      "metadata": {
        "id": "TIqpNgepFxVj"
      }
    },
    {
      "cell_type": "markdown",
      "source": [
        "##### What all outlier treatment techniques have you used and why did you use those techniques?"
      ],
      "metadata": {
        "id": "578E2V7j08f6"
      }
    },
    {
      "cell_type": "markdown",
      "source": [
        "Answer Here."
      ],
      "metadata": {
        "id": "uGZz5OrT1HH-"
      }
    },
    {
      "cell_type": "markdown",
      "source": [
        "After applying Square root to the Rented Bike Count column, we find that there is no outliers present."
      ],
      "metadata": {
        "id": "aFVkPORx6DcP"
      }
    },
    {
      "cell_type": "markdown",
      "source": [
        "## Checking of Correlation between variables"
      ],
      "metadata": {
        "id": "kTlfz_-y6gKg"
      }
    },
    {
      "cell_type": "markdown",
      "source": [
        "### Checking in OLS Model\n",
        "\n",
        "Ordinary least squares(OLS) regression is a statistical method of analysis that estimates tha realtionship between one or more independent variable and a dependent variable"
      ],
      "metadata": {
        "id": "HqatmWQK6gKu"
      }
    },
    {
      "cell_type": "code",
      "source": [
        "# import the module\n",
        "# assign the 'x', 'y', value\n",
        "\n",
        "import statsmodels.api as sm\n",
        "X = bike_data[[ 'Temperature', 'Humidity', 'Wind_speed', 'Visibility', 'Dew_point_temperature', 'Solar_Radiation', 'Rainfall', 'Snowfall']]\n",
        "y = bike_data['Rented_Bike_Count']\n",
        "bike_data.head()"
      ],
      "metadata": {
        "id": "EmmddPn76gKu"
      },
      "execution_count": null,
      "outputs": []
    },
    {
      "cell_type": "code",
      "source": [
        "# add a constant column\n",
        "X = sm.add_constant(X)\n",
        "X"
      ],
      "metadata": {
        "id": "oPUeR38l6gKu"
      },
      "execution_count": null,
      "outputs": []
    },
    {
      "cell_type": "code",
      "source": [
        "# fit a OLs model\n",
        "\n",
        "model=sm.OLS(y, X).fit()\n",
        "model.summary()"
      ],
      "metadata": {
        "id": "-2LZ6fBQ6gKu"
      },
      "execution_count": null,
      "outputs": []
    },
    {
      "cell_type": "markdown",
      "source": [
        "\n",
        "*   R square and Adj Square are near to each other. 40% of variance in the Rented Bike count is explained by the model.\n",
        "\n",
        "*   For F statistic, P value is less than 0.05 for 5% level of significance.\n",
        "*   P value of dew point temp and visibility are very high and they are not significant.\n",
        "*   Omnibus tests the skewness and kurtosis of the residuals. Here the value of Omnibus is high, it shows we have skewness in our data.\n",
        "*   The condition number is large, 3.11e+04. This might indicate that there are strong multicollinearity or other numerical problems\n",
        "\n",
        "*   Durbin-Watson tests for autocorrelation of the residuals. Here value is less than 0.5. We can say that there exists a positive auto correlation among the variable.\n",
        "\n",
        "\n",
        "\n"
      ],
      "metadata": {
        "id": "4OPp8lhj6gKu"
      }
    },
    {
      "cell_type": "code",
      "source": [
        "X.corr()"
      ],
      "metadata": {
        "id": "RaBvBePJ6gKv"
      },
      "execution_count": null,
      "outputs": []
    },
    {
      "cell_type": "markdown",
      "source": [
        "## Chart - Correlation Heatmap"
      ],
      "metadata": {
        "id": "VUxQrahN6gKv"
      }
    },
    {
      "cell_type": "markdown",
      "source": [
        "### Heatmap"
      ],
      "metadata": {
        "id": "2FYTxDU87Qy6"
      }
    },
    {
      "cell_type": "markdown",
      "source": [
        "We check correlation between variables using Correlation heatmap, it is graphical representation of correlation matrix representing correlation between different variables"
      ],
      "metadata": {
        "id": "MliSzkrq7QzA"
      }
    },
    {
      "cell_type": "code",
      "source": [
        "# Correlation Heatmap visualization code\n",
        "\n",
        "plt.figure(figsize=(15,5))\n",
        "sns.heatmap(bike_data.corr(), annot=True, cmap='coolwarm')"
      ],
      "metadata": {
        "id": "hqseiU7t7QzA"
      },
      "execution_count": null,
      "outputs": []
    },
    {
      "cell_type": "code",
      "source": [
        "# Correlation Heatmap visualization code\n",
        "# plot the Correlation matrix\n",
        "\n",
        "plt.figure(figsize=(20,8))\n",
        "correlation=bike_data.corr()\n",
        "mask = np.triu(np.ones_like(correlation, dtype=bool))\n",
        "sns.heatmap((correlation), mask=mask, annot=True, cmap='coolwarm')"
      ],
      "metadata": {
        "id": "C-mR408M7QzA"
      },
      "execution_count": null,
      "outputs": []
    },
    {
      "cell_type": "markdown",
      "source": [
        "We can observe on the heatmap that on the target variable line the most positively correlated variables to the rent are:\n",
        "\n",
        "*   the temperature\n",
        "*   the dew point temperature\n",
        "*   the solar radiation\n",
        "\n",
        "And most negatively correlated variables are:\n",
        "\n",
        "*   Humidity\n",
        "*   Rainfall\n",
        "\n",
        "*   From the above correlation heatmap, We see that there is a positive correlation between columns 'Temperature' and 'Dew point temperature' i.e 0.91 so even if we drop this column then it dont affect the outcome of our analysis. And they have the same variations. So we can drop the column 'Dew point temperature(C)'.\n",
        "\n"
      ],
      "metadata": {
        "id": "OIVc63hf7QzA"
      }
    },
    {
      "cell_type": "code",
      "source": [
        "# Drop the Dew point temperature column\n",
        "\n",
        "bike_data=bike_data.drop(['Dew_point_temperature'], axis=1)"
      ],
      "metadata": {
        "id": "i6T4EfFL7QzB"
      },
      "execution_count": null,
      "outputs": []
    },
    {
      "cell_type": "code",
      "source": [
        "# Dataset info after dropping the column\n",
        "\n",
        "bike_data.info()"
      ],
      "metadata": {
        "id": "xamfwHgF7QzB"
      },
      "execution_count": null,
      "outputs": []
    },
    {
      "cell_type": "markdown",
      "source": [
        "## Create the dummy variables for categorical columns"
      ],
      "metadata": {
        "id": "A6kCni-Wvbsp"
      }
    },
    {
      "cell_type": "markdown",
      "source": [
        "A dataset may contain various type of values, sometimes it consits of categorical values. So, in-order to use those categorical value for programming efficiently we create dummy variables."
      ],
      "metadata": {
        "id": "POuGXKuNvbsw"
      }
    },
    {
      "cell_type": "markdown",
      "source": [
        "### Features Selection"
      ],
      "metadata": {
        "id": "DzbwvEtABKJi"
      }
    },
    {
      "cell_type": "code",
      "source": [
        "# Assign all categorical features to a variable\n",
        "\n",
        "categorical_features=list(bike_data.select_dtypes(['object', 'category']).columns)\n",
        "categorical_features=pd.Index(categorical_features)\n",
        "categorical_features"
      ],
      "metadata": {
        "id": "uVJZM_Z1vbsw"
      },
      "execution_count": null,
      "outputs": []
    },
    {
      "cell_type": "markdown",
      "source": [
        "### Features Manipulation"
      ],
      "metadata": {
        "id": "GWHvxKrMBcPJ"
      }
    },
    {
      "cell_type": "markdown",
      "source": [
        "### 3. Categorical Encoding"
      ],
      "metadata": {
        "id": "89xtkJwZ18nB"
      }
    },
    {
      "cell_type": "code",
      "source": [
        "# Encode your categorical columns"
      ],
      "metadata": {
        "id": "21JmIYMG2hEo"
      },
      "execution_count": null,
      "outputs": []
    },
    {
      "cell_type": "markdown",
      "source": [
        "### one hot encoding\n"
      ],
      "metadata": {
        "id": "OsvVc-3GuNm2"
      }
    },
    {
      "cell_type": "markdown",
      "source": [
        "A one Hot Encoding allows the represention of categorical data to be more expressive. Many machine learning algorithms cannot work with categorical data directly. The categories must be converted into numbers. This is required for both input and output variables that are categorical."
      ],
      "metadata": {
        "id": "hdvLnL9buNm_"
      }
    },
    {
      "cell_type": "code",
      "source": [
        "bike_data.head()"
      ],
      "metadata": {
        "id": "X1ag5IxzuNm_"
      },
      "execution_count": null,
      "outputs": []
    },
    {
      "cell_type": "code",
      "source": [
        "# create a copy of the dataset before encoding categorical columns\n",
        "\n",
        "bike_data_copy = bike_data\n",
        "\n",
        "def one_hot_encoding(data, column):\n",
        "  data = pd.concat([data, pd.get_dummies(data[column], prefix=column, drop_first=True)], axis=1)\n",
        "  data = data.drop([column], axis=1)\n",
        "  return data\n",
        "\n",
        "for col in categorical_features:\n",
        "  bike_data_copy = one_hot_encoding(bike_data_copy,col)\n",
        "\n",
        "bike_data_copy.head()"
      ],
      "metadata": {
        "id": "CCeCNJJXuNm_"
      },
      "execution_count": null,
      "outputs": []
    },
    {
      "cell_type": "markdown",
      "source": [
        "#### What all categorical encoding techniques have you used & why did you use those techniques?"
      ],
      "metadata": {
        "id": "67NQN5KX2AMe"
      }
    },
    {
      "cell_type": "markdown",
      "source": [
        "Answer Here."
      ],
      "metadata": {
        "id": "UDaue5h32n_G"
      }
    },
    {
      "cell_type": "markdown",
      "source": [
        "One Hot Encoding allows the represention of categorical data to be more expressive.\n",
        " Many machine learning algorithms cannot work with categorical data directly. The categories must be converted into numbers.\n",
        " This is required for both input and output variables that are categorical.\n"
      ],
      "metadata": {
        "id": "s1XQ0H1y4Wor"
      }
    },
    {
      "cell_type": "markdown",
      "source": [
        "### 4. Textual Data Preprocessing\n",
        "(It's mandatory for textual dataset i.e., NLP, Sentiment Analysis, Text Clustering etc.)"
      ],
      "metadata": {
        "id": "Iwf50b-R2tYG"
      }
    },
    {
      "cell_type": "markdown",
      "source": [
        "#### 1. Expand Contraction"
      ],
      "metadata": {
        "id": "GMQiZwjn3iu7"
      }
    },
    {
      "cell_type": "code",
      "source": [
        "# Expand Contraction"
      ],
      "metadata": {
        "id": "PTouz10C3oNN"
      },
      "execution_count": null,
      "outputs": []
    },
    {
      "cell_type": "markdown",
      "source": [
        "#### 2. Lower Casing"
      ],
      "metadata": {
        "id": "WVIkgGqN3qsr"
      }
    },
    {
      "cell_type": "code",
      "source": [
        "# Lower Casing"
      ],
      "metadata": {
        "id": "88JnJ1jN3w7j"
      },
      "execution_count": null,
      "outputs": []
    },
    {
      "cell_type": "markdown",
      "source": [
        "#### 3. Removing Punctuations"
      ],
      "metadata": {
        "id": "XkPnILGE3zoT"
      }
    },
    {
      "cell_type": "code",
      "source": [
        "# Remove Punctuations"
      ],
      "metadata": {
        "id": "vqbBqNaA33c0"
      },
      "execution_count": null,
      "outputs": []
    },
    {
      "cell_type": "markdown",
      "source": [
        "#### 4. Removing URLs & Removing words and digits contain digits."
      ],
      "metadata": {
        "id": "Hlsf0x5436Go"
      }
    },
    {
      "cell_type": "code",
      "source": [
        "# Remove URLs & Remove words and digits contain digits"
      ],
      "metadata": {
        "id": "2sxKgKxu4Ip3"
      },
      "execution_count": null,
      "outputs": []
    },
    {
      "cell_type": "markdown",
      "source": [
        "#### 5. Removing Stopwords & Removing White spaces"
      ],
      "metadata": {
        "id": "mT9DMSJo4nBL"
      }
    },
    {
      "cell_type": "code",
      "source": [
        "# Remove Stopwords"
      ],
      "metadata": {
        "id": "T2LSJh154s8W"
      },
      "execution_count": null,
      "outputs": []
    },
    {
      "cell_type": "code",
      "source": [
        "# Remove White spaces"
      ],
      "metadata": {
        "id": "EgLJGffy4vm0"
      },
      "execution_count": null,
      "outputs": []
    },
    {
      "cell_type": "markdown",
      "source": [
        "#### 6. Rephrase Text"
      ],
      "metadata": {
        "id": "c49ITxTc407N"
      }
    },
    {
      "cell_type": "code",
      "source": [
        "# Rephrase Text"
      ],
      "metadata": {
        "id": "foqY80Qu48N2"
      },
      "execution_count": null,
      "outputs": []
    },
    {
      "cell_type": "markdown",
      "source": [
        "#### 7. Tokenization"
      ],
      "metadata": {
        "id": "OeJFEK0N496M"
      }
    },
    {
      "cell_type": "code",
      "source": [
        "# Tokenization"
      ],
      "metadata": {
        "id": "ijx1rUOS5CUU"
      },
      "execution_count": null,
      "outputs": []
    },
    {
      "cell_type": "markdown",
      "source": [
        "#### 8. Text Normalization"
      ],
      "metadata": {
        "id": "9ExmJH0g5HBk"
      }
    },
    {
      "cell_type": "code",
      "source": [
        "# Normalizing Text (i.e., Stemming, Lemmatization etc.)"
      ],
      "metadata": {
        "id": "AIJ1a-Zc5PY8"
      },
      "execution_count": null,
      "outputs": []
    },
    {
      "cell_type": "markdown",
      "source": [
        "##### Which text normalization technique have you used and why?"
      ],
      "metadata": {
        "id": "cJNqERVU536h"
      }
    },
    {
      "cell_type": "markdown",
      "source": [
        "Answer Here."
      ],
      "metadata": {
        "id": "Z9jKVxE06BC1"
      }
    },
    {
      "cell_type": "markdown",
      "source": [
        "#### 9. Part of speech tagging"
      ],
      "metadata": {
        "id": "k5UmGsbsOxih"
      }
    },
    {
      "cell_type": "code",
      "source": [
        "# POS Taging"
      ],
      "metadata": {
        "id": "btT3ZJBAO6Ik"
      },
      "execution_count": null,
      "outputs": []
    },
    {
      "cell_type": "markdown",
      "source": [
        "#### 10. Text Vectorization"
      ],
      "metadata": {
        "id": "T0VqWOYE6DLQ"
      }
    },
    {
      "cell_type": "code",
      "source": [
        "# Vectorizing Text"
      ],
      "metadata": {
        "id": "yBRtdhth6JDE"
      },
      "execution_count": null,
      "outputs": []
    },
    {
      "cell_type": "markdown",
      "source": [
        "##### Which text vectorization technique have you used and why?"
      ],
      "metadata": {
        "id": "qBMux9mC6MCf"
      }
    },
    {
      "cell_type": "markdown",
      "source": [
        "Answer Here."
      ],
      "metadata": {
        "id": "su2EnbCh6UKQ"
      }
    },
    {
      "cell_type": "markdown",
      "source": [
        "### 4. Feature Manipulation & Selection"
      ],
      "metadata": {
        "id": "-oLEiFgy-5Pf"
      }
    },
    {
      "cell_type": "markdown",
      "source": [
        "#### 1. Feature Manipulation"
      ],
      "metadata": {
        "id": "C74aWNz2AliB"
      }
    },
    {
      "cell_type": "code",
      "source": [
        "# Manipulate Features to minimize feature correlation and create new features"
      ],
      "metadata": {
        "id": "h1qC4yhBApWC"
      },
      "execution_count": null,
      "outputs": []
    },
    {
      "cell_type": "markdown",
      "source": [
        "#### 2. Feature Selection"
      ],
      "metadata": {
        "id": "2DejudWSA-a0"
      }
    },
    {
      "cell_type": "code",
      "source": [
        "# Select your features wisely to avoid overfitting"
      ],
      "metadata": {
        "id": "YLhe8UmaBCEE"
      },
      "execution_count": null,
      "outputs": []
    },
    {
      "cell_type": "markdown",
      "source": [
        "##### What all feature selection methods have you used  and why?"
      ],
      "metadata": {
        "id": "pEMng2IbBLp7"
      }
    },
    {
      "cell_type": "markdown",
      "source": [
        "Answer Here."
      ],
      "metadata": {
        "id": "rb2Lh6Z8BgGs"
      }
    },
    {
      "cell_type": "markdown",
      "source": [
        "##### Which all features you found important and why?"
      ],
      "metadata": {
        "id": "rAdphbQ9Bhjc"
      }
    },
    {
      "cell_type": "markdown",
      "source": [
        "Answer Here."
      ],
      "metadata": {
        "id": "fGgaEstsBnaf"
      }
    },
    {
      "cell_type": "markdown",
      "source": [
        "### 5. Data Transformation"
      ],
      "metadata": {
        "id": "TNVZ9zx19K6k"
      }
    },
    {
      "cell_type": "code",
      "source": [
        "# Transform Your data"
      ],
      "metadata": {
        "id": "I6quWQ1T9rtH"
      },
      "execution_count": null,
      "outputs": []
    },
    {
      "cell_type": "markdown",
      "source": [
        "### 6. Data Scaling"
      ],
      "metadata": {
        "id": "rMDnDkt2B6du"
      }
    },
    {
      "cell_type": "code",
      "source": [
        "# Scaling your data"
      ],
      "metadata": {
        "id": "dL9LWpySC6x_"
      },
      "execution_count": null,
      "outputs": []
    },
    {
      "cell_type": "markdown",
      "source": [
        "##### Which method have you used to scale you data and why?"
      ],
      "metadata": {
        "id": "yiiVWRdJDDil"
      }
    },
    {
      "cell_type": "markdown",
      "source": [
        "### 7. Dimesionality Reduction"
      ],
      "metadata": {
        "id": "1UUpS68QDMuG"
      }
    },
    {
      "cell_type": "markdown",
      "source": [
        "##### Do you think that dimensionality reduction is needed? Explain Why?"
      ],
      "metadata": {
        "id": "kexQrXU-DjzY"
      }
    },
    {
      "cell_type": "markdown",
      "source": [
        "Answer Here."
      ],
      "metadata": {
        "id": "GGRlBsSGDtTQ"
      }
    },
    {
      "cell_type": "code",
      "source": [
        "# DImensionality Reduction (If needed)"
      ],
      "metadata": {
        "id": "kQfvxBBHDvCa"
      },
      "execution_count": null,
      "outputs": []
    },
    {
      "cell_type": "markdown",
      "source": [
        "##### Which dimensionality reduction technique have you used and why? (If dimensionality reduction done on dataset.)"
      ],
      "metadata": {
        "id": "T5CmagL3EC8N"
      }
    },
    {
      "cell_type": "markdown",
      "source": [
        "Answer Here."
      ],
      "metadata": {
        "id": "ZKr75IDuEM7t"
      }
    },
    {
      "cell_type": "markdown",
      "source": [
        "## Model Training"
      ],
      "metadata": {
        "id": "ZYiu9j6fsPq9"
      }
    },
    {
      "cell_type": "markdown",
      "source": [
        "### 8. Data Splitting"
      ],
      "metadata": {
        "id": "BhH2vgX9EjGr"
      }
    },
    {
      "cell_type": "markdown",
      "source": [
        "### Train Test split for regression"
      ],
      "metadata": {
        "id": "XX-4BfqssPrD"
      }
    },
    {
      "cell_type": "markdown",
      "source": [
        "Before, fitting any model it is a rule of thumb to split the dataset into a training and test set. This means some proportions of the data will go into training the model and some portion will be used to evaluate how our model is performing on any unseen data. The proportions may vary from 60:40, 70:30, 75:25 depending on the person but mostly used is 80:20 for training and testing respectively. In this step we will split our data into traing and testing set using scikit learn library."
      ],
      "metadata": {
        "id": "lJfOUb5tsPrD"
      }
    },
    {
      "cell_type": "code",
      "source": [
        "# Assign the value in X and Y\n",
        "\n",
        "X = bike_data_copy.drop(columns=['Rented_Bike_Count'], axis=1)\n",
        "y = np.sqrt(bike_data_copy['Rented_Bike_Count'])\n"
      ],
      "metadata": {
        "id": "_q5FtIZ3sPrD"
      },
      "execution_count": null,
      "outputs": []
    },
    {
      "cell_type": "code",
      "source": [
        "X.head()"
      ],
      "metadata": {
        "id": "itUIWjjMsPrE"
      },
      "execution_count": null,
      "outputs": []
    },
    {
      "cell_type": "code",
      "source": [
        "y.head()"
      ],
      "metadata": {
        "id": "KAqSzlDMsPrE"
      },
      "execution_count": null,
      "outputs": []
    },
    {
      "cell_type": "code",
      "source": [
        "# Split your data to train and test. Choose Splitting ratio wisely."
      ],
      "metadata": {
        "id": "0CTyd2UwEyNM"
      },
      "execution_count": null,
      "outputs": []
    },
    {
      "cell_type": "code",
      "source": [
        "# Split your data to train and test. Choose Splitting ratio wisely.\n",
        "\n",
        "from sklearn.model_selection import train_test_split\n",
        "X_train, X_test, y_train, y_test = train_test_split(X,y, test_size=0.25, random_state=0)\n",
        "print(X_train.shape)\n",
        "print(X_test.shape)"
      ],
      "metadata": {
        "id": "yDJ42uR5sPrE"
      },
      "execution_count": null,
      "outputs": []
    },
    {
      "cell_type": "markdown",
      "source": [
        "##### What data splitting ratio have you used and why?"
      ],
      "metadata": {
        "id": "qjKvONjwE8ra"
      }
    },
    {
      "cell_type": "markdown",
      "source": [
        "Answer Here."
      ],
      "metadata": {
        "id": "Y2lJ8cobFDb_"
      }
    },
    {
      "cell_type": "markdown",
      "source": [
        "- 75:25 is a commonly used data splitting ratio for training and testing datasets in machine learning.\n",
        "This ratio splits the data into 75% training data and 25% testing data.\n",
        "- This ratio is often used because it provides a good balance between the amount of data available for training the model and the amount of data available for testing the model.\n",
        "- A higher training data ratio (e.g., 80:20 or 90:10) may result in a model that is more accurate on the training data but less accurate on new data,\n",
        "  while a lower training data ratio (e.g., 60:40 or 50:50) may result in a model that is more accurate on new data but less accurate on the training data."
      ],
      "metadata": {
        "id": "S20Ie7M25fjI"
      }
    },
    {
      "cell_type": "markdown",
      "source": [
        "### Data Scaling"
      ],
      "metadata": {
        "id": "pOUE5OcpDEbK"
      }
    },
    {
      "cell_type": "code",
      "source": [
        "# Scaling your data\n",
        "\n",
        "scaler = MinMaxScaler()"
      ],
      "metadata": {
        "id": "wJcQiXtJsWTP"
      },
      "execution_count": null,
      "outputs": []
    },
    {
      "cell_type": "markdown",
      "source": [
        "#### Which method have you used to scale your data and why?"
      ],
      "metadata": {
        "id": "xK2H05pEDPqN"
      }
    },
    {
      "cell_type": "markdown",
      "source": [
        "- MinMaxScaler()\n",
        "\n",
        "- MinMaxScaler normalizes the data in the range of 0 to 1.\n",
        "This is done by subtracting the minimum value from each data point and dividing the result by the range of values.\n",
        " This ensures that all of the data points are on the same scale, which can help improve the performance of machine learning algorithms.\n",
        "\n",
        "- MinMaxScaler is often used when the data is skewed or has outliers. This is because the scaling process helps to reduce the impact of outliers on the model.\n",
        "\n",
        "- MinMaxScaler is a simple and effective data scaling method that can be used with a variety of machine learning algorithms."
      ],
      "metadata": {
        "id": "29ECczfl6je7"
      }
    },
    {
      "cell_type": "markdown",
      "source": [
        "### Data Transformation"
      ],
      "metadata": {
        "id": "tedYEsqYDyEE"
      }
    },
    {
      "cell_type": "code",
      "source": [
        "# transform your data\n",
        "\n",
        "X_train = scaler.fit_transform(X_train) #fitting the X_train\n",
        "X_test = scaler.transform(X_test) # transform test set"
      ],
      "metadata": {
        "id": "sffy64AfsyII"
      },
      "execution_count": null,
      "outputs": []
    },
    {
      "cell_type": "code",
      "source": [
        "# Dataset columns\n",
        "\n",
        "bike_data_copy.describe().columns"
      ],
      "metadata": {
        "id": "ZWX4yd6usPrE"
      },
      "execution_count": null,
      "outputs": []
    },
    {
      "cell_type": "markdown",
      "source": [
        "### Explaining Evaluation Metrics and regression graphs"
      ],
      "metadata": {
        "id": "7P9z4sKudeU2"
      }
    },
    {
      "cell_type": "markdown",
      "source": [
        "#### Evaluation Metrics\n",
        "The evaluation metrics used in this study include:\n",
        "\n",
        "- R2 score\n",
        " - The R2 score is a measure of how well the model fits the data.\n",
        " - A higher R2 score indicates that the model is able to explain more of the variation in the data.\n",
        " - For example, if the R2 score is 0.8, then the model is able to explain 80% of the variation in the data.\n",
        "\n",
        "- MSE\n",
        " - It tells you how close a regression line is to a set of points.\n",
        " - It does this by taking the distances from the points to the regression line (these distances are the 'errors') and squaring them.\n",
        " - i.e.The MSE is a measure of how much error the model makes on average.\n",
        " - A lower MSE indicates that the model makes less error on average.\n",
        " - For example, if the MSE is 10, then the model makes an average error of 10.\n",
        "\n",
        "- RMSE\n",
        " - It is the square root of the MSE.\n",
        " - It is also a measure of how well the model fits the data,\n",
        " but it is expressed in the same units as the target variable.\n",
        "\n",
        "- MAE\n",
        " - It measures the average of the absolute differences between the predicted and actual values.\n",
        " - It is a measure of how much the model's predictions deviate from the actual values.\n",
        " - i.e.The MAE is a measure of how much error the model makes on average.\n",
        " - A lower MAE indicates that the model makes less error on average.\n",
        " - For example, if the MAE is 5, then the model makes an average error of 5.\n",
        "\n",
        "- Accuracy\n",
        " - The accuracy is a measure of how often the model makes correct predictions.\n",
        " - A higher accuracy indicates that the model makes more correct predictions.\n",
        " - For example, if the accuracy is 90%, then the model makes 90% correct predictions.\n",
        "\n",
        "#### Graphs\n",
        "The graphs used in this study include:  \n",
        "* **Scatter plot of actual vs. predicted values**: This graph shows the relationship between the predicted and actual values.\n",
        "A good model will have a scatter plot that is close to a straight line.\n",
        "* **Histogram of residuals**: This graph shows the distribution of the residuals,\n",
        " which are the differences between the predicted and actual values. A good model will have a histogram of residuals that is centered around 0.\n",
        "* **Box plot of residuals**: This graph shows the distribution of the residuals by group.\n",
        " A good model will have a box plot of residuals that is symmetric around 0.\n",
        "\n",
        "These evaluation metrics and graphs are used to assess the performance of the models and to determine which model is the best fit for the data."
      ],
      "metadata": {
        "id": "aacA4-iTduPk"
      }
    },
    {
      "cell_type": "markdown",
      "source": [
        "# ***7. ML Model Implementation***"
      ],
      "metadata": {
        "id": "VfCC591jGiD4"
      }
    },
    {
      "cell_type": "markdown",
      "source": [
        "## ML Model - 1"
      ],
      "metadata": {
        "id": "OB4l2ZhMeS1U"
      }
    },
    {
      "cell_type": "code",
      "source": [
        "# ML Model - 1 Implementation\n",
        "\n",
        "# Fit the Algorithm\n",
        "\n",
        "# Predict on the model"
      ],
      "metadata": {
        "id": "7ebyywQieS1U"
      },
      "execution_count": null,
      "outputs": []
    },
    {
      "cell_type": "markdown",
      "source": [
        "#### 1. Explain the ML Model used and it's performance using Evaluation metric Score Chart."
      ],
      "metadata": {
        "id": "ArJBuiUVfxKd"
      }
    },
    {
      "cell_type": "markdown",
      "source": [
        "## LINEAR REGRESSION"
      ],
      "metadata": {
        "id": "cqBLmCvYf8xH"
      }
    },
    {
      "cell_type": "markdown",
      "source": [
        "### Model Explanation"
      ],
      "metadata": {
        "id": "kgpCzZarPZCD"
      }
    },
    {
      "cell_type": "markdown",
      "source": [
        "Regression models describe the relationship between variables by fitting a line to the observed data. Linear regression models use a straight line.\n",
        "\n",
        "Linear regression uses a linear approach to model the relationship between independent and dependent variables. In simple words its a best fit line drawn over the values of independent variables and dependent variable. In case of single variable, the formula is same as straight line equation having an intercept and slope.\n",
        "\n",
        "                      y_pred = B0 + B1x\n",
        " where                B0 and B1  \n",
        " are intercept and slope respectively.\n",
        "\n",
        " In case of multiple features the formula translates into:\n",
        "                      y_pred = B0 + B1x1 + B2x2 + B3x3 + .......\n",
        "\n",
        "where x_1, x_2, x_3 are the features values and\n",
        "\n",
        "                             B0, B1, B2 ...........\n",
        "are weights assigned to each of the features. These become the parameters which the algorithm tries to learn using Gradient descent."
      ],
      "metadata": {
        "id": "bEOOZhbDf8xN"
      }
    },
    {
      "cell_type": "markdown",
      "source": [
        "Gradient descent is the process by which the algorithm tries to update the parameters using a loss function. Loss function is nothing but the difference between the actual values and predicted values (aka error or residuals). There are different types of loss function but this is the simplest one. Loss function summed over all observation gives the cost functions. The role of gradient descent is to update the parameters till the cost function is minimised i.e., a global minima is reached. It uses a hyperparameter 'alpha' that gives a weightage to the cost function and decides on how big the steps to take.  \n",
        "Alpha is called as the learning rate. It is always necessary to keep an optimal value of alpha as high and low values of alpha might make the gradient descent overshoot or get stuck at a local minima. There are aslo some basic assuptions that must be fulfilled before implementing this algorithm. They are:\n",
        "\n",
        "1.   No multicollinearity in the dataset.\n",
        "2.   Independent variables should show linear relationship with dv.\n",
        "3.   Residual mean should be 0 or close 0.\n",
        "4.   There should be no heteroscedasticity i.e, variance should be constant along the line of best fit.\n",
        "\n",
        "Let us now implement our first model. We will be using Linear Regression from scikit library.\n"
      ],
      "metadata": {
        "id": "9fxSjerlf8xN"
      }
    },
    {
      "cell_type": "code",
      "source": [
        "# import the packages\n",
        "\n",
        "from sklearn.linear_model import LinearRegression"
      ],
      "metadata": {
        "id": "i5lUywGjf8xN"
      },
      "execution_count": null,
      "outputs": []
    },
    {
      "cell_type": "code",
      "source": [
        "# Function for ML Models Implementation,Fit the Algorithm, Predict on the model, evaluating the metric score and visualisation\n",
        "\n",
        "# empty list for appending performance metric score\n",
        "model_result = []\n",
        "\n",
        "def predict(ml_model,model_name):\n",
        "\n",
        "  '''\n",
        "  Pass the model and predict value.\n",
        "  Function will calculate all the evaluation metrics and appending those metrics score on model_result list.\n",
        "  Plotting different graphs for test data.\n",
        "  '''\n",
        "\n",
        "  # Fit the Algorithm\n",
        "  model = ml_model.fit(X_train,y_train)\n",
        "\n",
        "  # Predict on the model\n",
        "  y_train_pred = model.predict(X_train)\n",
        "  y_test_pred = model.predict(X_test)\n",
        "\n",
        "  # Reverse the transformation on the predictions    (In case if we need y_train_pred in original and transformed way)\n",
        "  y_train_pred_original = np.power(y_train_pred, 2)\n",
        "  y_test_pred_original = np.power(y_test_pred, 2)\n",
        "\n",
        "  # graph --> best fit line on test data\n",
        "  sns.regplot(x=y_test_pred, y=y_test, line_kws={'color':'red'})\n",
        "  plt.title('best fit line on test data')\n",
        "  plt.xlabel('Predicted')\n",
        "  plt.ylabel('Actual')\n",
        "\n",
        "  '''Evaluation metrics on train data'''\n",
        "  train_MSE  = round(mean_squared_error(y_train, y_train_pred),3)\n",
        "  train_RMSE = round(np.sqrt(train_MSE),3)\n",
        "  train_r2 = round(r2_score(y_train, y_train_pred),3)\n",
        "  train_MAE = round(mean_absolute_error(y_train, y_train_pred),3)\n",
        "  train_adj_r2 = round(1-(1-r2_score(y_train, y_train_pred))*((X_train.shape[0]-1)/(X_train.shape[0]-X_train.shape[1]-1)),3)\n",
        "  print(\"Evaluation metrics on train data\")\n",
        "  print(f'train MSE : {train_MSE}')\n",
        "  print(f'train RMSE : {train_RMSE}')\n",
        "  print(f'train MAE : {train_MAE}')\n",
        "  print(f'train R2 : {train_r2}')\n",
        "  print(f'train Adj R2 : {train_adj_r2}')\n",
        "  print('-'*150)\n",
        "\n",
        "  '''Evaluation metrics on test data'''\n",
        "  test_MSE  = round(mean_squared_error(y_test, y_test_pred),3)\n",
        "  test_RMSE = round(np.sqrt(test_MSE),3)\n",
        "  test_r2 = round(r2_score(y_test, y_test_pred),3)\n",
        "  test_MAE = round(mean_absolute_error(y_test, y_test_pred),3)\n",
        "  test_adj_r2 = round(1-(1-r2_score(y_test, y_test_pred))*((X_test.shape[0]-1)/(X_test.shape[0]-X_test.shape[1]-1)),3)\n",
        "  print(\"Evaluation metrics on test data\")\n",
        "  print(f'test MSE : {test_MSE}')\n",
        "  print(f'test RMSE : {test_RMSE}')\n",
        "  print(f'test MAE : {test_MAE}')\n",
        "  print(f'test R2 : {test_r2}')\n",
        "  print(f'test Adj R2 : {test_adj_r2}')\n",
        "  print('-'*150)\n",
        "\n",
        "  # graph --> actual vs predicted on test data\n",
        "  plt.figure(figsize=(6,5))\n",
        "  plt.plot((y_test_pred)[:20])\n",
        "  plt.plot(np.array((y_test)[:20]))\n",
        "  plt.title('actual vs predicted on test data')\n",
        "  plt.legend([\"Predicted\",\"Actual\"])\n",
        "  plt.xlabel('Test Data on last 20 points')\n",
        "  plt.show()\n",
        "  print('-'*150)\n",
        "\n",
        "  '''actual vs predicted value on test data'''\n",
        "  d = {'y_actual':y_test, 'y_predict':y_test_pred, 'error':y_test-y_test_pred}\n",
        "  print(pd.DataFrame(data=d).head().T)\n",
        "  print('-'*150)\n",
        "\n",
        "  # using the score from the performance metrics to create the final model_result.\n",
        "  model_result.append({'model':model_name,\n",
        "                       'train MSE':train_MSE,\n",
        "                       'test MSE':test_MSE,\n",
        "                       'train RMSE':train_RMSE,\n",
        "                       'test RMSE':test_RMSE,\n",
        "                       'train MAE':train_MAE,\n",
        "                       'test MAE':test_MAE,\n",
        "                       'train R2':train_r2,\n",
        "                       'test R2':test_r2,\n",
        "                       'train Adj R2':train_adj_r2,\n",
        "                       'test Adj R2':test_adj_r2})\n"
      ],
      "metadata": {
        "id": "Rs6PsLLr8u0I"
      },
      "execution_count": null,
      "outputs": []
    },
    {
      "cell_type": "markdown",
      "source": [
        "### Predict on model & Visualizing evaluation Metric Score chart - Linear Regression"
      ],
      "metadata": {
        "id": "iFjBCSzkPnck"
      }
    },
    {
      "cell_type": "code",
      "source": [
        " # Assigning a model to a variable\n",
        "lr=LinearRegression()\n",
        "\n",
        "# Predict on model and visualisation of actual and predicted values\n",
        "predict(lr, 'LinearRegression')"
      ],
      "metadata": {
        "id": "mYFAot7q9LXb"
      },
      "execution_count": null,
      "outputs": []
    },
    {
      "cell_type": "markdown",
      "source": [
        "- From the evaluation metrics, we can see that the Linear Regression model has a good performance on both train and test data.\n",
        "The MSE, RMSE, and MAE values are low, and the R2 value is high.\n",
        "This indicates that the model is able to explain a significant amount of the variation in the data.\n",
        "\n",
        "- The graph of the actual vs predicted values on the test data shows that the model is able to accurately predict the values.\n",
        "The points are generally close to the line of best fit, and there is no obvious trend in the residuals.\n",
        "\n",
        "- Overall, the Linear Regression model is a good choice for predicting the demand for bikes based on the features that we have.\n",
        "It is simple to train and interpret, and it has a good performance on both train and test data."
      ],
      "metadata": {
        "id": "W_PqFOVdot1H"
      }
    },
    {
      "cell_type": "code",
      "source": [
        "# check the train R2 score\n",
        "\n",
        "lr.score(X_train, y_train)\n"
      ],
      "metadata": {
        "id": "mEtK9p7WDRa_"
      },
      "execution_count": null,
      "outputs": []
    },
    {
      "cell_type": "code",
      "source": [
        "# check the coefficeint\n",
        "\n",
        "lr.coef_"
      ],
      "metadata": {
        "id": "UHw2dYHkDTqS"
      },
      "execution_count": null,
      "outputs": []
    },
    {
      "cell_type": "markdown",
      "source": [
        "- The coefficient of each feature in the linear regression model shows the impact of that feature on the predicted sales.\n",
        "- The higher the coefficient, the more impact the feature has on the predicted sales.\n",
        "- Overall, the coefficients of the features show that the season, holiday, workingday, weather, temp, atemp, humidity,\n",
        "and windspeed features all have impact on the predicted sales."
      ],
      "metadata": {
        "id": "ainN0mhE5RVc"
      }
    },
    {
      "cell_type": "markdown",
      "source": [
        "### Cross- Validation Score"
      ],
      "metadata": {
        "id": "c6uH6qz9RByz"
      }
    },
    {
      "cell_type": "markdown",
      "source": [
        "\n",
        "-  It is used to estimate how well a model will perform on unseen data, and to help select the best model for a given task.\n",
        "- Cross-validation is performed by dividing the data into k folds, where k is typically between 5 and 10.\n",
        "-  Each fold is used as a test set once, and the remaining k-1 folds are used as the training set.\n",
        "-  The performance of the model is then evaluated on each test set,\n",
        "and the average performance is used to estimate the overall performance of the model.\n",
        "\n",
        "- Cross-validation is more robust than traditional train-test splits, because it takes into account the variability of the data.\n",
        "-  By using different folds for each test set, cross-validation helps to ensure that the performance of the model is not overestimated.\n",
        "\n",
        "- The cross-validation score is the average performance of the model on the k test sets.\n",
        " It is a measure of how well the model generalizes to unseen data.\n",
        "\n",
        "- The cross-validation score can be used to compare different models and to select the best model for a given task.\n",
        "- The model with the highest cross-validation score is likely to perform the best on unseen data."
      ],
      "metadata": {
        "id": "hIGRBmgn7g_3"
      }
    },
    {
      "cell_type": "code",
      "source": [
        "# Cross- Validation Score\n",
        "\n",
        "from sklearn.model_selection import cross_val_score\n",
        "score=cross_val_score(estimator=lr,X=X_train,y=y_train,cv=10)\n",
        "print(\"Cross Validation Scores are: {:.2f}%\".format(score.mean()*100))\n",
        "print(\"Average Cross Validation score :{}\".format(score.mean()))\n",
        "print(\"standart deviation :{:.2f}\".format(score.std()*100))\n"
      ],
      "metadata": {
        "id": "Clr78q4Q9JXx"
      },
      "execution_count": null,
      "outputs": []
    },
    {
      "cell_type": "markdown",
      "source": [
        "\n",
        " - The model is able to explain a significant amount of the variation in the data, as evidenced by the high R2 values on both the training and test sets.\n",
        " - The model is also able to accurately predict the values, as evidenced by the low MSE, RMSE, and MAE values on both the training and test sets.\n",
        " - The model is simple to train and interpret, making it a good choice for predicting based on the features that we have.\n",
        " - The cross-validation scores are also good, indicating that the model is not overfitting to the training data.\n",
        " - Overall, the Linear Regression model is a good choice for predicting the sales of a product based on the features that we have."
      ],
      "metadata": {
        "id": "SeSd7RPomWEb"
      }
    },
    {
      "cell_type": "markdown",
      "source": [
        "####  Cross- Validation & Hyperparameter Tuning"
      ],
      "metadata": {
        "id": "4qY1EAkEfxKe"
      }
    },
    {
      "cell_type": "code",
      "source": [
        "# ML Model - 1 Implementation with hyperparameter optimization techniques (i.e., GridSearch CV, RandomSearch CV, Bayesian Optimization etc.)\n",
        "\n",
        "# Fit the Algorithm\n",
        "\n",
        "# Predict on the model"
      ],
      "metadata": {
        "id": "Dy61ujd6fxKe"
      },
      "execution_count": null,
      "outputs": []
    },
    {
      "cell_type": "markdown",
      "source": [
        "##### Which hyperparameter optimization technique have you used and why?"
      ],
      "metadata": {
        "id": "PiV4Ypx8fxKe"
      }
    },
    {
      "cell_type": "markdown",
      "source": [
        "Answer Here."
      ],
      "metadata": {
        "id": "negyGRa7fxKf"
      }
    },
    {
      "cell_type": "markdown",
      "source": [
        "##### Have you seen any improvement? Note down the improvement with updates Evaluation metric Score Chart."
      ],
      "metadata": {
        "id": "TfvqoZmBfxKf"
      }
    },
    {
      "cell_type": "markdown",
      "source": [
        "Answer Here."
      ],
      "metadata": {
        "id": "OaLui8CcfxKf"
      }
    },
    {
      "cell_type": "markdown",
      "source": [
        "## ML Model - 2"
      ],
      "metadata": {
        "id": "Fze-IPXLpx6K"
      }
    },
    {
      "cell_type": "markdown",
      "source": [
        "## RIDGE REGRESSION"
      ],
      "metadata": {
        "id": "up0clsRYjnm6"
      }
    },
    {
      "cell_type": "markdown",
      "source": [
        "### Explain the ML Model used and it's performance"
      ],
      "metadata": {
        "id": "Yyj6w6O2npTo"
      }
    },
    {
      "cell_type": "markdown",
      "source": [
        "- Ridge Regression is a linear regression model that is regularized by the L2 norm.\n",
        "- This means that the model adds a penalty to its loss function that is proportional to the sum of the squared coefficients.\n",
        " This penalty helps to prevent the model from overfitting to the training data.\n",
        "\n",
        "- Ridge Regression is often used when the number of features is large compared to the number of observations.\n",
        "This is because the L2 penalty helps to prevent the model from learning redundant features.\n",
        "\n",
        "- Ridge Regression can be more robust to noise than Linear Regression, but it can also be more computationally expensive."
      ],
      "metadata": {
        "id": "mcQb8D-LqlVC"
      }
    },
    {
      "cell_type": "code",
      "source": [
        "# import the packages\n",
        "from sklearn.linear_model import Ridge\n",
        "\n",
        "#Assigning model to a variable\n",
        "ridge=Ridge(alpha=0.1)"
      ],
      "metadata": {
        "id": "EMyscGQijnnA"
      },
      "execution_count": null,
      "outputs": []
    },
    {
      "cell_type": "code",
      "source": [
        "# Predict on model and visualisation of actual and predicted values\n",
        "\n",
        "predict(ridge, 'Ridge')"
      ],
      "metadata": {
        "id": "r1iU4ZK1KbtH"
      },
      "execution_count": null,
      "outputs": []
    },
    {
      "cell_type": "markdown",
      "source": [
        "### train R2 score"
      ],
      "metadata": {
        "id": "3gL1x6E8bUrB"
      }
    },
    {
      "cell_type": "code",
      "source": [
        "# check the train R2 score\n",
        "\n",
        "ridge.score(X_train, y_train)"
      ],
      "metadata": {
        "id": "TF9QYRz1jnnA"
      },
      "execution_count": null,
      "outputs": []
    },
    {
      "cell_type": "markdown",
      "source": [
        "### Cross Validation Scores"
      ],
      "metadata": {
        "id": "5KIK6mVnbHL_"
      }
    },
    {
      "cell_type": "code",
      "source": [
        "# Cross Validation Scores\n",
        "\n",
        "from sklearn.model_selection import cross_val_score\n",
        "score=cross_val_score(estimator=ridge,X=X_train,y=y_train,cv=10)\n",
        "print(\"Cross Validation Scores are: {:.2f}%\".format(score.mean()*100))\n",
        "print(\"Average Cross Validation score :{}\".format(score.mean()))\n",
        "print(\"standart deviation :{:.2f}\".format(score.std()*100))\n"
      ],
      "metadata": {
        "id": "oRym1zqGLWIi"
      },
      "execution_count": null,
      "outputs": []
    },
    {
      "cell_type": "markdown",
      "source": [
        "- From the evaluation metrics, we can see that the Ridge Regression model has a good performance on both train and test data.\n",
        "The MSE, RMSE, and MAE values are low, and the R2 value is high.\n",
        "This indicates that the model is able to explain a significant amount of the variation in the data.\n",
        "\n",
        "- The graph of the actual vs predicted values on the test data shows that the model is able to accurately predict the values.\n",
        "The points are generally close to the line of best fit, and there is no obvious trend in the residuals.\n",
        "\n",
        "- Overall, the Ridge Regression model is a good choice for predicting\n",
        "It is simple to train and interpret, and it has a good performance on both train and test data."
      ],
      "metadata": {
        "id": "HeF1nz-Im78y"
      }
    },
    {
      "cell_type": "markdown",
      "source": [
        "#### 2. Cross- Validation & Hyperparameter Tuning"
      ],
      "metadata": {
        "id": "9PIHJqyupx6M"
      }
    },
    {
      "cell_type": "code",
      "source": [
        "# ML Model - 2 Implementation with hyperparameter optimization techniques (i.e., GridSearch CV, RandomSearch CV, Bayesian Optimization etc.)\n",
        "\n",
        "# Fit the Algorithm\n",
        "\n",
        "# Predict on the model"
      ],
      "metadata": {
        "id": "eSVXuaSKpx6M"
      },
      "execution_count": null,
      "outputs": []
    },
    {
      "cell_type": "markdown",
      "source": [
        "##### Which hyperparameter optimization technique have you used and why?"
      ],
      "metadata": {
        "id": "_-qAgymDpx6N"
      }
    },
    {
      "cell_type": "markdown",
      "source": [
        "Answer Here."
      ],
      "metadata": {
        "id": "lQMffxkwpx6N"
      }
    },
    {
      "cell_type": "markdown",
      "source": [
        "##### Have you seen any improvement? Note down the improvement with updates Evaluation metric Score Chart."
      ],
      "metadata": {
        "id": "Z-hykwinpx6N"
      }
    },
    {
      "cell_type": "markdown",
      "source": [
        "Answer Here."
      ],
      "metadata": {
        "id": "MzVzZC6opx6N"
      }
    },
    {
      "cell_type": "markdown",
      "source": [
        "## ML Model - 3"
      ],
      "metadata": {
        "id": "lcMCGD1QkSVd"
      }
    },
    {
      "cell_type": "markdown",
      "source": [
        "# ELASTIC NET REGRESSION"
      ],
      "metadata": {
        "id": "wlzfdn0cnbdi"
      }
    },
    {
      "cell_type": "markdown",
      "source": [
        "### Explain the ML Model used and it's performance using Evaluation Metric Score Chart"
      ],
      "metadata": {
        "id": "ozbiFnfQnwft"
      }
    },
    {
      "cell_type": "markdown",
      "source": [
        "\n",
        "It is a linear regression model that is regularized by the L1 and L2 norms.\n",
        "- This means that the model adds a penalty to its loss function that is proportional to the sum of the absolute values of the coefficients and the sum of the squared coefficients.\n",
        " This penalty helps to prevent the model from overfitting to the training data and from learning redundant features.\n",
        "\n",
        "- It is often used when the number of features is large compared to the number of observations.\n",
        "This is because the L1 penalty helps to prevent the model from learning redundant features.\n",
        "\n",
        "- It can be more robust to noise than Linear Regression and Ridge Regression, but it can also be more computationally expensive.\n"
      ],
      "metadata": {
        "id": "2_Zp8h4cv08m"
      }
    },
    {
      "cell_type": "code",
      "source": [
        "# Import the packages\n",
        "\n",
        "from sklearn.linear_model import ElasticNet\n",
        "\n",
        "# Assigning model to a variable\n",
        "elasticnet = ElasticNet(alpha=0.1, l1_ratio=0.5, max_iter=1000)"
      ],
      "metadata": {
        "id": "UYuehSmwnbdo"
      },
      "execution_count": null,
      "outputs": []
    },
    {
      "cell_type": "code",
      "source": [
        "# Predict on model and visualisation of actual and predicted values\n",
        "\n",
        "predict(elasticnet, 'Elastic Net')"
      ],
      "metadata": {
        "id": "rCJLkfgWMV1u"
      },
      "execution_count": null,
      "outputs": []
    },
    {
      "cell_type": "markdown",
      "source": [
        "### Cross Validation Score"
      ],
      "metadata": {
        "id": "fy7b7yAVkvTY"
      }
    },
    {
      "cell_type": "code",
      "source": [
        "# Cross Validation Score\n",
        "\n",
        "from sklearn.model_selection import cross_val_score\n",
        "score=cross_val_score(estimator=elasticnet,X=X_train,y=y_train,cv=10)\n",
        "print(\"Cross Validation Scores are: {:.2f}%\".format(score.mean()*100))\n",
        "print(\"Average Cross Validation score :{}\".format(score.mean()))\n",
        "print(\"standart deviation :{:.2f}\".format(score.std()*100))"
      ],
      "metadata": {
        "id": "zJvUAif2PFWI"
      },
      "execution_count": null,
      "outputs": []
    },
    {
      "cell_type": "markdown",
      "source": [
        "\n",
        "- From the evaluation metrics, we can see that the Elastic Net Regression model is not performing well on both train and test data.\n",
        "The MSE, RMSE, and MAE values are high, and the R2 value is low.\n",
        "This indicates that the model is not able to explain a significant amount of the variation in the data.\n",
        "\n",
        "- The graph of the actual vs predicted values on the test data shows that the model is not able to accurately predict the values.\n",
        "The points are generally not that close to the line of best fit, and there is no obvious trend in the residuals.\n",
        "\n",
        "- Overall, the Elastic Net Regression model is not good choice for predicting\n",
        "It is simple to train and interpret, but it is not a good performance on both train and test data.\n"
      ],
      "metadata": {
        "id": "8jlIos8wv8iO"
      }
    },
    {
      "cell_type": "markdown",
      "source": [
        "## ML Model - 4"
      ],
      "metadata": {
        "id": "DWUVhtNtkWtf"
      }
    },
    {
      "cell_type": "markdown",
      "source": [
        "## KNeighbors Regressor"
      ],
      "metadata": {
        "id": "Qj5yXQUDlbb3"
      }
    },
    {
      "cell_type": "markdown",
      "source": [
        "### Explain the ML Model used and it's performance using Evaluation Metric Score Chart"
      ],
      "metadata": {
        "id": "4lPSVmYGn1_5"
      }
    },
    {
      "cell_type": "markdown",
      "source": [
        "KNeighborsRegressor is a lazy learning algorithm that uses k-nearest neighbors to predict the value of a target variable.\n",
        "It works by finding the k most similar data points to the new data point and then averaging their target values.\n",
        "The value of k is a hyperparameter that can be tuned to improve the performance of the model."
      ],
      "metadata": {
        "id": "s1k0747SxVtk"
      }
    },
    {
      "cell_type": "code",
      "source": [
        "# Assignign KNeighbors Regressor to a variable\n",
        "KNN =KNeighborsRegressor(n_neighbors=3)\n",
        "\n",
        "# Predict on model and visualisation of actual and predicted values\n",
        "predict(KNeighborsRegressor(n_neighbors=3),'KNN')"
      ],
      "metadata": {
        "id": "335A5vnsjA3G"
      },
      "execution_count": null,
      "outputs": []
    },
    {
      "cell_type": "markdown",
      "source": [
        "## Cross Validation Scores"
      ],
      "metadata": {
        "id": "okQR3W8pl1lW"
      }
    },
    {
      "cell_type": "code",
      "source": [
        "# Cross Validation Scores\n",
        "\n",
        "from sklearn.model_selection import cross_val_score\n",
        "score=cross_val_score(estimator=KNN,X=X_train,y=y_train,cv=10)\n",
        "print(\"Cross Validation Scores are: {:.2f}%\".format(score.mean()*100))\n",
        "print(\"Average Cross Validation score :{}\".format(score.mean()))\n",
        "print(\"standart deviation :{:.2f}\".format(score.std()*100))"
      ],
      "metadata": {
        "id": "zwZWealbSEKh"
      },
      "execution_count": null,
      "outputs": []
    },
    {
      "cell_type": "markdown",
      "source": [
        "- From the evaluation metrics, we can see that the KNN model has a good performance on both train but not good performance on test data as compared to train data.\n",
        "The MSE, RMSE, and MAE values are low, and the R2 value is high.\n",
        "This indicates that the model is able to explain a significant amount of the variation in the data.\n",
        "\n",
        "- Overall, the KNeighborsRegressor model is a good choice for predicting\n",
        "It is simple to train and interpret, and it has a good performance on train and  with some hyperparameter tuning we can improve model to test on test data or on unseen data."
      ],
      "metadata": {
        "id": "kh03Efngw3Hx"
      }
    },
    {
      "cell_type": "markdown",
      "source": [
        "## ML Model - 5"
      ],
      "metadata": {
        "id": "g99xgRDekZgq"
      }
    },
    {
      "cell_type": "markdown",
      "source": [
        "# Support Vector Regressor"
      ],
      "metadata": {
        "id": "ryAHLDvloHNT"
      }
    },
    {
      "cell_type": "markdown",
      "source": [
        "### Explain the ML Model used and it's performance using Evaluation Metric Score Chart"
      ],
      "metadata": {
        "id": "TBr565Hen7c-"
      }
    },
    {
      "cell_type": "markdown",
      "source": [
        "\n",
        " It is a supervised learning algorithm that is used for regression tasks.\n",
        " It is a type of kernel machine that uses the concept of support vectors to find a linear decision boundary that separates the data points.\n",
        " The support vectors are the data points that are closest to the decision boundary and they determine the shape of the decision boundary.\n",
        "\n",
        "The SVR algorithm works by finding the hyperplane that minimizes the sum of the squared errors between the predicted values and the actual values.\n",
        " The hyperplane is defined by a set of coefficients and a bias term.\n",
        " The coefficients determine the direction of the hyperplane and the bias term determines the distance of the hyperplane from the origin.\n",
        "\n",
        "The SVR algorithm can be used to solve a variety of regression problems, including housing price prediction, stock price prediction,\n",
        " and sales forecasting. It is a powerful algorithm that can achieve good performance on a variety of datasets.\n",
        "\n",
        "Here are some of the advantages and disadvantages of the SVR algorithm:\n",
        "Advantages:\n",
        "- It is a robust algorithm that can handle outliers and noisy data.\n",
        "- It can be used to solve both linear and nonlinear regression problems.\n",
        "- It can be used to predict both continuous and categorical values.\n",
        "\n",
        "Disadvantages:\n",
        "- It can be computationally expensive to train, especially for large datasets.\n",
        "- It can be difficult to find the optimal hyperparameters for the algorithm.\n",
        "- It can be sensitive to the choice of kernel function.\n",
        "\n",
        "Overall, the SVR algorithm is a powerful tool for solving regression problems. It is a versatile algorithm that can be used to solve a variety of problems. However, it is important to be aware of the advantages and disadvantages of the algorithm before using it.\n"
      ],
      "metadata": {
        "id": "e7MrbkPi2kRc"
      }
    },
    {
      "cell_type": "code",
      "source": [
        "# Assigning model to a variable\n",
        "\n",
        "SVR=SVR(kernel='rbf',C=100)"
      ],
      "metadata": {
        "id": "lkY7OWV7T82R"
      },
      "execution_count": null,
      "outputs": []
    },
    {
      "cell_type": "code",
      "source": [
        "# Predict on model and visualisation of actual and predicted values\n",
        "\n",
        "predict(SVR, 'SVM')"
      ],
      "metadata": {
        "id": "2LermPO0Pxg_"
      },
      "execution_count": null,
      "outputs": []
    },
    {
      "cell_type": "markdown",
      "source": [
        "### Cross Validation Scores"
      ],
      "metadata": {
        "id": "NUZtIBEJqgc8"
      }
    },
    {
      "cell_type": "code",
      "source": [
        "# Cross Validation Scores\n",
        "\n",
        "from sklearn.model_selection import cross_val_score\n",
        "score=cross_val_score(estimator=SVR,X=X_train,y=y_train,cv=10)\n",
        "print(\"Cross Validation Scores are: {:.2f}%\".format(score.mean()*100))\n",
        "print(\"Average Cross Validation score :{}\".format(score.mean()))\n",
        "print(\"standart deviation :{:.2f}\".format(score.std()*100))"
      ],
      "metadata": {
        "id": "hb01HGXnT33C"
      },
      "execution_count": null,
      "outputs": []
    },
    {
      "cell_type": "markdown",
      "source": [
        "\n",
        "- From the evaluation metrics, we can see that the SVR model has a good performance on both train and test data.\n",
        "The MSE, RMSE, and MAE values are low, and the R2 value is high.\n",
        "This indicates that the model is able to explain a significant amount of the variation in the data.\n",
        "\n",
        "- The graph of the actual vs predicted values on the test data shows that the model is able to accurately predict the values.\n",
        "The points are generally close to the line of best fit, and there is no obvious trend in the residuals.\n",
        "\n",
        "- Overall, the SVR model is a good choice for predicting\n",
        "It is simple to train and interpret, and it has a good performance on both train and test data."
      ],
      "metadata": {
        "id": "o_L7w_XvytCK"
      }
    },
    {
      "cell_type": "markdown",
      "source": [
        "## ML Model - 6"
      ],
      "metadata": {
        "id": "krG-rKxrkdj_"
      }
    },
    {
      "cell_type": "markdown",
      "source": [
        "# Decision Tree Regressor"
      ],
      "metadata": {
        "id": "t1IdjDJYqsuD"
      }
    },
    {
      "cell_type": "markdown",
      "source": [
        "### Explain the ML Model used and it's performance using Evaluation Metric Score Chart"
      ],
      "metadata": {
        "id": "rXGKid7vqc7i"
      }
    },
    {
      "cell_type": "markdown",
      "source": [
        "\n",
        "\n",
        "- The decision tree regressor is a supervised learning algorithm that uses a decision tree to predict the value of a continuous target variable.\n",
        "- The decision tree is a hierarchical structure that is built by recursively splitting the data into smaller and smaller subsets.\n",
        "- At each split, the data is divided into two groups based on the value of a single feature.\n",
        "- The goal of the splitting process is to create subsets that are as pure as possible with respect to the target variable.\n",
        "- Once the decision tree is built, it can be used to predict the value of the target variable for new data points.\n",
        "- To make a prediction, the new data point is recursively passed down the decision tree until it reaches a leaf node.\n",
        "- The leaf node contains the predicted value of the target variable.\n",
        "- The decision tree regressor is a powerful algorithm that can be used to solve a variety of regression problems.\n",
        "- It is relatively simple to train and interpret, and it can handle both continuous and categorical features.\n",
        "- However, decision trees can be prone to overfitting, so it is important to use regularization techniques to prevent this.\n"
      ],
      "metadata": {
        "id": "5Qvym0tN50c_"
      }
    },
    {
      "cell_type": "code",
      "source": [
        "# Predict on model and visualisation of actual and predicted values\n",
        "\n",
        "dtr = DecisionTreeRegressor(min_samples_leaf=20, min_samples_split=3,max_depth=20, random_state=33)\n",
        "predict(dtr, 'Decision Tree')"
      ],
      "metadata": {
        "id": "sfKLm-E3P89T"
      },
      "execution_count": null,
      "outputs": []
    },
    {
      "cell_type": "markdown",
      "source": [
        "### Cross Validation Scores"
      ],
      "metadata": {
        "id": "zRYcPYOrFTpE"
      }
    },
    {
      "cell_type": "code",
      "source": [
        "# Cross Validation Scores\n",
        "\n",
        "from sklearn.model_selection import cross_val_score\n",
        "score=cross_val_score(estimator=dtr,X=X_train,y=y_train,cv=10)\n",
        "print(\"Cross Validation Scores are: {:.2f}%\".format(score.mean()*100))\n",
        "print(\"Average Cross Validation score :{}\".format(score.mean()))\n",
        "print(\"standart deviation :{:.2f}\".format(score.std()*100))\n"
      ],
      "metadata": {
        "id": "qLUzCtV6ElBh"
      },
      "execution_count": null,
      "outputs": []
    },
    {
      "cell_type": "markdown",
      "source": [
        "\n",
        " - From the evaluation metrics, we can see that the DTR model has a good performance on both train and test data.\n",
        " The MSE, RMSE, and MAE values are low, and the R2 value is high.\n",
        " This indicates that the model is able to explain a significant amount of the variation in the data.\n",
        "\n",
        " - The graph of the actual vs predicted values on the test data shows that the model is able to accurately predict the values.\n",
        " The points are generally close to the line of best fit, and there is no obvious trend in the residuals.\n",
        "\n",
        " - Overall, the DTR model is a good choice for predicting\n",
        " It is simple to train and interpret, and it has a good performance on both train and test data.\n",
        "\n"
      ],
      "metadata": {
        "id": "qawvtoDY6eSg"
      }
    },
    {
      "cell_type": "markdown",
      "source": [
        "## ML Model - 7"
      ],
      "metadata": {
        "id": "BQc9DZUUC09P"
      }
    },
    {
      "cell_type": "markdown",
      "source": [
        "# Random Forest Regressor"
      ],
      "metadata": {
        "id": "jfhxDoSHC_xt"
      }
    },
    {
      "cell_type": "markdown",
      "source": [
        "### Explain the ML Model used and it's performance using Evaluation Metric Score Chart"
      ],
      "metadata": {
        "id": "gjdi9EcqFbjz"
      }
    },
    {
      "cell_type": "markdown",
      "source": [
        "- The random forest regressor is a supervised learning algorithm that uses a collection of decision trees to predict the value of a continuous target variable.\n",
        "\n",
        "- Each decision tree is built using a different subset of the training data and a different set of features.\n",
        "The predictions from the individual decision trees are then averaged to create a final prediction.\n",
        "\n",
        "- The random forest regressor is a powerful algorithm that can be used to solve a variety of regression problems.\n",
        "It is relatively simple to train and interpret, and it can handle both continuous and categorical features.\n",
        "\n",
        "- Additionally, random forests are resistant to overfitting, so they can be used to predict on data that is not very clean.\n",
        "\n"
      ],
      "metadata": {
        "id": "aVMwy-Bg7jCZ"
      }
    },
    {
      "cell_type": "markdown",
      "source": [
        "####  Cross- Validation & Hyperparameter Tuning"
      ],
      "metadata": {
        "id": "7DSf9rZSr1mh"
      }
    },
    {
      "cell_type": "code",
      "source": [
        "# ML Model -  Implementation with hyperparameter optimization techniques (i.e., GridSearch CV, RandomSearch CV, Bayesian Optimization etc.)\n",
        "\n",
        "param_grid = {'n_estimators': [50,80],       # number of trees in the ensemble\n",
        "             'max_depth': [15,20],           # maximum number of levels allowed in each tree.\n",
        "             'min_samples_split': [5,15],    # minimum number of samples necessary in a node to cause node splitting.\n",
        "             'min_samples_leaf': [3,5]}      # minimum number of samples which can be stored in a tree leaf.\n",
        "\n",
        "# Initialize the RandomForestRegressor model\n",
        "rf = RandomForestRegressor()\n",
        "\n",
        "# Use GridSearchCV to perform a grid search over the parameter grid\n",
        "grid_search = GridSearchCV(rf, param_grid=param_grid, cv=5, scoring='r2')\n",
        "\n",
        "# Fit the model to the training data\n",
        "grid_search.fit(X, y)"
      ],
      "metadata": {
        "id": "VW05Om5SQH_y"
      },
      "execution_count": null,
      "outputs": []
    },
    {
      "cell_type": "code",
      "source": [
        "# Get the best parameters from the grid search\n",
        "\n",
        "rf_optimal_model = grid_search.best_estimator_\n",
        "rf_optimal_model"
      ],
      "metadata": {
        "id": "H-2WqLtxQRAY"
      },
      "execution_count": null,
      "outputs": []
    },
    {
      "cell_type": "code",
      "source": [
        "# Predict on model and visualisation of actual and predicted values\n",
        "\n",
        "predict(rf_optimal_model, 'Random Forest')"
      ],
      "metadata": {
        "id": "m3chauLYQU2e"
      },
      "execution_count": null,
      "outputs": []
    },
    {
      "cell_type": "markdown",
      "source": [
        "### Cross Validation Scores"
      ],
      "metadata": {
        "id": "a5CfzrZ3qPLT"
      }
    },
    {
      "cell_type": "code",
      "source": [
        "# Cross Validation Scores\n",
        "\n",
        "from sklearn.model_selection import cross_val_score\n",
        "score=cross_val_score(estimator=rf_optimal_model,X=X_train,y=y_train,cv=10)\n",
        "print(\"Cross Validation Scores are: {:.2f}%\".format(score.mean()*100))\n",
        "print(\"Average Cross Validation score :{}\".format(score.mean()))\n",
        "print(\"standart deviation :{:.2f}\".format(score.std()*100))\n"
      ],
      "metadata": {
        "id": "M-UN0v6yOYDT"
      },
      "execution_count": null,
      "outputs": []
    },
    {
      "cell_type": "markdown",
      "source": [
        "##### Which hyperparameter optimization technique have you used and why?"
      ],
      "metadata": {
        "id": "OvvROJEzr1my"
      }
    },
    {
      "cell_type": "markdown",
      "source": [
        "Answer Here."
      ],
      "metadata": {
        "id": "9bruYjnmr1my"
      }
    },
    {
      "cell_type": "markdown",
      "source": [
        "- We used GridSearchCV to perform a grid search over the parameter grid.\n",
        "-  GridSearchCV is a popular hyperparameter optimization technique that is used to find the best combination of hyperparameters for a given model.\n",
        "- It works by iteratively training the model on all possible combinations of hyperparameters in the grid,\n",
        "  and then selecting the combination that gives the best performance on the validation set."
      ],
      "metadata": {
        "id": "fYif-nWwAFC3"
      }
    },
    {
      "cell_type": "markdown",
      "source": [
        "##### Have you seen any improvement? Note down the improvement with updates Evaluation metric Score Chart."
      ],
      "metadata": {
        "id": "Ng6ndQD6r1mz"
      }
    },
    {
      "cell_type": "markdown",
      "source": [
        "Answer Here."
      ],
      "metadata": {
        "id": "ze7BXzI2tE1e"
      }
    },
    {
      "cell_type": "markdown",
      "source": [
        "- Based on the evaluation metrics, the random forest regressor outperforms the decision tree regressor.\n",
        "- The random forest regressor has a higher R2 score, lower MSE, and lower MAE.\n",
        "- This indicates that the random forest regressor is able to explain more of the variation in the data and make more accurate predictions."
      ],
      "metadata": {
        "id": "egouG3OQBo6T"
      }
    },
    {
      "cell_type": "markdown",
      "source": [
        "## Model Explainability"
      ],
      "metadata": {
        "id": "FKmVy8IIEpMb"
      }
    },
    {
      "cell_type": "markdown",
      "source": [
        "### Explain the feature importance using any model explainability tool?"
      ],
      "metadata": {
        "id": "Qd89ioGsuYCM"
      }
    },
    {
      "cell_type": "code",
      "source": [
        "# feature importance\n",
        "importances = rf_optimal_model.feature_importances_\n",
        "\n",
        "# Creating a dictonary\n",
        "importance_dict = {'Feature' : list(X.columns),\n",
        "                   'Feature Importance' : importances}\n",
        "\n",
        "# Creating the dataframe\n",
        "importance = pd.DataFrame(importance_dict)\n",
        "sorting_features = importance.sort_values(by=['Feature Importance'],ascending=False)\n",
        "sorting_features"
      ],
      "metadata": {
        "id": "WOm5Sv37P_9T"
      },
      "execution_count": null,
      "outputs": []
    },
    {
      "cell_type": "code",
      "source": [
        "# plotting feature importance graph\n",
        "\n",
        "plt.figure(figsize=(15,12))\n",
        "bar = sns.barplot(x='Feature Importance', y='Feature', data=sorting_features, color='blue')\n",
        "bar.set_title('Important Features')\n",
        "plt.show()"
      ],
      "metadata": {
        "id": "HQ48SCmQQTJ5"
      },
      "execution_count": null,
      "outputs": []
    },
    {
      "cell_type": "markdown",
      "source": [
        "\n",
        "- The feature importance graph shows the relative importance of each feature in the model.\n",
        "- The more important a feature is, the higher it is ranked in the graph.\n",
        "- The features at the top of the graph are the most important features for predicting the target variable,\n",
        "- while the features at the bottom of the graph are the least important features.\n",
        "- In this case, the most important features are 'year', 'month', 'day', and 'hour'.\n",
        "- These features are all related to the date and time of the event,\n",
        "  which is not surprising since the model is predicting the number of events that will occur on a given day.\n",
        "- The least important features are 'temperature', 'humidity', and 'wind speed'.\n",
        "These features are not as important for predicting the number of events since they are not directly related to the date and time of the event."
      ],
      "metadata": {
        "id": "3vdtgg699bQL"
      }
    },
    {
      "cell_type": "markdown",
      "source": [
        "### Explain each evaluation metric's indiction towards business and the business impact of the ML model used."
      ],
      "metadata": {
        "id": "Wva8E-VEtwYj"
      }
    },
    {
      "cell_type": "markdown",
      "source": [
        "- The business impact of the ML model can be assessed by considering the following factors:\n",
        "\n",
        " - * **Cost savings:** The ML model can be used to predict the number of events that will occur on a given day,\n",
        "which can help businesses to save money by reducing the number of resources that they need to allocate to each event.\n",
        " - * **Revenue generation:** The ML model can be used to predict the number of events that will occur on a given day,\n",
        "which can help businesses to generate more revenue by increasing the number of resources that they allocate to each event.\n",
        " - * **Customer satisfaction:** The ML model can be used to predict the number of events that will occur on a given day,\n",
        "which can help businesses to improve customer satisfaction by ensuring that they have enough resources available\n",
        " to meet the needs of their customers.\n",
        " - * **Business intelligence:** The ML model can be used to provide businesses with insights into the factors that\n",
        "are most likely to influence the number of events that occur on a given day.\n",
        "This information can be used to make better business decisions."
      ],
      "metadata": {
        "id": "JMrO9j81cfug"
      }
    },
    {
      "cell_type": "markdown",
      "source": [
        "## ML Model - 8"
      ],
      "metadata": {
        "id": "Z6bttPT-kf2H"
      }
    },
    {
      "cell_type": "markdown",
      "source": [
        "# AdaBoost"
      ],
      "metadata": {
        "id": "cZa-KNhpRFmw"
      }
    },
    {
      "cell_type": "markdown",
      "source": [
        "### Explain the ML Model used and it's performance using Evaluation Metric Score Chart"
      ],
      "metadata": {
        "id": "sU7CnyoDtSDZ"
      }
    },
    {
      "cell_type": "markdown",
      "source": [
        "- The AdaBoost regressor is a supervised learning algorithm that uses a sequence of decision trees to predict the value of a continuous target variable.\n",
        "\n",
        "- Each decision tree is built using the residuals from the previous tree.\n",
        "The goal of the boosting process is to create a model that can accurately predict the target variable while minimizing the error.\n",
        "\n",
        "- The AdaBoost regressor is a powerful algorithm that can be used to solve a variety of regression problems.\n",
        "\n",
        "- It is relatively simple to train and interpret, and it can handle both continuous and categorical features.\n",
        "\n",
        "- Additionally, AdaBoost is resistant to overfitting, so it can be used to predict on data that is not very clean."
      ],
      "metadata": {
        "id": "9vhms4Dp-V9v"
      }
    },
    {
      "cell_type": "code",
      "source": [
        "# Create a base decision tree regression model\n",
        "dt = DecisionTreeRegressor(max_depth=12)\n",
        "\n",
        "# Initialize the AdaBoost regression model\n",
        "ada = AdaBoostRegressor(base_estimator=dt, n_estimators=60, learning_rate=1, random_state =33)\n",
        "\n",
        "# Predict using function\n",
        "predict(ada, 'AdaBoost')"
      ],
      "metadata": {
        "id": "F1H6Zv4DRYNt"
      },
      "execution_count": null,
      "outputs": []
    },
    {
      "cell_type": "markdown",
      "source": [
        "### Cross Validation Scores"
      ],
      "metadata": {
        "id": "mbmJ7nIRvxal"
      }
    },
    {
      "cell_type": "code",
      "source": [
        "# Cross Validation Scores\n",
        "\n",
        "from sklearn.model_selection import cross_val_score\n",
        "score=cross_val_score(estimator=ada,X=X_train,y=y_train,cv=10)\n",
        "print(\"Cross Validation Scores are: {:.2f}%\".format(score.mean()*100))\n",
        "print(\"Average Cross Validation score :{}\".format(score.mean()))\n",
        "print(\"standart deviation :{:.2f}\".format(score.std()*100))\n"
      ],
      "metadata": {
        "id": "1G0PLZ7ASDig"
      },
      "execution_count": null,
      "outputs": []
    },
    {
      "cell_type": "markdown",
      "source": [
        "## Model Explainability"
      ],
      "metadata": {
        "id": "VxYO-J04wIZS"
      }
    },
    {
      "cell_type": "markdown",
      "source": [
        "### Explain the feature importance using any model explainability tool?"
      ],
      "metadata": {
        "id": "LaH9cYWmwIsa"
      }
    },
    {
      "cell_type": "code",
      "source": [
        "# feature importance\n",
        "importances = ada.feature_importances_\n",
        "\n",
        "# Creating a dictonary\n",
        "importance_dict = {'Feature' : list(X.columns),\n",
        "                   'Feature Importance' : importances}\n",
        "\n",
        "# Creating the dataframe\n",
        "importance = pd.DataFrame(importance_dict)\n",
        "sorting_features = importance.sort_values(by=['Feature Importance'],ascending=False)\n",
        "sorting_features"
      ],
      "metadata": {
        "id": "M_XefdSITHST"
      },
      "execution_count": null,
      "outputs": []
    },
    {
      "cell_type": "code",
      "source": [
        "# plotting feature importance graph\n",
        "\n",
        "plt.figure(figsize=(15,12))\n",
        "bar = sns.barplot(x='Feature Importance', y='Feature', data=sorting_features, color='blue')\n",
        "bar.set_title('Important Features')\n",
        "plt.show()"
      ],
      "metadata": {
        "id": "cYprQSa0TTXs"
      },
      "execution_count": null,
      "outputs": []
    },
    {
      "cell_type": "markdown",
      "source": [
        "\n",
        "- The feature importance graph shows the relative importance of each feature in the model.\n",
        "- The more important a feature is, the higher it is ranked in the graph.\n",
        "- The features at the top of the graph are the most important features for predicting the target variable,\n",
        "- while the features at the bottom of the graph are the least important features.\n",
        "- In this case, the most important features are 'year', 'month', 'day', and 'hour'.\n",
        "- These features are all related to the date and time of the event,\n",
        "  which is not surprising since the model is predicting the number of events that will occur on a given day.\n",
        "- The least important features are 'temperature', 'humidity', and 'wind speed'.\n",
        "- These features are not as important for predicting the number of events since they are not directly related to the date and time of the event."
      ],
      "metadata": {
        "id": "0uG4rme1c83q"
      }
    },
    {
      "cell_type": "markdown",
      "source": [
        "### Explain each evaluation metric's indiction towards business and the business impact of the ML model used."
      ],
      "metadata": {
        "id": "o4Tpdvtwxr3f"
      }
    },
    {
      "cell_type": "markdown",
      "source": [
        "- The business impact of the ML model can be assessed by considering the following factors:\n",
        "\n",
        " - * **Cost savings:** The ML model can be used to predict the number of events that will occur on a given day,\n",
        "which can help businesses to save money by reducing the number of resources that they need to allocate to each event.\n",
        " - * **Revenue generation:** The ML model can be used to predict the number of events that will occur on a given day,\n",
        "which can help businesses to generate more revenue by increasing the number of resources that they allocate to each event.\n",
        " - * **Customer satisfaction:** The ML model can be used to predict the number of events that will occur on a given day,\n",
        "which can help businesses to improve customer satisfaction by ensuring that they have enough resources available\n",
        " to meet the needs of their customers.\n",
        " - * **Business intelligence:** The ML model can be used to provide businesses with insights into the factors that\n",
        "are most likely to influence the number of events that occur on a given day.\n",
        "This information can be used to make better business decisions."
      ],
      "metadata": {
        "id": "6iaDfTkndIrs"
      }
    },
    {
      "cell_type": "markdown",
      "source": [
        "## ML Model - 9"
      ],
      "metadata": {
        "id": "lQqRu-IXUCEE"
      }
    },
    {
      "cell_type": "markdown",
      "source": [
        "#  Xtreme Gradient Boosting"
      ],
      "metadata": {
        "id": "7P6ZMSf1Rul6"
      }
    },
    {
      "cell_type": "markdown",
      "source": [
        "### Explain the ML Model used and it's performance using Evaluation Metric Score Chart"
      ],
      "metadata": {
        "id": "zerkSTNvw9uW"
      }
    },
    {
      "cell_type": "markdown",
      "source": [
        "- XGBoost is an open-source machine learning library that is used for both classification and regression tasks.\n",
        "- It is based on the gradient boosting algorithm, which is a powerful ensemble learning method.\n",
        "- XGBoost is known for its speed and accuracy, and it is often used for large-scale datasets.\n"
      ],
      "metadata": {
        "id": "2ZO8YCP2Lfx8"
      }
    },
    {
      "cell_type": "markdown",
      "source": [
        "####  Cross- Validation & Hyperparameter Tuning"
      ],
      "metadata": {
        "id": "4KktRpgfxiFJ"
      }
    },
    {
      "cell_type": "code",
      "source": [
        "# ML Model -  Implementation with hyperparameter optimization techniques (i.e., GridSearch CV, RandomSearch CV, Bayesian Optimization etc.)\n",
        "\n",
        "param_grid = {'n_estimators': [300,500],     # number of trees in the ensemble\n",
        "             'max_depth': [7,8],             # maximum number of levels allowed in each tree.\n",
        "             'min_samples_split': [3,5],     # minimum number of samples necessary in a node to cause node splitting.\n",
        "             'min_samples_leaf': [3,5]}      # minimum number of samples which can be stored in a tree leaf.\n",
        "\n",
        "\n",
        "# Initialize the RandomForestRegressor model\n",
        "xgb = XGBRegressor()\n",
        "\n",
        "# Use GridSearchCV to perform a grid search over the parameter grid\n",
        "grid_search = GridSearchCV(xgb, param_grid=param_grid, cv=10, scoring='r2')\n",
        "\n",
        "# Fit the model to the training data\n",
        "grid_search.fit(X, y)"
      ],
      "metadata": {
        "id": "j4HOnLU4DVj9"
      },
      "execution_count": null,
      "outputs": []
    },
    {
      "cell_type": "code",
      "source": [
        "# Get the best parameters from the grid search\n",
        "\n",
        "xgb_optimal_model = grid_search.best_estimator_\n",
        "xgb_optimal_model"
      ],
      "metadata": {
        "id": "7cwVwaGXYbIy"
      },
      "execution_count": null,
      "outputs": []
    },
    {
      "cell_type": "code",
      "source": [
        "# Predict on model and visualisation of actual and predicted values\n",
        "\n",
        "predict(xgb_optimal_model, 'XGB')"
      ],
      "metadata": {
        "id": "WwRfycRiKZaM"
      },
      "execution_count": null,
      "outputs": []
    },
    {
      "cell_type": "markdown",
      "source": [
        "### Cross Validation Scores"
      ],
      "metadata": {
        "id": "aIp5oio2yT6o"
      }
    },
    {
      "cell_type": "code",
      "source": [
        "# Cross Validation Scores\n",
        "\n",
        "from sklearn.model_selection import cross_val_score\n",
        "score=cross_val_score(estimator=xgb_optimal_model,X=X_train,y=y_train)\n",
        "print(\"Cross Validation Scores are: {:.2f}%\".format(score.mean()*100))\n",
        "print(\"Average Cross Validation score :{}\".format(score.mean()))\n",
        "print(\"standart deviation :{:.2f}\".format(score.std()*100))"
      ],
      "metadata": {
        "id": "50HvfzQpVnv9"
      },
      "execution_count": null,
      "outputs": []
    },
    {
      "cell_type": "markdown",
      "source": [
        "Which hyperparameter optimization technique have you used and why?"
      ],
      "metadata": {
        "id": "q2oGYqWl1elg"
      }
    },
    {
      "cell_type": "markdown",
      "source": [
        "Answer Here.\n"
      ],
      "metadata": {
        "id": "Yb6ZoRMs1hFD"
      }
    },
    {
      "cell_type": "markdown",
      "source": [
        "- We used GridSearchCV to perform a grid search over the parameter grid.\n",
        "-  GridSearchCV is a popular hyperparameter optimization technique that is used to find the best combination of hyperparameters for a given model.\n",
        "- It works by iteratively training the model on all possible combinations of hyperparameters in the grid,\n",
        "  and then selecting the combination that gives the best performance on the validation set."
      ],
      "metadata": {
        "id": "y8Hh2Tx7m5W7"
      }
    },
    {
      "cell_type": "markdown",
      "source": [
        "Have you seen any improvement? Note down the improvement with updates Evaluation metric Score Chart."
      ],
      "metadata": {
        "id": "-_T462kV1kBQ"
      }
    },
    {
      "cell_type": "markdown",
      "source": [
        "Answer Here."
      ],
      "metadata": {
        "id": "K4uW9STj1mjc"
      }
    },
    {
      "cell_type": "markdown",
      "source": [
        "- The evaluation metrics for the XGBoost model are as follows:\n",
        " - Evaluation metrics on test data\n",
        " - test MSE : 10.743\n",
        " - test RMSE : 3.278\n",
        " - test MAE : 2.186\n",
        " - test R2 : 0.932\n",
        " - test Adj R2 : 0.93\n",
        "\n",
        "- These metrics are better than the metrics for the AdaBoost model, which are as follows:\n",
        " - Evaluation metrics on test data\n",
        " - test MSE : 12.896\n",
        " - test RMSE : 3.591\n",
        " - test MAE : 2.484\n",
        " - test R2 : 0.918\n",
        " - test Adj R2 : 0.917\n",
        "\n",
        "- Therefore, the XGBoost model is better than the XGBBoost model."
      ],
      "metadata": {
        "id": "9Evgvu7UyuTn"
      }
    },
    {
      "cell_type": "markdown",
      "source": [
        "## Model Explainability"
      ],
      "metadata": {
        "id": "ag-uixypGu2W"
      }
    },
    {
      "cell_type": "markdown",
      "source": [
        "# Explain the feature importance using any model explainability tool?"
      ],
      "metadata": {
        "id": "iOFL_FGV2c7O"
      }
    },
    {
      "cell_type": "code",
      "source": [
        "# feature importance\n",
        "importances = xgb_optimal_model.feature_importances_\n",
        "\n",
        "# Creating a dictonary\n",
        "importance_dict = {'Feature' : list(X.columns),\n",
        "                   'Feature Importance' : importances}\n",
        "\n",
        "# Creating the dataframe\n",
        "importance = pd.DataFrame(importance_dict)\n",
        "sorting_features = importance.sort_values(by=['Feature Importance'],ascending=False)\n",
        "sorting_features"
      ],
      "metadata": {
        "id": "vlhYEa3rKwW6"
      },
      "execution_count": null,
      "outputs": []
    },
    {
      "cell_type": "code",
      "source": [
        "# plotting feature importance graph\n",
        "\n",
        "plt.figure(figsize=(15,12))\n",
        "bar = sns.barplot(x='Feature Importance', y='Feature', data=sorting_features, color='blue')\n",
        "bar.set_title('Important Features')\n",
        "plt.show()"
      ],
      "metadata": {
        "id": "H9RMXn6UK-GV"
      },
      "execution_count": null,
      "outputs": []
    },
    {
      "cell_type": "markdown",
      "source": [
        "\n",
        "\n",
        "The feature importance graph shows that the most important features for predicting the number of events that will occur on a given day are the following:\n",
        "- Functioning day or not\n",
        "- Holiday or nor\n",
        "- weekdays or weekends\n",
        "- temperature\n",
        "- humidity\n",
        "- wind speed\n",
        "- precipitation\n",
        "- cloud cover\n",
        "These features are all related to the functioning day, holiday , weekday or weekend, seasons, which is a major factor in determining how many people will attend an event.\n",
        "For example, if it is functioning day, weekends, more people are likely to go for bike riding, while if the weekday, no functioning fewer people are likely to go for biking.\n",
        "The feature importance graph can be used to help understand how the model is making predictions,\n",
        "and to identify which features are most important for making accurate predictions.\n",
        "This information can be used to improve the model by focusing on the most important features, and by de-emphasizing the less important features."
      ],
      "metadata": {
        "id": "WTMumSkPusPo"
      }
    },
    {
      "cell_type": "markdown",
      "source": [
        "## ML Model - 10"
      ],
      "metadata": {
        "id": "FRIU4UoaYKwe"
      }
    },
    {
      "cell_type": "markdown",
      "source": [
        "# Light GBM"
      ],
      "metadata": {
        "id": "KqmlRx_-LR8C"
      }
    },
    {
      "cell_type": "markdown",
      "source": [
        "### Explain the ML Model used and it's performance using Evaluation Metric Score Chart"
      ],
      "metadata": {
        "id": "H6O9oej34ilC"
      }
    },
    {
      "cell_type": "markdown",
      "source": [
        "\n",
        "- LightGBM is an open-source machine learning library that is used for both classification and regression tasks.\n",
        "- It is based on the gradient boosting algorithm, which is a powerful ensemble learning method.\n",
        "- LightGBM is known for its speed and efficiency, and it is often used for large-scale data sets."
      ],
      "metadata": {
        "id": "ivrvGUONMANM"
      }
    },
    {
      "cell_type": "markdown",
      "source": [
        "####  Cross- Validation & Hyperparameter Tuning"
      ],
      "metadata": {
        "id": "X2aGJOWk4vxw"
      }
    },
    {
      "cell_type": "code",
      "source": [
        "# ML Model -  Implementation with hyperparameter optimization techniques (i.e., GridSearch CV, RandomSearch CV, Bayesian Optimization etc.)\n",
        "\n",
        "param_grid = {'n_estimators': [600,800],     # number of trees in the ensemble\n",
        "             'max_depth': [8,10],            # maximum number of levels allowed in each tree.\n",
        "             'min_samples_split': [4,8],     # minimum number of samples necessary in a node to cause node splitting.\n",
        "             'min_samples_leaf': [6,7]}      # minimum number of samples which can be stored in a tree leaf.\n",
        "\n",
        "\n",
        "# Initialize the RandomForestRegressor model\n",
        "lgb = LGBMRegressor(force_col_wise=True)\n",
        "\n",
        "# Use GridSearchCV to perform a grid search over the parameter grid\n",
        "grid_search = GridSearchCV(lgb, param_grid=param_grid, cv=10, scoring='r2')\n",
        "\n",
        "# Fit the model to the training data\n",
        "grid_search.fit(X, y)"
      ],
      "metadata": {
        "id": "uPd99MAANx7w"
      },
      "execution_count": null,
      "outputs": []
    },
    {
      "cell_type": "code",
      "source": [
        "# Get the best parameters from the grid search\n",
        "\n",
        "lgb_optimal_model = grid_search.best_estimator_\n",
        "lgb_optimal_model"
      ],
      "metadata": {
        "id": "kZ2jvaJvOSnK"
      },
      "execution_count": null,
      "outputs": []
    },
    {
      "cell_type": "code",
      "source": [
        "# Predict on model and visualisation of actual and predicted values\n",
        "\n",
        "predict(lgb_optimal_model, 'LGB')"
      ],
      "metadata": {
        "id": "7FXztzuNOYlK"
      },
      "execution_count": null,
      "outputs": []
    },
    {
      "cell_type": "markdown",
      "source": [
        "### Cross Validation Scores"
      ],
      "metadata": {
        "id": "oPY1eG9O0XuG"
      }
    },
    {
      "cell_type": "code",
      "source": [
        "# Cross Validation Scores\n",
        "\n",
        "from sklearn.model_selection import cross_val_score\n",
        "score=cross_val_score(estimator=lgb_optimal_model,X=X_train,y=y_train)\n",
        "print(\"Cross Validation Scores are: {:.2f}%\".format(score.mean()*100))\n",
        "print(\"Average Cross Validation score :{}\".format(score.mean()))\n",
        "print(\"standart deviation :{:.2f}\".format(score.std()*100))"
      ],
      "metadata": {
        "id": "CzpR-h8KZTdZ"
      },
      "execution_count": null,
      "outputs": []
    },
    {
      "cell_type": "markdown",
      "source": [
        "Which hyperparameter optimization technique have you used and why?"
      ],
      "metadata": {
        "id": "SeA8zO_D12Vt"
      }
    },
    {
      "cell_type": "markdown",
      "source": [
        "Answer Here."
      ],
      "metadata": {
        "id": "Mus0xnHe186A"
      }
    },
    {
      "cell_type": "markdown",
      "source": [
        "- We used GridSearchCV to perform a grid search over the parameter grid.\n",
        "-  GridSearchCV is a popular hyperparameter optimization technique that is used to find the best combination of hyperparameters for a given model.\n",
        "- It works by iteratively training the model on all possible combinations of hyperparameters in the grid,\n",
        "  and then selecting the combination that gives the best performance on the validation set."
      ],
      "metadata": {
        "id": "ecVwjLoJj68V"
      }
    },
    {
      "cell_type": "markdown",
      "source": [
        "Have you seen any improvement? Note down the improvement with updates Evaluation metric Score Chart."
      ],
      "metadata": {
        "id": "eNsVOitO16Is"
      }
    },
    {
      "cell_type": "markdown",
      "source": [
        "Answer Here."
      ],
      "metadata": {
        "id": "gBJLTeJh1-qp"
      }
    },
    {
      "cell_type": "markdown",
      "source": [
        "\n",
        "- Conclusion\n",
        " - Based on the evaluation metrics, the LightGBM model outperforms the other models in terms of R-squared, Mean Absolute Error, Mean Squared Error, and Root Mean Squared Error.\n",
        " - Therefore, the LightGBM model is the best model for predicting the number of events that will occur on a given day."
      ],
      "metadata": {
        "id": "c9KaIJr2nhUt"
      }
    },
    {
      "cell_type": "markdown",
      "source": [
        "## Model Explainability"
      ],
      "metadata": {
        "id": "UjuLqO5uHken"
      }
    },
    {
      "cell_type": "markdown",
      "source": [
        "### Explain the feature importance using any model explainability tool?"
      ],
      "metadata": {
        "id": "XssMvHwH450B"
      }
    },
    {
      "cell_type": "code",
      "source": [
        "# feature importance\n",
        "importances = lgb_optimal_model.feature_importances_\n",
        "\n",
        "#Creating a dictonary\n",
        "importance_dict = {'Feature' : list(X.columns),\n",
        "                   'Feature Importance' : importances}\n",
        "\n",
        "#Creating the dataframe\n",
        "importance = pd.DataFrame(importance_dict)\n",
        "sorting_features = importance.sort_values(by=['Feature Importance'],ascending=False)\n",
        "sorting_features"
      ],
      "metadata": {
        "id": "131-VL0FOpGL"
      },
      "execution_count": null,
      "outputs": []
    },
    {
      "cell_type": "code",
      "source": [
        "# plotting feature importance graph\n",
        "\n",
        "plt.figure(figsize=(15,12))\n",
        "bar=sns.barplot(x='Feature Importance', y='Feature', data=sorting_features, color='blue')\n",
        "bar.set_title('Important Features')\n",
        "plt.show()"
      ],
      "metadata": {
        "id": "KyKn_sgQOwek"
      },
      "execution_count": null,
      "outputs": []
    },
    {
      "cell_type": "markdown",
      "source": [
        "\n",
        "- The feature importance graph shows the relative importance of each feature in the model.\n",
        "- The more important a feature is, the higher it is ranked in the graph.\n",
        "- The features at the top of the graph are the most important features for predicting the target variable,\n",
        "- while the features at the bottom of the graph are the least important features.\n",
        "- In this case, the most important features are 'year', 'month', 'day', and 'hour'.\n",
        "- These features are all related to the date and time of the event,\n",
        "  which is not surprising since the model is predicting the number of events that will occur on a given day.\n",
        "- The least important features are 'temperature', 'humidity', and 'wind speed'.\n",
        "- These features are not as important for predicting the number of events since they are not directly related to the date and time of the event."
      ],
      "metadata": {
        "id": "nGb7etHjk98M"
      }
    },
    {
      "cell_type": "markdown",
      "source": [
        "# **Model Result**"
      ],
      "metadata": {
        "id": "R9CVH_-vOzWS"
      }
    },
    {
      "cell_type": "code",
      "source": [
        "# converting the model_result list into DataFrame\n",
        "model_result = pd.DataFrame(model_result)\n",
        "\n",
        "# sorting the values by test R2 score\n",
        "model_result.sort_values(by='test R2', ascending=False)"
      ],
      "metadata": {
        "id": "62O1GYHoPS9p"
      },
      "execution_count": null,
      "outputs": []
    },
    {
      "cell_type": "markdown",
      "source": [
        "Explain each evaluation metric's indiction towards business and the business impact of the ML model used."
      ],
      "metadata": {
        "id": "tXWWgvoR4XuM"
      }
    },
    {
      "cell_type": "markdown",
      "source": [
        "- The business impact of the ML model can be assessed by considering the following factors:\n",
        "\n",
        " - * **Cost savings:** The ML model can be used to predict the number of events that will occur on a given day,\n",
        "which can help businesses to save money by reducing the number of resources that they need to allocate to each event.\n",
        " - * **Revenue generation:** The ML model can be used to predict the number of events that will occur on a given day,\n",
        "which can help businesses to generate more revenue by increasing the number of resources that they allocate to each event.\n",
        " - * **Customer satisfaction:** The ML model can be used to predict the number of events that will occur on a given day,\n",
        "which can help businesses to improve customer satisfaction by ensuring that they have enough resources available\n",
        " to meet the needs of their customers.\n",
        " - * **Business intelligence:** The ML model can be used to provide businesses with insights into the factors that\n",
        "are most likely to influence the number of events that occur on a given day.\n",
        "This information can be used to make better business decisions."
      ],
      "metadata": {
        "id": "-w1wV7DWns1q"
      }
    },
    {
      "cell_type": "markdown",
      "source": [
        "## Performance of all the models"
      ],
      "metadata": {
        "id": "HXXzlvmu5Y7_"
      }
    },
    {
      "cell_type": "code",
      "source": [
        "# plotting graph to compare model performance of all the models\n",
        "\n",
        "fig, ax = plt.subplots(1,2, figsize=(20,10))\n",
        "sns.barplot(x=model_result['model'], y=model_result['test R2'], ax=ax[0])           # Model Vs test R2\n",
        "sns.barplot(x=model_result['model'], y=model_result['test Adj R2'], ax=ax[1])       # Model Vs test Adj R2\n",
        "plt.tight_layout()"
      ],
      "metadata": {
        "id": "B9BVzXq7SfEW"
      },
      "execution_count": null,
      "outputs": []
    },
    {
      "cell_type": "markdown",
      "source": [
        "### 1. Which Evaluation metrics did you consider for a positive business impact and why?"
      ],
      "metadata": {
        "id": "h_CCil-SKHpo"
      }
    },
    {
      "cell_type": "markdown",
      "source": [
        "Answer Here."
      ],
      "metadata": {
        "id": "jHVz9hHDKFms"
      }
    },
    {
      "cell_type": "markdown",
      "source": [
        "  - **R-squared:** The R-squared value measures the proportion of variance in the target variable that is explained by the model.\n",
        "  A higher R-squared value indicates that the model is more accurate.\n",
        "\n",
        "  - **Mean absolute error (MAE):** The MAE measures the average absolute difference between the predicted values and the actual values.\n",
        "  A lower MAE value indicates that the model is more accurate.\n",
        "  - **Mean squared error (MSE):** The MSE measures the average squared difference between the predicted values and the actual values.\n",
        "  A lower MSE value indicates that the model is more accurate.\n",
        "  - **Root mean squared error (RMSE):** The RMSE is the square root of the MSE.\n",
        "  A lower RMSE value indicates that the model is more accurate.\n",
        "  - **Accuracy:** Accuracy is the percentage of predictions that are correct.\n",
        "  A higher accuracy value indicates that the model is more accurate.\n",
        "\n",
        "We considered these evaluation metrics because they are all commonly used in machine learning to assess the performance of models.\n",
        "They provide a comprehensive view of the model's performance,\n",
        " and they can help us to understand how well the model will perform in a real-world setting."
      ],
      "metadata": {
        "id": "oJ1wjQEe_W0x"
      }
    },
    {
      "cell_type": "markdown",
      "source": [
        "### 2. Which ML model did you choose from the above created models as your final prediction model and why?"
      ],
      "metadata": {
        "id": "cBFFvTBNJzUa"
      }
    },
    {
      "cell_type": "markdown",
      "source": [
        "Answer Here."
      ],
      "metadata": {
        "id": "6ksF5Q1LKTVm"
      }
    },
    {
      "cell_type": "markdown",
      "source": [
        "\n",
        "The LightGBM model is the best model for predicting the number of events that will occur on a given day.\n",
        "\n",
        "It has the highest R-squared value, the lowest MAE, MSE, and RMSE, and the highest accuracy."
      ],
      "metadata": {
        "id": "FLdopL9o_vC7"
      }
    },
    {
      "cell_type": "markdown",
      "source": [
        "### 3. Explain the model which you have used and the feature importance using any model explainability tool?"
      ],
      "metadata": {
        "id": "HvGl1hHyA_VK"
      }
    },
    {
      "cell_type": "markdown",
      "source": [
        "Answer Here."
      ],
      "metadata": {
        "id": "YnvVTiIxBL-C"
      }
    },
    {
      "cell_type": "markdown",
      "source": [
        "\n",
        "- The feature importance graph shows the relative importance of each feature in the model.\n",
        "- The more important a feature is, the higher it is ranked in the graph.\n",
        "- The features at the top of the graph are the most important features for predicting the target variable,\n",
        "- while the features at the bottom of the graph are the least important features.\n",
        "- In this case, the most important features are 'year', 'month', 'day', and 'hour' and are directly related to seasons, functional day, holiday, week ect.\n",
        "- These features are all related to the date and time of the event,\n",
        "  which is not surprising since the model is predicting the number of events that will occur on a given day.\n",
        "- The least important features are 'temperature', 'humidity', and 'wind speed'.\n",
        "- These features are not as important for predicting the number of events since they are not directly related to the date and time of the event."
      ],
      "metadata": {
        "id": "pzdHcQURuK8O"
      }
    },
    {
      "cell_type": "markdown",
      "source": [
        "## ***8.*** ***Future Work (Optional)***"
      ],
      "metadata": {
        "id": "EyNgTHvd2WFk"
      }
    },
    {
      "cell_type": "markdown",
      "source": [
        "### 1. Save the best performing ml model in a pickle file or joblib file format for deployment process.\n"
      ],
      "metadata": {
        "id": "KH5McJBi2d8v"
      }
    },
    {
      "cell_type": "code",
      "source": [
        "# Save the File"
      ],
      "metadata": {
        "id": "bQIANRl32f4J"
      },
      "execution_count": null,
      "outputs": []
    },
    {
      "cell_type": "code",
      "source": [
        "from sklearn.compose import ColumnTransformer, make_column_transformer\n",
        "from sklearn.pipeline import make_pipeline,Pipeline\n",
        "from sklearn.preprocessing import OneHotEncoder,OrdinalEncoder"
      ],
      "metadata": {
        "id": "bOsoyqsH7AjD"
      },
      "execution_count": null,
      "outputs": []
    },
    {
      "cell_type": "code",
      "source": [
        "bike_data.columns"
      ],
      "metadata": {
        "id": "RswWn5PK7Ghw"
      },
      "execution_count": null,
      "outputs": []
    },
    {
      "cell_type": "code",
      "source": [
        "x = bike_data.drop(columns=['Rented_Bike_Count'])\n",
        "y = bike_data['Rented_Bike_Count']"
      ],
      "metadata": {
        "id": "3JNQ6tH0FG08"
      },
      "execution_count": null,
      "outputs": []
    },
    {
      "cell_type": "code",
      "source": [
        "x_train,x_test,y_train,y_test = train_test_split(x,y,test_size=0.20,random_state=0)"
      ],
      "metadata": {
        "id": "BWa2cNG_GJAv"
      },
      "execution_count": null,
      "outputs": []
    },
    {
      "cell_type": "code",
      "source": [
        "transformer = make_column_transformer(\n",
        "    (OneHotEncoder(handle_unknown='ignore',sparse=False),['Seasons','Holiday','Functioning_Day', 'month', 'Hour',\n",
        "                                                          'weekdays_weekend','Temperature', 'Humidity', 'Wind_speed',\n",
        "       'Visibility', 'Solar_Radiation', 'Rainfall', 'Snowfall',]),\n",
        "remainder='passthrough')"
      ],
      "metadata": {
        "id": "dU4Z7j3uGPqx"
      },
      "execution_count": null,
      "outputs": []
    },
    {
      "cell_type": "code",
      "source": [
        "scaling = ColumnTransformer([\n",
        "    ('scale',MinMaxScaler(),slice(0,30))\n",
        "])"
      ],
      "metadata": {
        "id": "HbXp_qf2GW4M"
      },
      "execution_count": null,
      "outputs": []
    },
    {
      "cell_type": "code",
      "source": [
        "maketransform = make_pipeline(transformer,scaling,lgb_optimal_model)"
      ],
      "metadata": {
        "id": "cBOJOp0TGfMS"
      },
      "execution_count": null,
      "outputs": []
    },
    {
      "cell_type": "code",
      "execution_count": null,
      "metadata": {
        "id": "Bx-vj2P_1G_q"
      },
      "outputs": [],
      "source": [
        "maketransform.fit(x_train,y_train)"
      ]
    },
    {
      "cell_type": "code",
      "source": [
        "# export\n",
        "import pickle\n",
        "pickle.dump(maketransform,open('bike_data','wb'))"
      ],
      "metadata": {
        "id": "0iKfUqGcTir0"
      },
      "execution_count": null,
      "outputs": []
    },
    {
      "cell_type": "markdown",
      "source": [
        "### 2. Again Load the saved model file and try to predict unseen data for a sanity check.\n"
      ],
      "metadata": {
        "id": "iW_Lq9qf2h6X"
      }
    },
    {
      "cell_type": "code",
      "source": [
        "# Load the File and predict unseen data."
      ],
      "metadata": {
        "id": "oEXk9ydD2nVC"
      },
      "execution_count": null,
      "outputs": []
    },
    {
      "cell_type": "code",
      "source": [
        "pickled_model = pickle.load(open('bike_data', 'rb'))\n",
        "pickled_model.predict(x_test)"
      ],
      "metadata": {
        "id": "H7d3mvDjWfNI"
      },
      "execution_count": null,
      "outputs": []
    },
    {
      "cell_type": "markdown",
      "source": [
        "### ***Congrats! Your model is successfully created and ready for deployment on a live server for a real user interaction !!!***"
      ],
      "metadata": {
        "id": "-Kee-DAl2viO"
      }
    },
    {
      "cell_type": "markdown",
      "source": [
        "# **Conclusion**"
      ],
      "metadata": {
        "id": "gCX9965dhzqZ"
      }
    },
    {
      "cell_type": "markdown",
      "source": [
        "Write the conclusion here."
      ],
      "metadata": {
        "id": "Fjb1IsQkh3yE"
      }
    },
    {
      "cell_type": "markdown",
      "source": [
        "\n",
        "In conclusion, we have successfully created a machine learning model to predict the number of events that will occur on a given day.\n",
        "\n",
        "We used a variety of features, including the weather, the day of the week, hour, functioningday and the holiday season.\n",
        "\n",
        "Our model achieved a high accuracy score, and we believe that it could be used to help businesses make better decisions about how to allocate their resources."
      ],
      "metadata": {
        "id": "FfHHI7MmBpQB"
      }
    },
    {
      "cell_type": "markdown",
      "source": [
        "### ***Hurrah! You have successfully completed your Machine Learning Capstone Project !!!***"
      ],
      "metadata": {
        "id": "gIfDvo9L0UH2"
      }
    }
  ]
}